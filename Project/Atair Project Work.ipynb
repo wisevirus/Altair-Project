{
 "cells": [
  {
   "cell_type": "code",
   "execution_count": 1,
   "metadata": {},
   "outputs": [],
   "source": [
    "import pandas as pd\n",
    "import numpy as np\n",
    "import altair as alt\n"
   ]
  },
  {
   "cell_type": "code",
   "execution_count": 2,
   "metadata": {},
   "outputs": [
    {
     "data": {
      "text/html": [
       "<div>\n",
       "<style scoped>\n",
       "    .dataframe tbody tr th:only-of-type {\n",
       "        vertical-align: middle;\n",
       "    }\n",
       "\n",
       "    .dataframe tbody tr th {\n",
       "        vertical-align: top;\n",
       "    }\n",
       "\n",
       "    .dataframe thead th {\n",
       "        text-align: right;\n",
       "    }\n",
       "</style>\n",
       "<table border=\"1\" class=\"dataframe\">\n",
       "  <thead>\n",
       "    <tr style=\"text-align: right;\">\n",
       "      <th></th>\n",
       "      <th>COUNTRIES</th>\n",
       "      <th>JANUARY DEPARTURE</th>\n",
       "      <th>FEBRUARY DEPARTURE</th>\n",
       "      <th>MARCH DEPARTURE</th>\n",
       "      <th>APRIL DEPARTURE</th>\n",
       "      <th>MAY DEPARTURE</th>\n",
       "      <th>JUNE DEPARTURE</th>\n",
       "      <th>JULY DEPARTURE</th>\n",
       "      <th>AUGUST DEPARTURE</th>\n",
       "      <th>SEPTEMBER DEPARTURE</th>\n",
       "      <th>OCTOBER DEPARTURE</th>\n",
       "      <th>NOVEMBER DEPARTURE</th>\n",
       "    </tr>\n",
       "  </thead>\n",
       "  <tbody>\n",
       "    <tr>\n",
       "      <td>0</td>\n",
       "      <td>IVORIANS</td>\n",
       "      <td>1634</td>\n",
       "      <td>1662</td>\n",
       "      <td>3559</td>\n",
       "      <td>1517</td>\n",
       "      <td>1673</td>\n",
       "      <td>1727</td>\n",
       "      <td>1954</td>\n",
       "      <td>2351</td>\n",
       "      <td>2201</td>\n",
       "      <td>1677</td>\n",
       "      <td>2172</td>\n",
       "    </tr>\n",
       "    <tr>\n",
       "      <td>1</td>\n",
       "      <td>BURKINESE</td>\n",
       "      <td>1780</td>\n",
       "      <td>1693</td>\n",
       "      <td>3482</td>\n",
       "      <td>1394</td>\n",
       "      <td>1653</td>\n",
       "      <td>1494</td>\n",
       "      <td>1482</td>\n",
       "      <td>2750</td>\n",
       "      <td>1714</td>\n",
       "      <td>1416</td>\n",
       "      <td>1404</td>\n",
       "    </tr>\n",
       "    <tr>\n",
       "      <td>2</td>\n",
       "      <td>NIGERIANS</td>\n",
       "      <td>7910</td>\n",
       "      <td>6490</td>\n",
       "      <td>13558</td>\n",
       "      <td>9320</td>\n",
       "      <td>9421</td>\n",
       "      <td>8867</td>\n",
       "      <td>8969</td>\n",
       "      <td>9554</td>\n",
       "      <td>8533</td>\n",
       "      <td>7583</td>\n",
       "      <td>8051</td>\n",
       "    </tr>\n",
       "    <tr>\n",
       "      <td>3</td>\n",
       "      <td>LIBERRIANS</td>\n",
       "      <td>757</td>\n",
       "      <td>734</td>\n",
       "      <td>1498</td>\n",
       "      <td>1215</td>\n",
       "      <td>1414</td>\n",
       "      <td>1459</td>\n",
       "      <td>1520</td>\n",
       "      <td>1368</td>\n",
       "      <td>1402</td>\n",
       "      <td>1230</td>\n",
       "      <td>1604</td>\n",
       "    </tr>\n",
       "    <tr>\n",
       "      <td>4</td>\n",
       "      <td>SOUTH AFRICANS</td>\n",
       "      <td>1415</td>\n",
       "      <td>1563</td>\n",
       "      <td>1767</td>\n",
       "      <td>1622</td>\n",
       "      <td>1760</td>\n",
       "      <td>1996</td>\n",
       "      <td>1984</td>\n",
       "      <td>1898</td>\n",
       "      <td>1877</td>\n",
       "      <td>2104</td>\n",
       "      <td>1993</td>\n",
       "    </tr>\n",
       "    <tr>\n",
       "      <td>5</td>\n",
       "      <td>TOGOLESE</td>\n",
       "      <td>873</td>\n",
       "      <td>702</td>\n",
       "      <td>1581</td>\n",
       "      <td>906</td>\n",
       "      <td>856</td>\n",
       "      <td>888</td>\n",
       "      <td>1081</td>\n",
       "      <td>1230</td>\n",
       "      <td>1285</td>\n",
       "      <td>1045</td>\n",
       "      <td>1074</td>\n",
       "    </tr>\n",
       "    <tr>\n",
       "      <td>6</td>\n",
       "      <td>FRENCH</td>\n",
       "      <td>905</td>\n",
       "      <td>1117</td>\n",
       "      <td>1126</td>\n",
       "      <td>1350</td>\n",
       "      <td>1064</td>\n",
       "      <td>1145</td>\n",
       "      <td>1177</td>\n",
       "      <td>1246</td>\n",
       "      <td>1074</td>\n",
       "      <td>1187</td>\n",
       "      <td>1201</td>\n",
       "    </tr>\n",
       "    <tr>\n",
       "      <td>7</td>\n",
       "      <td>GERMANS</td>\n",
       "      <td>1548</td>\n",
       "      <td>1298</td>\n",
       "      <td>1555</td>\n",
       "      <td>1704</td>\n",
       "      <td>1253</td>\n",
       "      <td>1184</td>\n",
       "      <td>1614</td>\n",
       "      <td>2454</td>\n",
       "      <td>1968</td>\n",
       "      <td>1763</td>\n",
       "      <td>1476</td>\n",
       "    </tr>\n",
       "    <tr>\n",
       "      <td>8</td>\n",
       "      <td>DUTCH</td>\n",
       "      <td>1250</td>\n",
       "      <td>903</td>\n",
       "      <td>1049</td>\n",
       "      <td>1079</td>\n",
       "      <td>1083</td>\n",
       "      <td>1062</td>\n",
       "      <td>1440</td>\n",
       "      <td>2028</td>\n",
       "      <td>1056</td>\n",
       "      <td>1213</td>\n",
       "      <td>1217</td>\n",
       "    </tr>\n",
       "    <tr>\n",
       "      <td>9</td>\n",
       "      <td>BRITISH</td>\n",
       "      <td>4798</td>\n",
       "      <td>3257</td>\n",
       "      <td>3888</td>\n",
       "      <td>1854</td>\n",
       "      <td>3452</td>\n",
       "      <td>3649</td>\n",
       "      <td>4463</td>\n",
       "      <td>6556</td>\n",
       "      <td>4887</td>\n",
       "      <td>4226</td>\n",
       "      <td>4407</td>\n",
       "    </tr>\n",
       "    <tr>\n",
       "      <td>10</td>\n",
       "      <td>AMERICANS</td>\n",
       "      <td>4987</td>\n",
       "      <td>3848</td>\n",
       "      <td>4956</td>\n",
       "      <td>2118</td>\n",
       "      <td>6113</td>\n",
       "      <td>6614</td>\n",
       "      <td>7590</td>\n",
       "      <td>8826</td>\n",
       "      <td>6314</td>\n",
       "      <td>5590</td>\n",
       "      <td>5946</td>\n",
       "    </tr>\n",
       "    <tr>\n",
       "      <td>11</td>\n",
       "      <td>CANADIANS</td>\n",
       "      <td>1074</td>\n",
       "      <td>937</td>\n",
       "      <td>1048</td>\n",
       "      <td>408</td>\n",
       "      <td>1255</td>\n",
       "      <td>1068</td>\n",
       "      <td>1085</td>\n",
       "      <td>997</td>\n",
       "      <td>907</td>\n",
       "      <td>918</td>\n",
       "      <td>1033</td>\n",
       "    </tr>\n",
       "    <tr>\n",
       "      <td>12</td>\n",
       "      <td>CHINESE</td>\n",
       "      <td>1539</td>\n",
       "      <td>1987</td>\n",
       "      <td>1057</td>\n",
       "      <td>1388</td>\n",
       "      <td>1397</td>\n",
       "      <td>1479</td>\n",
       "      <td>1666</td>\n",
       "      <td>1540</td>\n",
       "      <td>1620</td>\n",
       "      <td>1232</td>\n",
       "      <td>1263</td>\n",
       "    </tr>\n",
       "    <tr>\n",
       "      <td>13</td>\n",
       "      <td>INDIANS</td>\n",
       "      <td>1465</td>\n",
       "      <td>1525</td>\n",
       "      <td>1710</td>\n",
       "      <td>1839</td>\n",
       "      <td>1883</td>\n",
       "      <td>2044</td>\n",
       "      <td>2204</td>\n",
       "      <td>1764</td>\n",
       "      <td>1739</td>\n",
       "      <td>1874</td>\n",
       "      <td>1865</td>\n",
       "    </tr>\n",
       "    <tr>\n",
       "      <td>14</td>\n",
       "      <td>LEBANESE</td>\n",
       "      <td>531</td>\n",
       "      <td>562</td>\n",
       "      <td>622</td>\n",
       "      <td>766</td>\n",
       "      <td>614</td>\n",
       "      <td>956</td>\n",
       "      <td>1137</td>\n",
       "      <td>749</td>\n",
       "      <td>681</td>\n",
       "      <td>603</td>\n",
       "      <td>548</td>\n",
       "    </tr>\n",
       "    <tr>\n",
       "      <td>15</td>\n",
       "      <td>AUSTRIALIANS</td>\n",
       "      <td>428</td>\n",
       "      <td>449</td>\n",
       "      <td>435</td>\n",
       "      <td>139</td>\n",
       "      <td>430</td>\n",
       "      <td>444</td>\n",
       "      <td>456</td>\n",
       "      <td>380</td>\n",
       "      <td>419</td>\n",
       "      <td>475</td>\n",
       "      <td>445</td>\n",
       "    </tr>\n",
       "    <tr>\n",
       "      <td>16</td>\n",
       "      <td>OTHER NATIONALS</td>\n",
       "      <td>10364</td>\n",
       "      <td>9920</td>\n",
       "      <td>185</td>\n",
       "      <td>19203</td>\n",
       "      <td>12232</td>\n",
       "      <td>12628</td>\n",
       "      <td>13097</td>\n",
       "      <td>13876</td>\n",
       "      <td>12855</td>\n",
       "      <td>12216</td>\n",
       "      <td>12648</td>\n",
       "    </tr>\n",
       "  </tbody>\n",
       "</table>\n",
       "</div>"
      ],
      "text/plain": [
       "          COUNTRIES  JANUARY DEPARTURE  FEBRUARY DEPARTURE  MARCH DEPARTURE  \\\n",
       "0          IVORIANS               1634                1662             3559   \n",
       "1         BURKINESE               1780                1693             3482   \n",
       "2         NIGERIANS               7910                6490            13558   \n",
       "3        LIBERRIANS                757                 734             1498   \n",
       "4    SOUTH AFRICANS               1415                1563             1767   \n",
       "5          TOGOLESE                873                 702             1581   \n",
       "6            FRENCH                905                1117             1126   \n",
       "7           GERMANS               1548                1298             1555   \n",
       "8             DUTCH               1250                 903             1049   \n",
       "9           BRITISH               4798                3257             3888   \n",
       "10        AMERICANS               4987                3848             4956   \n",
       "11        CANADIANS               1074                 937             1048   \n",
       "12          CHINESE               1539                1987             1057   \n",
       "13          INDIANS               1465                1525             1710   \n",
       "14         LEBANESE                531                 562              622   \n",
       "15     AUSTRIALIANS                428                 449              435   \n",
       "16  OTHER NATIONALS              10364                9920              185   \n",
       "\n",
       "    APRIL DEPARTURE  MAY DEPARTURE  JUNE DEPARTURE  JULY DEPARTURE  \\\n",
       "0              1517           1673            1727            1954   \n",
       "1              1394           1653            1494            1482   \n",
       "2              9320           9421            8867            8969   \n",
       "3              1215           1414            1459            1520   \n",
       "4              1622           1760            1996            1984   \n",
       "5               906            856             888            1081   \n",
       "6              1350           1064            1145            1177   \n",
       "7              1704           1253            1184            1614   \n",
       "8              1079           1083            1062            1440   \n",
       "9              1854           3452            3649            4463   \n",
       "10             2118           6113            6614            7590   \n",
       "11              408           1255            1068            1085   \n",
       "12             1388           1397            1479            1666   \n",
       "13             1839           1883            2044            2204   \n",
       "14              766            614             956            1137   \n",
       "15              139            430             444             456   \n",
       "16            19203          12232           12628           13097   \n",
       "\n",
       "    AUGUST DEPARTURE  SEPTEMBER DEPARTURE  OCTOBER DEPARTURE  \\\n",
       "0               2351                 2201               1677   \n",
       "1               2750                 1714               1416   \n",
       "2               9554                 8533               7583   \n",
       "3               1368                 1402               1230   \n",
       "4               1898                 1877               2104   \n",
       "5               1230                 1285               1045   \n",
       "6               1246                 1074               1187   \n",
       "7               2454                 1968               1763   \n",
       "8               2028                 1056               1213   \n",
       "9               6556                 4887               4226   \n",
       "10              8826                 6314               5590   \n",
       "11               997                  907                918   \n",
       "12              1540                 1620               1232   \n",
       "13              1764                 1739               1874   \n",
       "14               749                  681                603   \n",
       "15               380                  419                475   \n",
       "16             13876                12855              12216   \n",
       "\n",
       "    NOVEMBER DEPARTURE  \n",
       "0                 2172  \n",
       "1                 1404  \n",
       "2                 8051  \n",
       "3                 1604  \n",
       "4                 1993  \n",
       "5                 1074  \n",
       "6                 1201  \n",
       "7                 1476  \n",
       "8                 1217  \n",
       "9                 4407  \n",
       "10                5946  \n",
       "11                1033  \n",
       "12                1263  \n",
       "13                1865  \n",
       "14                 548  \n",
       "15                 445  \n",
       "16               12648  "
      ]
     },
     "execution_count": 2,
     "metadata": {},
     "output_type": "execute_result"
    }
   ],
   "source": [
    "df = pd.read_csv(\"Monthly.csv\") \n",
    "df.rename({'JANUARY DEPARTURE':'JANUARY', 'FEBRUARY DEPARTURE':\"FEBRUARY\",'MARCH DEPARTURE':'MARCH', 'APRIL DEPARTURE':'APRIL', 'MAY DEPARTURE':'MAY', 'JUNE DEPARTURE':'JUNE','JULY DEPARTURE':\"JULY\", \n",
    " 'AUGUST DEPARTURE':'AUGUST', 'SEPTEMBER DEPARTURE':\"SEPTEMBER\",'OCTOBER DEPARTURE':'OCTOBER', 'NOVEMBER DEPARTURE':'NOVEMBER'}, axis=0, inplace=True)\n",
    "df"
   ]
  },
  {
   "cell_type": "code",
   "execution_count": 3,
   "metadata": {},
   "outputs": [
    {
     "data": {
      "text/plain": [
       "('IVORIANS',\n",
       " 'BURKINESE',\n",
       " 'NIGERIANS',\n",
       " 'LIBERRIANS',\n",
       " 'SOUTH AFRICANS',\n",
       " 'TOGOLESE',\n",
       " 'FRENCH',\n",
       " 'GERMANS',\n",
       " 'DUTCH',\n",
       " 'BRITISH',\n",
       " 'AMERICANS',\n",
       " 'CANADIANS',\n",
       " 'CHINESE',\n",
       " 'INDIANS',\n",
       " 'LEBANESE',\n",
       " 'AUSTRIALIANS',\n",
       " 'OTHER NATIONALS')"
      ]
     },
     "execution_count": 3,
     "metadata": {},
     "output_type": "execute_result"
    }
   ],
   "source": [
    "'IVORIANS','BURKINESE','NIGERIANS','LIBERRIANS','SOUTH AFRICANS','TOGOLESE','FRENCH','GERMANS','DUTCH','BRITISH','AMERICANS','CANADIANS','CHINESE','INDIANS','LEBANESE','AUSTRIALIANS','OTHER NATIONALS'\n"
   ]
  },
  {
   "cell_type": "markdown",
   "metadata": {},
   "source": [
    "Immigration Data-Departure \n",
    "The data entails the information about foreigners and citizens departure through Ghana approved boarders , especially Kotoka International Airport on monthly bases for the year 2015. The data collection and the information is based on a selected Nationality.\n",
    "\n",
    "QUESTIONS.\n",
    "\n",
    "1. In which month do foreigners frequently depart the country through the approved boarders.\n",
    "\n",
    "2. Which nationals depart the country the most in the year 2015 and in which month did they depart in their large numbers.\n",
    "\n",
    "3. What is the proportion of the departures who do not need visa to enter the country through the approved boarders.\n",
    "\n",
    "4. What is the proportion of other nationals that depart the country and in which month did they depart in their large numbers.\n",
    "\n",
    "5. Plot the distribution of the data in descending order of frequency. \n",
    "\n",
    "\n"
   ]
  },
  {
   "cell_type": "code",
   "execution_count": 4,
   "metadata": {},
   "outputs": [
    {
     "data": {
      "text/html": [
       "<div>\n",
       "<style scoped>\n",
       "    .dataframe tbody tr th:only-of-type {\n",
       "        vertical-align: middle;\n",
       "    }\n",
       "\n",
       "    .dataframe tbody tr th {\n",
       "        vertical-align: top;\n",
       "    }\n",
       "\n",
       "    .dataframe thead th {\n",
       "        text-align: right;\n",
       "    }\n",
       "</style>\n",
       "<table border=\"1\" class=\"dataframe\">\n",
       "  <thead>\n",
       "    <tr style=\"text-align: right;\">\n",
       "      <th></th>\n",
       "      <th>MONTHS</th>\n",
       "      <th>IVORIANS</th>\n",
       "      <th>BURKINESE</th>\n",
       "      <th>NIGERIANS</th>\n",
       "      <th>LIBERRIANS</th>\n",
       "      <th>SOUTH AFRICANS</th>\n",
       "      <th>TOGOLESE</th>\n",
       "      <th>FRENCH</th>\n",
       "      <th>GERMANS</th>\n",
       "      <th>DUTCH</th>\n",
       "      <th>BRITISH</th>\n",
       "      <th>AMERICANS</th>\n",
       "      <th>CANADIANS</th>\n",
       "      <th>CHINESE</th>\n",
       "      <th>INDIANS</th>\n",
       "      <th>LEBANESE</th>\n",
       "      <th>AUSTRIALIANS</th>\n",
       "      <th>OTHER NATIONALS</th>\n",
       "    </tr>\n",
       "  </thead>\n",
       "  <tbody>\n",
       "    <tr>\n",
       "      <td>0</td>\n",
       "      <td>JANUARY DEPARTURE</td>\n",
       "      <td>1634</td>\n",
       "      <td>1780</td>\n",
       "      <td>7910</td>\n",
       "      <td>757</td>\n",
       "      <td>1415</td>\n",
       "      <td>873</td>\n",
       "      <td>905</td>\n",
       "      <td>1548</td>\n",
       "      <td>1250</td>\n",
       "      <td>4798</td>\n",
       "      <td>4987</td>\n",
       "      <td>1074</td>\n",
       "      <td>1539</td>\n",
       "      <td>1465</td>\n",
       "      <td>531</td>\n",
       "      <td>428</td>\n",
       "      <td>10364</td>\n",
       "    </tr>\n",
       "    <tr>\n",
       "      <td>1</td>\n",
       "      <td>FEBRUARY DEPARTURE</td>\n",
       "      <td>1662</td>\n",
       "      <td>1693</td>\n",
       "      <td>6490</td>\n",
       "      <td>734</td>\n",
       "      <td>1563</td>\n",
       "      <td>702</td>\n",
       "      <td>1117</td>\n",
       "      <td>1298</td>\n",
       "      <td>903</td>\n",
       "      <td>3257</td>\n",
       "      <td>3848</td>\n",
       "      <td>937</td>\n",
       "      <td>1987</td>\n",
       "      <td>1525</td>\n",
       "      <td>562</td>\n",
       "      <td>449</td>\n",
       "      <td>9920</td>\n",
       "    </tr>\n",
       "    <tr>\n",
       "      <td>2</td>\n",
       "      <td>MARCH DEPARTURE</td>\n",
       "      <td>3559</td>\n",
       "      <td>3482</td>\n",
       "      <td>13558</td>\n",
       "      <td>1498</td>\n",
       "      <td>1767</td>\n",
       "      <td>1581</td>\n",
       "      <td>1126</td>\n",
       "      <td>1555</td>\n",
       "      <td>1049</td>\n",
       "      <td>3888</td>\n",
       "      <td>4956</td>\n",
       "      <td>1048</td>\n",
       "      <td>1057</td>\n",
       "      <td>1710</td>\n",
       "      <td>622</td>\n",
       "      <td>435</td>\n",
       "      <td>185</td>\n",
       "    </tr>\n",
       "  </tbody>\n",
       "</table>\n",
       "</div>"
      ],
      "text/plain": [
       "               MONTHS  IVORIANS  BURKINESE  NIGERIANS  LIBERRIANS  \\\n",
       "0   JANUARY DEPARTURE      1634       1780       7910         757   \n",
       "1  FEBRUARY DEPARTURE      1662       1693       6490         734   \n",
       "2     MARCH DEPARTURE      3559       3482      13558        1498   \n",
       "\n",
       "   SOUTH AFRICANS  TOGOLESE  FRENCH  GERMANS  DUTCH  BRITISH  AMERICANS  \\\n",
       "0            1415       873     905     1548   1250     4798       4987   \n",
       "1            1563       702    1117     1298    903     3257       3848   \n",
       "2            1767      1581    1126     1555   1049     3888       4956   \n",
       "\n",
       "   CANADIANS  CHINESE  INDIANS  LEBANESE  AUSTRIALIANS  OTHER NATIONALS  \n",
       "0       1074     1539     1465       531           428            10364  \n",
       "1        937     1987     1525       562           449             9920  \n",
       "2       1048     1057     1710       622           435              185  "
      ]
     },
     "execution_count": 4,
     "metadata": {},
     "output_type": "execute_result"
    }
   ],
   "source": [
    "reset = df.T.reset_index()\n",
    "reset.to_excel(\"trans.xlsx\")\n",
    "df1 = pd.read_csv(\"trans.csv\")\n",
    "df1.head(3)"
   ]
  },
  {
   "cell_type": "code",
   "execution_count": null,
   "metadata": {},
   "outputs": [],
   "source": []
  },
  {
   "cell_type": "code",
   "execution_count": null,
   "metadata": {},
   "outputs": [],
   "source": []
  },
  {
   "cell_type": "code",
   "execution_count": 7,
   "metadata": {},
   "outputs": [
    {
     "data": {
      "text/html": [
       "<div>\n",
       "<style scoped>\n",
       "    .dataframe tbody tr th:only-of-type {\n",
       "        vertical-align: middle;\n",
       "    }\n",
       "\n",
       "    .dataframe tbody tr th {\n",
       "        vertical-align: top;\n",
       "    }\n",
       "\n",
       "    .dataframe thead th {\n",
       "        text-align: right;\n",
       "    }\n",
       "</style>\n",
       "<table border=\"1\" class=\"dataframe\">\n",
       "  <thead>\n",
       "    <tr style=\"text-align: right;\">\n",
       "      <th></th>\n",
       "      <th>MONTHS</th>\n",
       "      <th>TOTAL_DEPARTURES</th>\n",
       "    </tr>\n",
       "  </thead>\n",
       "  <tbody>\n",
       "    <tr>\n",
       "      <td>0</td>\n",
       "      <td>IVORIANS</td>\n",
       "      <td>22127</td>\n",
       "    </tr>\n",
       "    <tr>\n",
       "      <td>1</td>\n",
       "      <td>BURKINESE</td>\n",
       "      <td>20262</td>\n",
       "    </tr>\n",
       "    <tr>\n",
       "      <td>2</td>\n",
       "      <td>NIGERIANS</td>\n",
       "      <td>98256</td>\n",
       "    </tr>\n",
       "    <tr>\n",
       "      <td>3</td>\n",
       "      <td>LIBERRIANS</td>\n",
       "      <td>14201</td>\n",
       "    </tr>\n",
       "    <tr>\n",
       "      <td>4</td>\n",
       "      <td>SOUTH AFRICANS</td>\n",
       "      <td>19979</td>\n",
       "    </tr>\n",
       "  </tbody>\n",
       "</table>\n",
       "</div>"
      ],
      "text/plain": [
       "           MONTHS TOTAL_DEPARTURES\n",
       "0        IVORIANS            22127\n",
       "1       BURKINESE            20262\n",
       "2       NIGERIANS            98256\n",
       "3      LIBERRIANS            14201\n",
       "4  SOUTH AFRICANS            19979"
      ]
     },
     "execution_count": 7,
     "metadata": {},
     "output_type": "execute_result"
    }
   ],
   "source": [
    "sum = pd.DataFrame(df1.sum(axis=0)).drop(['MONTHS'])\n",
    "sum.reset_index(inplace=True)\n",
    "sum.columns = ['MONTHS', 'TOTAL_DEPARTURES']\n",
    "sum.head(5)"
   ]
  },
  {
   "cell_type": "code",
   "execution_count": 8,
   "metadata": {},
   "outputs": [
    {
     "data": {
      "text/html": [
       "<div>\n",
       "<style scoped>\n",
       "    .dataframe tbody tr th:only-of-type {\n",
       "        vertical-align: middle;\n",
       "    }\n",
       "\n",
       "    .dataframe tbody tr th {\n",
       "        vertical-align: top;\n",
       "    }\n",
       "\n",
       "    .dataframe thead th {\n",
       "        text-align: right;\n",
       "    }\n",
       "</style>\n",
       "<table border=\"1\" class=\"dataframe\">\n",
       "  <thead>\n",
       "    <tr style=\"text-align: right;\">\n",
       "      <th></th>\n",
       "      <th>MONTHS</th>\n",
       "      <th>IVORIANS</th>\n",
       "      <th>BURKINESE</th>\n",
       "      <th>NIGERIANS</th>\n",
       "      <th>LIBERRIANS</th>\n",
       "      <th>SOUTH AFRICANS</th>\n",
       "      <th>TOGOLESE</th>\n",
       "      <th>FRENCH</th>\n",
       "      <th>GERMANS</th>\n",
       "      <th>DUTCH</th>\n",
       "      <th>BRITISH</th>\n",
       "      <th>AMERICANS</th>\n",
       "      <th>CANADIANS</th>\n",
       "      <th>CHINESE</th>\n",
       "      <th>INDIANS</th>\n",
       "      <th>LEBANESE</th>\n",
       "      <th>AUSTRIALIANS</th>\n",
       "      <th>OTHER NATIONALS</th>\n",
       "    </tr>\n",
       "  </thead>\n",
       "  <tbody>\n",
       "    <tr>\n",
       "      <td>0</td>\n",
       "      <td>JANUARY DEPARTURE</td>\n",
       "      <td>1634</td>\n",
       "      <td>1780</td>\n",
       "      <td>7910</td>\n",
       "      <td>757</td>\n",
       "      <td>1415</td>\n",
       "      <td>873</td>\n",
       "      <td>905</td>\n",
       "      <td>1548</td>\n",
       "      <td>1250</td>\n",
       "      <td>4798</td>\n",
       "      <td>4987</td>\n",
       "      <td>1074</td>\n",
       "      <td>1539</td>\n",
       "      <td>1465</td>\n",
       "      <td>531</td>\n",
       "      <td>428</td>\n",
       "      <td>10364</td>\n",
       "    </tr>\n",
       "    <tr>\n",
       "      <td>1</td>\n",
       "      <td>FEBRUARY DEPARTURE</td>\n",
       "      <td>1662</td>\n",
       "      <td>1693</td>\n",
       "      <td>6490</td>\n",
       "      <td>734</td>\n",
       "      <td>1563</td>\n",
       "      <td>702</td>\n",
       "      <td>1117</td>\n",
       "      <td>1298</td>\n",
       "      <td>903</td>\n",
       "      <td>3257</td>\n",
       "      <td>3848</td>\n",
       "      <td>937</td>\n",
       "      <td>1987</td>\n",
       "      <td>1525</td>\n",
       "      <td>562</td>\n",
       "      <td>449</td>\n",
       "      <td>9920</td>\n",
       "    </tr>\n",
       "    <tr>\n",
       "      <td>2</td>\n",
       "      <td>MARCH DEPARTURE</td>\n",
       "      <td>3559</td>\n",
       "      <td>3482</td>\n",
       "      <td>13558</td>\n",
       "      <td>1498</td>\n",
       "      <td>1767</td>\n",
       "      <td>1581</td>\n",
       "      <td>1126</td>\n",
       "      <td>1555</td>\n",
       "      <td>1049</td>\n",
       "      <td>3888</td>\n",
       "      <td>4956</td>\n",
       "      <td>1048</td>\n",
       "      <td>1057</td>\n",
       "      <td>1710</td>\n",
       "      <td>622</td>\n",
       "      <td>435</td>\n",
       "      <td>185</td>\n",
       "    </tr>\n",
       "    <tr>\n",
       "      <td>3</td>\n",
       "      <td>APRIL DEPARTURE</td>\n",
       "      <td>1517</td>\n",
       "      <td>1394</td>\n",
       "      <td>9320</td>\n",
       "      <td>1215</td>\n",
       "      <td>1622</td>\n",
       "      <td>906</td>\n",
       "      <td>1350</td>\n",
       "      <td>1704</td>\n",
       "      <td>1079</td>\n",
       "      <td>1854</td>\n",
       "      <td>2118</td>\n",
       "      <td>408</td>\n",
       "      <td>1388</td>\n",
       "      <td>1839</td>\n",
       "      <td>766</td>\n",
       "      <td>139</td>\n",
       "      <td>19203</td>\n",
       "    </tr>\n",
       "    <tr>\n",
       "      <td>4</td>\n",
       "      <td>MAY DEPARTURE</td>\n",
       "      <td>1673</td>\n",
       "      <td>1653</td>\n",
       "      <td>9421</td>\n",
       "      <td>1414</td>\n",
       "      <td>1760</td>\n",
       "      <td>856</td>\n",
       "      <td>1064</td>\n",
       "      <td>1253</td>\n",
       "      <td>1083</td>\n",
       "      <td>3452</td>\n",
       "      <td>6113</td>\n",
       "      <td>1255</td>\n",
       "      <td>1397</td>\n",
       "      <td>1883</td>\n",
       "      <td>614</td>\n",
       "      <td>430</td>\n",
       "      <td>12232</td>\n",
       "    </tr>\n",
       "    <tr>\n",
       "      <td>5</td>\n",
       "      <td>JUNE DEPARTURE</td>\n",
       "      <td>1727</td>\n",
       "      <td>1494</td>\n",
       "      <td>8867</td>\n",
       "      <td>1459</td>\n",
       "      <td>1996</td>\n",
       "      <td>888</td>\n",
       "      <td>1145</td>\n",
       "      <td>1184</td>\n",
       "      <td>1062</td>\n",
       "      <td>3649</td>\n",
       "      <td>6614</td>\n",
       "      <td>1068</td>\n",
       "      <td>1479</td>\n",
       "      <td>2044</td>\n",
       "      <td>956</td>\n",
       "      <td>444</td>\n",
       "      <td>12628</td>\n",
       "    </tr>\n",
       "    <tr>\n",
       "      <td>6</td>\n",
       "      <td>JULY DEPARTURE</td>\n",
       "      <td>1954</td>\n",
       "      <td>1482</td>\n",
       "      <td>8969</td>\n",
       "      <td>1520</td>\n",
       "      <td>1984</td>\n",
       "      <td>1081</td>\n",
       "      <td>1177</td>\n",
       "      <td>1614</td>\n",
       "      <td>1440</td>\n",
       "      <td>4463</td>\n",
       "      <td>7590</td>\n",
       "      <td>1085</td>\n",
       "      <td>1666</td>\n",
       "      <td>2204</td>\n",
       "      <td>1137</td>\n",
       "      <td>456</td>\n",
       "      <td>13097</td>\n",
       "    </tr>\n",
       "    <tr>\n",
       "      <td>7</td>\n",
       "      <td>AUGUST DEPARTURE</td>\n",
       "      <td>2351</td>\n",
       "      <td>2750</td>\n",
       "      <td>9554</td>\n",
       "      <td>1368</td>\n",
       "      <td>1898</td>\n",
       "      <td>1230</td>\n",
       "      <td>1246</td>\n",
       "      <td>2454</td>\n",
       "      <td>2028</td>\n",
       "      <td>6556</td>\n",
       "      <td>8826</td>\n",
       "      <td>997</td>\n",
       "      <td>1540</td>\n",
       "      <td>1764</td>\n",
       "      <td>749</td>\n",
       "      <td>380</td>\n",
       "      <td>13876</td>\n",
       "    </tr>\n",
       "    <tr>\n",
       "      <td>8</td>\n",
       "      <td>SEPTEMBER DEPARTURE</td>\n",
       "      <td>2201</td>\n",
       "      <td>1714</td>\n",
       "      <td>8533</td>\n",
       "      <td>1402</td>\n",
       "      <td>1877</td>\n",
       "      <td>1285</td>\n",
       "      <td>1074</td>\n",
       "      <td>1968</td>\n",
       "      <td>1056</td>\n",
       "      <td>4887</td>\n",
       "      <td>6314</td>\n",
       "      <td>907</td>\n",
       "      <td>1620</td>\n",
       "      <td>1739</td>\n",
       "      <td>681</td>\n",
       "      <td>419</td>\n",
       "      <td>12855</td>\n",
       "    </tr>\n",
       "    <tr>\n",
       "      <td>9</td>\n",
       "      <td>OCTOBER DEPARTURE</td>\n",
       "      <td>1677</td>\n",
       "      <td>1416</td>\n",
       "      <td>7583</td>\n",
       "      <td>1230</td>\n",
       "      <td>2104</td>\n",
       "      <td>1045</td>\n",
       "      <td>1187</td>\n",
       "      <td>1763</td>\n",
       "      <td>1213</td>\n",
       "      <td>4226</td>\n",
       "      <td>5590</td>\n",
       "      <td>918</td>\n",
       "      <td>1232</td>\n",
       "      <td>1874</td>\n",
       "      <td>603</td>\n",
       "      <td>475</td>\n",
       "      <td>12216</td>\n",
       "    </tr>\n",
       "    <tr>\n",
       "      <td>10</td>\n",
       "      <td>NOVEMBER DEPARTURE</td>\n",
       "      <td>2172</td>\n",
       "      <td>1404</td>\n",
       "      <td>8051</td>\n",
       "      <td>1604</td>\n",
       "      <td>1993</td>\n",
       "      <td>1074</td>\n",
       "      <td>1201</td>\n",
       "      <td>1476</td>\n",
       "      <td>1217</td>\n",
       "      <td>4407</td>\n",
       "      <td>5946</td>\n",
       "      <td>1033</td>\n",
       "      <td>1263</td>\n",
       "      <td>1865</td>\n",
       "      <td>548</td>\n",
       "      <td>445</td>\n",
       "      <td>12648</td>\n",
       "    </tr>\n",
       "  </tbody>\n",
       "</table>\n",
       "</div>"
      ],
      "text/plain": [
       "                 MONTHS  IVORIANS  BURKINESE  NIGERIANS  LIBERRIANS  \\\n",
       "0     JANUARY DEPARTURE      1634       1780       7910         757   \n",
       "1    FEBRUARY DEPARTURE      1662       1693       6490         734   \n",
       "2       MARCH DEPARTURE      3559       3482      13558        1498   \n",
       "3       APRIL DEPARTURE      1517       1394       9320        1215   \n",
       "4         MAY DEPARTURE      1673       1653       9421        1414   \n",
       "5        JUNE DEPARTURE      1727       1494       8867        1459   \n",
       "6        JULY DEPARTURE      1954       1482       8969        1520   \n",
       "7      AUGUST DEPARTURE      2351       2750       9554        1368   \n",
       "8   SEPTEMBER DEPARTURE      2201       1714       8533        1402   \n",
       "9     OCTOBER DEPARTURE      1677       1416       7583        1230   \n",
       "10   NOVEMBER DEPARTURE      2172       1404       8051        1604   \n",
       "\n",
       "    SOUTH AFRICANS  TOGOLESE  FRENCH  GERMANS  DUTCH  BRITISH  AMERICANS  \\\n",
       "0             1415       873     905     1548   1250     4798       4987   \n",
       "1             1563       702    1117     1298    903     3257       3848   \n",
       "2             1767      1581    1126     1555   1049     3888       4956   \n",
       "3             1622       906    1350     1704   1079     1854       2118   \n",
       "4             1760       856    1064     1253   1083     3452       6113   \n",
       "5             1996       888    1145     1184   1062     3649       6614   \n",
       "6             1984      1081    1177     1614   1440     4463       7590   \n",
       "7             1898      1230    1246     2454   2028     6556       8826   \n",
       "8             1877      1285    1074     1968   1056     4887       6314   \n",
       "9             2104      1045    1187     1763   1213     4226       5590   \n",
       "10            1993      1074    1201     1476   1217     4407       5946   \n",
       "\n",
       "    CANADIANS  CHINESE  INDIANS  LEBANESE  AUSTRIALIANS  OTHER NATIONALS  \n",
       "0        1074     1539     1465       531           428            10364  \n",
       "1         937     1987     1525       562           449             9920  \n",
       "2        1048     1057     1710       622           435              185  \n",
       "3         408     1388     1839       766           139            19203  \n",
       "4        1255     1397     1883       614           430            12232  \n",
       "5        1068     1479     2044       956           444            12628  \n",
       "6        1085     1666     2204      1137           456            13097  \n",
       "7         997     1540     1764       749           380            13876  \n",
       "8         907     1620     1739       681           419            12855  \n",
       "9         918     1232     1874       603           475            12216  \n",
       "10       1033     1263     1865       548           445            12648  "
      ]
     },
     "execution_count": 8,
     "metadata": {},
     "output_type": "execute_result"
    }
   ],
   "source": [
    "df1.T.reset_index(inplace=False)\n",
    "#del df1['MONTHS']\n",
    "df1"
   ]
  },
  {
   "cell_type": "code",
   "execution_count": 9,
   "metadata": {},
   "outputs": [
    {
     "data": {
      "text/html": [
       "<div>\n",
       "<style scoped>\n",
       "    .dataframe tbody tr th:only-of-type {\n",
       "        vertical-align: middle;\n",
       "    }\n",
       "\n",
       "    .dataframe tbody tr th {\n",
       "        vertical-align: top;\n",
       "    }\n",
       "\n",
       "    .dataframe thead th {\n",
       "        text-align: right;\n",
       "    }\n",
       "</style>\n",
       "<table border=\"1\" class=\"dataframe\">\n",
       "  <thead>\n",
       "    <tr style=\"text-align: right;\">\n",
       "      <th></th>\n",
       "      <th>date</th>\n",
       "      <th>precipitation</th>\n",
       "      <th>temp_max</th>\n",
       "      <th>temp_min</th>\n",
       "      <th>wind</th>\n",
       "      <th>weather</th>\n",
       "    </tr>\n",
       "  </thead>\n",
       "  <tbody>\n",
       "    <tr>\n",
       "      <td>0</td>\n",
       "      <td>2012-01-01</td>\n",
       "      <td>0.0</td>\n",
       "      <td>12.8</td>\n",
       "      <td>5.0</td>\n",
       "      <td>4.7</td>\n",
       "      <td>drizzle</td>\n",
       "    </tr>\n",
       "    <tr>\n",
       "      <td>1</td>\n",
       "      <td>2012-01-02</td>\n",
       "      <td>10.9</td>\n",
       "      <td>10.6</td>\n",
       "      <td>2.8</td>\n",
       "      <td>4.5</td>\n",
       "      <td>rain</td>\n",
       "    </tr>\n",
       "  </tbody>\n",
       "</table>\n",
       "</div>"
      ],
      "text/plain": [
       "        date  precipitation  temp_max  temp_min  wind  weather\n",
       "0 2012-01-01            0.0      12.8       5.0   4.7  drizzle\n",
       "1 2012-01-02           10.9      10.6       2.8   4.5     rain"
      ]
     },
     "execution_count": 9,
     "metadata": {},
     "output_type": "execute_result"
    }
   ],
   "source": [
    "import altair as alt\n",
    "from vega_datasets import data\n",
    "\n",
    "source = data.seattle_weather()\n",
    "\n",
    "line = alt.Chart(source).mark_line(\n",
    "    color='red',\n",
    "    size=3\n",
    ").transform_window(\n",
    "    rolling_mean='mean(temp_max)',\n",
    "    frame=[-15, 15]\n",
    ").encode(\n",
    "    x='date:T',\n",
    "    y='rolling_mean:Q'\n",
    ")\n",
    "\n",
    "points = alt.Chart(source).mark_point().encode(\n",
    "    x='date:T',\n",
    "    y=alt.Y('temp_max:Q',\n",
    "            axis=alt.Axis(title='Max Temp'))\n",
    ")\n",
    "\n",
    "points + line\n",
    "\n",
    "source.head(2)"
   ]
  },
  {
   "cell_type": "code",
   "execution_count": null,
   "metadata": {},
   "outputs": [],
   "source": []
  },
  {
   "cell_type": "code",
   "execution_count": 44,
   "metadata": {},
   "outputs": [
    {
     "data": {
      "text/html": [
       "<div>\n",
       "<style scoped>\n",
       "    .dataframe tbody tr th:only-of-type {\n",
       "        vertical-align: middle;\n",
       "    }\n",
       "\n",
       "    .dataframe tbody tr th {\n",
       "        vertical-align: top;\n",
       "    }\n",
       "\n",
       "    .dataframe thead th {\n",
       "        text-align: right;\n",
       "    }\n",
       "</style>\n",
       "<table border=\"1\" class=\"dataframe\">\n",
       "  <thead>\n",
       "    <tr style=\"text-align: right;\">\n",
       "      <th></th>\n",
       "      <th>MONTHS</th>\n",
       "      <th>DEPARTURES</th>\n",
       "      <th>COUNTRIES</th>\n",
       "      <th>PERCENTAGE</th>\n",
       "      <th>PROPORTION</th>\n",
       "    </tr>\n",
       "  </thead>\n",
       "  <tbody>\n",
       "    <tr>\n",
       "      <td>0</td>\n",
       "      <td>JANUARY</td>\n",
       "      <td>1634</td>\n",
       "      <td>IVORIANS</td>\n",
       "      <td>3.78</td>\n",
       "      <td>8.211824</td>\n",
       "    </tr>\n",
       "    <tr>\n",
       "      <td>1</td>\n",
       "      <td>JANUARY</td>\n",
       "      <td>1780</td>\n",
       "      <td>BURKINESE</td>\n",
       "      <td>4.11</td>\n",
       "      <td>NaN</td>\n",
       "    </tr>\n",
       "    <tr>\n",
       "      <td>2</td>\n",
       "      <td>JANUARY</td>\n",
       "      <td>7910</td>\n",
       "      <td>NIGERIANS</td>\n",
       "      <td>18.29</td>\n",
       "      <td>NaN</td>\n",
       "    </tr>\n",
       "    <tr>\n",
       "      <td>3</td>\n",
       "      <td>JANUARY</td>\n",
       "      <td>757</td>\n",
       "      <td>LIBERRIANS</td>\n",
       "      <td>1.75</td>\n",
       "      <td>NaN</td>\n",
       "    </tr>\n",
       "    <tr>\n",
       "      <td>4</td>\n",
       "      <td>JANUARY</td>\n",
       "      <td>1415</td>\n",
       "      <td>SOUTH AFRICANS</td>\n",
       "      <td>3.27</td>\n",
       "      <td>NaN</td>\n",
       "    </tr>\n",
       "    <tr>\n",
       "      <td>...</td>\n",
       "      <td>...</td>\n",
       "      <td>...</td>\n",
       "      <td>...</td>\n",
       "      <td>...</td>\n",
       "      <td>...</td>\n",
       "    </tr>\n",
       "    <tr>\n",
       "      <td>182</td>\n",
       "      <td>SEPTEMBER</td>\n",
       "      <td>1620</td>\n",
       "      <td>CHINESE</td>\n",
       "      <td>3.21</td>\n",
       "      <td>NaN</td>\n",
       "    </tr>\n",
       "    <tr>\n",
       "      <td>183</td>\n",
       "      <td>SEPTEMBER</td>\n",
       "      <td>1739</td>\n",
       "      <td>INDIANS</td>\n",
       "      <td>3.44</td>\n",
       "      <td>NaN</td>\n",
       "    </tr>\n",
       "    <tr>\n",
       "      <td>184</td>\n",
       "      <td>SEPTEMBER</td>\n",
       "      <td>681</td>\n",
       "      <td>LEBANESE</td>\n",
       "      <td>1.35</td>\n",
       "      <td>NaN</td>\n",
       "    </tr>\n",
       "    <tr>\n",
       "      <td>185</td>\n",
       "      <td>SEPTEMBER</td>\n",
       "      <td>419</td>\n",
       "      <td>AUSTRIALIANS</td>\n",
       "      <td>0.83</td>\n",
       "      <td>NaN</td>\n",
       "    </tr>\n",
       "    <tr>\n",
       "      <td>186</td>\n",
       "      <td>SEPTEMBER</td>\n",
       "      <td>12855</td>\n",
       "      <td>OTHER NATIONALS</td>\n",
       "      <td>25.44</td>\n",
       "      <td>NaN</td>\n",
       "    </tr>\n",
       "  </tbody>\n",
       "</table>\n",
       "<p>187 rows × 5 columns</p>\n",
       "</div>"
      ],
      "text/plain": [
       "         MONTHS  DEPARTURES        COUNTRIES  PERCENTAGE  PROPORTION\n",
       "0       JANUARY        1634         IVORIANS        3.78    8.211824\n",
       "1       JANUARY        1780        BURKINESE        4.11         NaN\n",
       "2       JANUARY        7910        NIGERIANS       18.29         NaN\n",
       "3       JANUARY         757       LIBERRIANS        1.75         NaN\n",
       "4       JANUARY        1415   SOUTH AFRICANS        3.27         NaN\n",
       "..          ...         ...              ...         ...         ...\n",
       "182  SEPTEMBER         1620          CHINESE        3.21         NaN\n",
       "183  SEPTEMBER         1739          INDIANS        3.44         NaN\n",
       "184  SEPTEMBER          681         LEBANESE        1.35         NaN\n",
       "185  SEPTEMBER          419     AUSTRIALIANS        0.83         NaN\n",
       "186  SEPTEMBER        12855  OTHER NATIONALS       25.44         NaN\n",
       "\n",
       "[187 rows x 5 columns]"
      ]
     },
     "execution_count": 44,
     "metadata": {},
     "output_type": "execute_result"
    }
   ],
   "source": [
    "#exported the file to excel and transformed it for analysis\n",
    "trans = pd.read_csv(\"transformed.csv\")\n",
    "trans"
   ]
  },
  {
   "cell_type": "code",
   "execution_count": 11,
   "metadata": {},
   "outputs": [
    {
     "data": {
      "application/vnd.vegalite.v3+json": {
       "$schema": "https://vega.github.io/schema/vega-lite/v3.4.0.json",
       "background": "white",
       "config": {
        "legend": {
         "cornerRadius": 10,
         "fillColor": "#EEEEEE",
         "orient": "top-left",
         "padding": 10,
         "strokeColor": "gray"
        },
        "mark": {
         "tooltip": null
        },
        "title": {
         "align": "right",
         "anchor": "start",
         "color": "black",
         "font": "Courier",
         "fontSize": 40
        },
        "view": {
         "height": 300,
         "stroke": "transparent",
         "width": 400
        }
       },
       "data": {
        "name": "data-563364fef5ae5fb87a3c7902ddebb742"
       },
       "datasets": {
        "data-563364fef5ae5fb87a3c7902ddebb742": [
         {
          "COUNTRIES": "IVORIANS",
          "DEPARTURES": 1634,
          "MONTHS": "JANUARY",
          "PERCENTAGE": 3.78
         },
         {
          "COUNTRIES": "BURKINESE",
          "DEPARTURES": 1780,
          "MONTHS": "JANUARY",
          "PERCENTAGE": 4.11
         },
         {
          "COUNTRIES": "NIGERIANS",
          "DEPARTURES": 7910,
          "MONTHS": "JANUARY",
          "PERCENTAGE": 18.29
         },
         {
          "COUNTRIES": "LIBERRIANS",
          "DEPARTURES": 757,
          "MONTHS": "JANUARY",
          "PERCENTAGE": 1.75
         },
         {
          "COUNTRIES": "SOUTH AFRICANS",
          "DEPARTURES": 1415,
          "MONTHS": "JANUARY",
          "PERCENTAGE": 3.27
         },
         {
          "COUNTRIES": "TOGOLESE",
          "DEPARTURES": 873,
          "MONTHS": "JANUARY",
          "PERCENTAGE": 2.02
         },
         {
          "COUNTRIES": "FRENCH",
          "DEPARTURES": 905,
          "MONTHS": "JANUARY",
          "PERCENTAGE": 2.09
         },
         {
          "COUNTRIES": "GERMANS",
          "DEPARTURES": 1548,
          "MONTHS": "JANUARY",
          "PERCENTAGE": 3.58
         },
         {
          "COUNTRIES": "DUTCH",
          "DEPARTURES": 1250,
          "MONTHS": "JANUARY",
          "PERCENTAGE": 2.89
         },
         {
          "COUNTRIES": "BRITISH",
          "DEPARTURES": 4798,
          "MONTHS": "JANUARY",
          "PERCENTAGE": 11.09
         },
         {
          "COUNTRIES": "AMERICANS",
          "DEPARTURES": 4987,
          "MONTHS": "JANUARY",
          "PERCENTAGE": 11.53
         },
         {
          "COUNTRIES": "CANADIANS",
          "DEPARTURES": 1074,
          "MONTHS": "JANUARY",
          "PERCENTAGE": 2.48
         },
         {
          "COUNTRIES": "CHINESE",
          "DEPARTURES": 1539,
          "MONTHS": "JANUARY",
          "PERCENTAGE": 3.56
         },
         {
          "COUNTRIES": "INDIANS",
          "DEPARTURES": 1465,
          "MONTHS": "JANUARY",
          "PERCENTAGE": 3.39
         },
         {
          "COUNTRIES": "LEBANESE",
          "DEPARTURES": 531,
          "MONTHS": "JANUARY",
          "PERCENTAGE": 1.23
         },
         {
          "COUNTRIES": "AUSTRIALIANS",
          "DEPARTURES": 428,
          "MONTHS": "JANUARY",
          "PERCENTAGE": 0.99
         },
         {
          "COUNTRIES": "OTHER NATIONALS",
          "DEPARTURES": 10364,
          "MONTHS": "JANUARY",
          "PERCENTAGE": 23.96
         },
         {
          "COUNTRIES": "IVORIANS",
          "DEPARTURES": 1662,
          "MONTHS": "FEBRUARY",
          "PERCENTAGE": 4.3
         },
         {
          "COUNTRIES": "BURKINESE",
          "DEPARTURES": 1693,
          "MONTHS": "FEBRUARY",
          "PERCENTAGE": 4.38
         },
         {
          "COUNTRIES": "NIGERIANS",
          "DEPARTURES": 6490,
          "MONTHS": "FEBRUARY",
          "PERCENTAGE": 16.79
         },
         {
          "COUNTRIES": "LIBERRIANS",
          "DEPARTURES": 734,
          "MONTHS": "FEBRUARY",
          "PERCENTAGE": 1.9
         },
         {
          "COUNTRIES": "SOUTH AFRICANS",
          "DEPARTURES": 1563,
          "MONTHS": "FEBRUARY",
          "PERCENTAGE": 4.04
         },
         {
          "COUNTRIES": "TOGOLESE",
          "DEPARTURES": 702,
          "MONTHS": "FEBRUARY",
          "PERCENTAGE": 1.82
         },
         {
          "COUNTRIES": "FRENCH",
          "DEPARTURES": 1117,
          "MONTHS": "FEBRUARY",
          "PERCENTAGE": 2.89
         },
         {
          "COUNTRIES": "GERMANS",
          "DEPARTURES": 1298,
          "MONTHS": "FEBRUARY",
          "PERCENTAGE": 3.36
         },
         {
          "COUNTRIES": "DUTCH",
          "DEPARTURES": 903,
          "MONTHS": "FEBRUARY",
          "PERCENTAGE": 2.34
         },
         {
          "COUNTRIES": "BRITISH",
          "DEPARTURES": 3257,
          "MONTHS": "FEBRUARY",
          "PERCENTAGE": 8.43
         },
         {
          "COUNTRIES": "AMERICANS",
          "DEPARTURES": 3848,
          "MONTHS": "FEBRUARY",
          "PERCENTAGE": 9.96
         },
         {
          "COUNTRIES": "CANADIANS",
          "DEPARTURES": 937,
          "MONTHS": "FEBRUARY",
          "PERCENTAGE": 2.42
         },
         {
          "COUNTRIES": "CHINESE",
          "DEPARTURES": 1987,
          "MONTHS": "FEBRUARY",
          "PERCENTAGE": 5.14
         },
         {
          "COUNTRIES": "INDIANS",
          "DEPARTURES": 1525,
          "MONTHS": "FEBRUARY",
          "PERCENTAGE": 3.95
         },
         {
          "COUNTRIES": "LEBANESE",
          "DEPARTURES": 562,
          "MONTHS": "FEBRUARY",
          "PERCENTAGE": 1.45
         },
         {
          "COUNTRIES": "AUSTRIALIANS",
          "DEPARTURES": 449,
          "MONTHS": "FEBRUARY",
          "PERCENTAGE": 1.16
         },
         {
          "COUNTRIES": "OTHER NATIONALS",
          "DEPARTURES": 9920,
          "MONTHS": "FEBRUARY",
          "PERCENTAGE": 25.67
         },
         {
          "COUNTRIES": "IVORIANS",
          "DEPARTURES": 3559,
          "MONTHS": "MARCH",
          "PERCENTAGE": 8.26
         },
         {
          "COUNTRIES": "BURKINESE",
          "DEPARTURES": 3482,
          "MONTHS": "MARCH",
          "PERCENTAGE": 8.08
         },
         {
          "COUNTRIES": "NIGERIANS",
          "DEPARTURES": 13558,
          "MONTHS": "MARCH",
          "PERCENTAGE": 31.47
         },
         {
          "COUNTRIES": "LIBERRIANS",
          "DEPARTURES": 1498,
          "MONTHS": "MARCH",
          "PERCENTAGE": 3.48
         },
         {
          "COUNTRIES": "SOUTH AFRICANS",
          "DEPARTURES": 1767,
          "MONTHS": "MARCH",
          "PERCENTAGE": 4.1
         },
         {
          "COUNTRIES": "TOGOLESE",
          "DEPARTURES": 1581,
          "MONTHS": "MARCH",
          "PERCENTAGE": 3.67
         },
         {
          "COUNTRIES": "FRENCH",
          "DEPARTURES": 1126,
          "MONTHS": "MARCH",
          "PERCENTAGE": 2.61
         },
         {
          "COUNTRIES": "GERMANS",
          "DEPARTURES": 1555,
          "MONTHS": "MARCH",
          "PERCENTAGE": 3.61
         },
         {
          "COUNTRIES": "DUTCH",
          "DEPARTURES": 1049,
          "MONTHS": "MARCH",
          "PERCENTAGE": 2.44
         },
         {
          "COUNTRIES": "BRITISH",
          "DEPARTURES": 3888,
          "MONTHS": "MARCH",
          "PERCENTAGE": 9.03
         },
         {
          "COUNTRIES": "AMERICANS",
          "DEPARTURES": 4956,
          "MONTHS": "MARCH",
          "PERCENTAGE": 11.51
         },
         {
          "COUNTRIES": "CANADIANS",
          "DEPARTURES": 1048,
          "MONTHS": "MARCH",
          "PERCENTAGE": 2.43
         },
         {
          "COUNTRIES": "CHINESE",
          "DEPARTURES": 1057,
          "MONTHS": "MARCH",
          "PERCENTAGE": 2.45
         },
         {
          "COUNTRIES": "INDIANS",
          "DEPARTURES": 1710,
          "MONTHS": "MARCH",
          "PERCENTAGE": 3.97
         },
         {
          "COUNTRIES": "LEBANESE",
          "DEPARTURES": 622,
          "MONTHS": "MARCH",
          "PERCENTAGE": 1.44
         },
         {
          "COUNTRIES": "AUSTRIALIANS",
          "DEPARTURES": 435,
          "MONTHS": "MARCH",
          "PERCENTAGE": 1.01
         },
         {
          "COUNTRIES": "OTHER NATIONALS",
          "DEPARTURES": 185,
          "MONTHS": "MARCH",
          "PERCENTAGE": 0.43
         },
         {
          "COUNTRIES": "IVORIANS",
          "DEPARTURES": 1517,
          "MONTHS": "APRIL",
          "PERCENTAGE": 3.17
         },
         {
          "COUNTRIES": "BURKINESE",
          "DEPARTURES": 1394,
          "MONTHS": "APRIL",
          "PERCENTAGE": 2.91
         },
         {
          "COUNTRIES": "NIGERIANS",
          "DEPARTURES": 9320,
          "MONTHS": "APRIL",
          "PERCENTAGE": 19.49
         },
         {
          "COUNTRIES": "LIBERRIANS",
          "DEPARTURES": 1215,
          "MONTHS": "APRIL",
          "PERCENTAGE": 2.54
         },
         {
          "COUNTRIES": "SOUTH AFRICANS",
          "DEPARTURES": 1622,
          "MONTHS": "APRIL",
          "PERCENTAGE": 3.39
         },
         {
          "COUNTRIES": "TOGOLESE",
          "DEPARTURES": 906,
          "MONTHS": "APRIL",
          "PERCENTAGE": 1.89
         },
         {
          "COUNTRIES": "FRENCH",
          "DEPARTURES": 1350,
          "MONTHS": "APRIL",
          "PERCENTAGE": 2.82
         },
         {
          "COUNTRIES": "GERMANS",
          "DEPARTURES": 1704,
          "MONTHS": "APRIL",
          "PERCENTAGE": 3.56
         },
         {
          "COUNTRIES": "DUTCH",
          "DEPARTURES": 1079,
          "MONTHS": "APRIL",
          "PERCENTAGE": 2.26
         },
         {
          "COUNTRIES": "BRITISH",
          "DEPARTURES": 1854,
          "MONTHS": "APRIL",
          "PERCENTAGE": 3.88
         },
         {
          "COUNTRIES": "AMERICANS",
          "DEPARTURES": 2118,
          "MONTHS": "APRIL",
          "PERCENTAGE": 4.43
         },
         {
          "COUNTRIES": "CANADIANS",
          "DEPARTURES": 408,
          "MONTHS": "APRIL",
          "PERCENTAGE": 0.85
         },
         {
          "COUNTRIES": "CHINESE",
          "DEPARTURES": 1388,
          "MONTHS": "APRIL",
          "PERCENTAGE": 2.9
         },
         {
          "COUNTRIES": "INDIANS",
          "DEPARTURES": 1839,
          "MONTHS": "APRIL",
          "PERCENTAGE": 3.85
         },
         {
          "COUNTRIES": "LEBANESE",
          "DEPARTURES": 766,
          "MONTHS": "APRIL",
          "PERCENTAGE": 1.6
         },
         {
          "COUNTRIES": "AUSTRIALIANS",
          "DEPARTURES": 139,
          "MONTHS": "APRIL",
          "PERCENTAGE": 0.29
         },
         {
          "COUNTRIES": "OTHER NATIONALS",
          "DEPARTURES": 19203,
          "MONTHS": "APRIL",
          "PERCENTAGE": 40.16
         },
         {
          "COUNTRIES": "IVORIANS",
          "DEPARTURES": 1673,
          "MONTHS": "MAY",
          "PERCENTAGE": 3.52
         },
         {
          "COUNTRIES": "BURKINESE",
          "DEPARTURES": 1653,
          "MONTHS": "MAY",
          "PERCENTAGE": 3.48
         },
         {
          "COUNTRIES": "NIGERIANS",
          "DEPARTURES": 9421,
          "MONTHS": "MAY",
          "PERCENTAGE": 19.81
         },
         {
          "COUNTRIES": "LIBERRIANS",
          "DEPARTURES": 1414,
          "MONTHS": "MAY",
          "PERCENTAGE": 2.97
         },
         {
          "COUNTRIES": "SOUTH AFRICANS",
          "DEPARTURES": 1760,
          "MONTHS": "MAY",
          "PERCENTAGE": 3.7
         },
         {
          "COUNTRIES": "TOGOLESE",
          "DEPARTURES": 856,
          "MONTHS": "MAY",
          "PERCENTAGE": 1.8
         },
         {
          "COUNTRIES": "FRENCH",
          "DEPARTURES": 1064,
          "MONTHS": "MAY",
          "PERCENTAGE": 2.24
         },
         {
          "COUNTRIES": "GERMANS",
          "DEPARTURES": 1253,
          "MONTHS": "MAY",
          "PERCENTAGE": 2.63
         },
         {
          "COUNTRIES": "DUTCH",
          "DEPARTURES": 1083,
          "MONTHS": "MAY",
          "PERCENTAGE": 2.28
         },
         {
          "COUNTRIES": "BRITISH",
          "DEPARTURES": 3452,
          "MONTHS": "MAY",
          "PERCENTAGE": 7.26
         },
         {
          "COUNTRIES": "AMERICANS",
          "DEPARTURES": 6113,
          "MONTHS": "MAY",
          "PERCENTAGE": 12.86
         },
         {
          "COUNTRIES": "CANADIANS",
          "DEPARTURES": 1255,
          "MONTHS": "MAY",
          "PERCENTAGE": 2.64
         },
         {
          "COUNTRIES": "CHINESE",
          "DEPARTURES": 1397,
          "MONTHS": "MAY",
          "PERCENTAGE": 2.94
         },
         {
          "COUNTRIES": "INDIANS",
          "DEPARTURES": 1883,
          "MONTHS": "MAY",
          "PERCENTAGE": 3.96
         },
         {
          "COUNTRIES": "LEBANESE",
          "DEPARTURES": 614,
          "MONTHS": "MAY",
          "PERCENTAGE": 1.29
         },
         {
          "COUNTRIES": "AUSTRIALIANS",
          "DEPARTURES": 430,
          "MONTHS": "MAY",
          "PERCENTAGE": 0.9
         },
         {
          "COUNTRIES": "OTHER NATIONALS",
          "DEPARTURES": 12232,
          "MONTHS": "MAY",
          "PERCENTAGE": 25.72
         },
         {
          "COUNTRIES": "IVORIANS",
          "DEPARTURES": 2351,
          "MONTHS": "AUGUST ",
          "PERCENTAGE": 3.95
         },
         {
          "COUNTRIES": "BURKINESE",
          "DEPARTURES": 2750,
          "MONTHS": "AUGUST ",
          "PERCENTAGE": 4.62
         },
         {
          "COUNTRIES": "NIGERIANS",
          "DEPARTURES": 9554,
          "MONTHS": "AUGUST ",
          "PERCENTAGE": 16.04
         },
         {
          "COUNTRIES": "LIBERRIANS",
          "DEPARTURES": 1368,
          "MONTHS": "AUGUST ",
          "PERCENTAGE": 2.3
         },
         {
          "COUNTRIES": "SOUTH AFRICANS",
          "DEPARTURES": 1898,
          "MONTHS": "AUGUST ",
          "PERCENTAGE": 3.19
         },
         {
          "COUNTRIES": "TOGOLESE",
          "DEPARTURES": 1230,
          "MONTHS": "AUGUST ",
          "PERCENTAGE": 2.06
         },
         {
          "COUNTRIES": "FRENCH",
          "DEPARTURES": 1246,
          "MONTHS": "AUGUST ",
          "PERCENTAGE": 2.09
         },
         {
          "COUNTRIES": "GERMANS",
          "DEPARTURES": 2454,
          "MONTHS": "AUGUST ",
          "PERCENTAGE": 4.12
         },
         {
          "COUNTRIES": "DUTCH",
          "DEPARTURES": 2028,
          "MONTHS": "AUGUST ",
          "PERCENTAGE": 3.4
         },
         {
          "COUNTRIES": "BRITISH",
          "DEPARTURES": 6556,
          "MONTHS": "AUGUST ",
          "PERCENTAGE": 11.01
         },
         {
          "COUNTRIES": "AMERICANS",
          "DEPARTURES": 8826,
          "MONTHS": "AUGUST ",
          "PERCENTAGE": 14.82
         },
         {
          "COUNTRIES": "CANADIANS",
          "DEPARTURES": 997,
          "MONTHS": "AUGUST ",
          "PERCENTAGE": 1.67
         },
         {
          "COUNTRIES": "CHINESE",
          "DEPARTURES": 1540,
          "MONTHS": "AUGUST ",
          "PERCENTAGE": 2.59
         },
         {
          "COUNTRIES": "INDIANS",
          "DEPARTURES": 1764,
          "MONTHS": "AUGUST ",
          "PERCENTAGE": 2.96
         },
         {
          "COUNTRIES": "LEBANESE",
          "DEPARTURES": 749,
          "MONTHS": "AUGUST ",
          "PERCENTAGE": 1.26
         },
         {
          "COUNTRIES": "AUSTRIALIANS",
          "DEPARTURES": 380,
          "MONTHS": "AUGUST ",
          "PERCENTAGE": 0.64
         },
         {
          "COUNTRIES": "OTHER NATIONALS",
          "DEPARTURES": 13876,
          "MONTHS": "AUGUST ",
          "PERCENTAGE": 23.29
         },
         {
          "COUNTRIES": "IVORIANS",
          "DEPARTURES": 1954,
          "MONTHS": "JULY ",
          "PERCENTAGE": 3.69
         },
         {
          "COUNTRIES": "BURKINESE",
          "DEPARTURES": 1482,
          "MONTHS": "JULY ",
          "PERCENTAGE": 2.8
         },
         {
          "COUNTRIES": "NIGERIANS",
          "DEPARTURES": 8969,
          "MONTHS": "JULY ",
          "PERCENTAGE": 16.95
         },
         {
          "COUNTRIES": "LIBERRIANS",
          "DEPARTURES": 1520,
          "MONTHS": "JULY ",
          "PERCENTAGE": 2.87
         },
         {
          "COUNTRIES": "SOUTH AFRICANS",
          "DEPARTURES": 1984,
          "MONTHS": "JULY ",
          "PERCENTAGE": 3.75
         },
         {
          "COUNTRIES": "TOGOLESE",
          "DEPARTURES": 1081,
          "MONTHS": "JULY ",
          "PERCENTAGE": 2.04
         },
         {
          "COUNTRIES": "FRENCH",
          "DEPARTURES": 1177,
          "MONTHS": "JULY ",
          "PERCENTAGE": 2.22
         },
         {
          "COUNTRIES": "GERMANS",
          "DEPARTURES": 1614,
          "MONTHS": "JULY ",
          "PERCENTAGE": 3.05
         },
         {
          "COUNTRIES": "DUTCH",
          "DEPARTURES": 1440,
          "MONTHS": "JULY ",
          "PERCENTAGE": 2.72
         },
         {
          "COUNTRIES": "BRITISH",
          "DEPARTURES": 4463,
          "MONTHS": "JULY ",
          "PERCENTAGE": 8.43
         },
         {
          "COUNTRIES": "AMERICANS",
          "DEPARTURES": 7590,
          "MONTHS": "JULY ",
          "PERCENTAGE": 14.34
         },
         {
          "COUNTRIES": "CANADIANS",
          "DEPARTURES": 1085,
          "MONTHS": "JULY ",
          "PERCENTAGE": 2.05
         },
         {
          "COUNTRIES": "CHINESE",
          "DEPARTURES": 1666,
          "MONTHS": "JULY ",
          "PERCENTAGE": 3.15
         },
         {
          "COUNTRIES": "INDIANS",
          "DEPARTURES": 2204,
          "MONTHS": "JULY ",
          "PERCENTAGE": 4.16
         },
         {
          "COUNTRIES": "LEBANESE",
          "DEPARTURES": 1137,
          "MONTHS": "JULY ",
          "PERCENTAGE": 2.15
         },
         {
          "COUNTRIES": "AUSTRIALIANS",
          "DEPARTURES": 456,
          "MONTHS": "JULY ",
          "PERCENTAGE": 0.86
         },
         {
          "COUNTRIES": "OTHER NATIONALS",
          "DEPARTURES": 13097,
          "MONTHS": "JULY ",
          "PERCENTAGE": 24.75
         },
         {
          "COUNTRIES": "IVORIANS",
          "DEPARTURES": 1727,
          "MONTHS": "JUNE ",
          "PERCENTAGE": 3.55
         },
         {
          "COUNTRIES": "BURKINESE",
          "DEPARTURES": 1494,
          "MONTHS": "JUNE ",
          "PERCENTAGE": 3.07
         },
         {
          "COUNTRIES": "NIGERIANS",
          "DEPARTURES": 8867,
          "MONTHS": "JUNE ",
          "PERCENTAGE": 18.21
         },
         {
          "COUNTRIES": "LIBERRIANS",
          "DEPARTURES": 1459,
          "MONTHS": "JUNE ",
          "PERCENTAGE": 3
         },
         {
          "COUNTRIES": "SOUTH AFRICANS",
          "DEPARTURES": 1996,
          "MONTHS": "JUNE ",
          "PERCENTAGE": 4.1
         },
         {
          "COUNTRIES": "TOGOLESE",
          "DEPARTURES": 888,
          "MONTHS": "JUNE ",
          "PERCENTAGE": 1.82
         },
         {
          "COUNTRIES": "FRENCH",
          "DEPARTURES": 1145,
          "MONTHS": "JUNE ",
          "PERCENTAGE": 2.35
         },
         {
          "COUNTRIES": "GERMANS",
          "DEPARTURES": 1184,
          "MONTHS": "JUNE ",
          "PERCENTAGE": 2.43
         },
         {
          "COUNTRIES": "DUTCH",
          "DEPARTURES": 1062,
          "MONTHS": "JUNE ",
          "PERCENTAGE": 2.18
         },
         {
          "COUNTRIES": "BRITISH",
          "DEPARTURES": 3649,
          "MONTHS": "JUNE ",
          "PERCENTAGE": 7.49
         },
         {
          "COUNTRIES": "AMERICANS",
          "DEPARTURES": 6614,
          "MONTHS": "JUNE ",
          "PERCENTAGE": 13.58
         },
         {
          "COUNTRIES": "CANADIANS",
          "DEPARTURES": 1068,
          "MONTHS": "JUNE ",
          "PERCENTAGE": 2.19
         },
         {
          "COUNTRIES": "CHINESE",
          "DEPARTURES": 1479,
          "MONTHS": "JUNE ",
          "PERCENTAGE": 3.04
         },
         {
          "COUNTRIES": "INDIANS",
          "DEPARTURES": 2044,
          "MONTHS": "JUNE ",
          "PERCENTAGE": 4.2
         },
         {
          "COUNTRIES": "LEBANESE",
          "DEPARTURES": 956,
          "MONTHS": "JUNE ",
          "PERCENTAGE": 1.96
         },
         {
          "COUNTRIES": "AUSTRIALIANS",
          "DEPARTURES": 444,
          "MONTHS": "JUNE ",
          "PERCENTAGE": 0.91
         },
         {
          "COUNTRIES": "OTHER NATIONALS",
          "DEPARTURES": 12628,
          "MONTHS": "JUNE ",
          "PERCENTAGE": 25.93
         },
         {
          "COUNTRIES": "IVORIANS",
          "DEPARTURES": 2172,
          "MONTHS": "NOVEMBER  ",
          "PERCENTAGE": 4.49
         },
         {
          "COUNTRIES": "BURKINESE",
          "DEPARTURES": 1404,
          "MONTHS": "NOVEMBER  ",
          "PERCENTAGE": 2.9
         },
         {
          "COUNTRIES": "NIGERIANS",
          "DEPARTURES": 8051,
          "MONTHS": "NOVEMBER  ",
          "PERCENTAGE": 16.65
         },
         {
          "COUNTRIES": "LIBERRIANS",
          "DEPARTURES": 1604,
          "MONTHS": "NOVEMBER  ",
          "PERCENTAGE": 3.32
         },
         {
          "COUNTRIES": "SOUTH AFRICANS",
          "DEPARTURES": 1993,
          "MONTHS": "NOVEMBER  ",
          "PERCENTAGE": 4.12
         },
         {
          "COUNTRIES": "TOGOLESE",
          "DEPARTURES": 1074,
          "MONTHS": "NOVEMBER  ",
          "PERCENTAGE": 2.22
         },
         {
          "COUNTRIES": "FRENCH",
          "DEPARTURES": 1201,
          "MONTHS": "NOVEMBER  ",
          "PERCENTAGE": 2.48
         },
         {
          "COUNTRIES": "GERMANS",
          "DEPARTURES": 1476,
          "MONTHS": "NOVEMBER  ",
          "PERCENTAGE": 3.05
         },
         {
          "COUNTRIES": "DUTCH",
          "DEPARTURES": 1217,
          "MONTHS": "NOVEMBER  ",
          "PERCENTAGE": 2.52
         },
         {
          "COUNTRIES": "BRITISH",
          "DEPARTURES": 4407,
          "MONTHS": "NOVEMBER  ",
          "PERCENTAGE": 9.12
         },
         {
          "COUNTRIES": "AMERICANS",
          "DEPARTURES": 5946,
          "MONTHS": "NOVEMBER  ",
          "PERCENTAGE": 12.3
         },
         {
          "COUNTRIES": "CANADIANS",
          "DEPARTURES": 1033,
          "MONTHS": "NOVEMBER  ",
          "PERCENTAGE": 2.14
         },
         {
          "COUNTRIES": "CHINESE",
          "DEPARTURES": 1263,
          "MONTHS": "NOVEMBER  ",
          "PERCENTAGE": 2.61
         },
         {
          "COUNTRIES": "INDIANS",
          "DEPARTURES": 1865,
          "MONTHS": "NOVEMBER  ",
          "PERCENTAGE": 3.86
         },
         {
          "COUNTRIES": "LEBANESE",
          "DEPARTURES": 548,
          "MONTHS": "NOVEMBER  ",
          "PERCENTAGE": 1.13
         },
         {
          "COUNTRIES": "AUSTRIALIANS",
          "DEPARTURES": 445,
          "MONTHS": "NOVEMBER  ",
          "PERCENTAGE": 0.92
         },
         {
          "COUNTRIES": "OTHER NATIONALS",
          "DEPARTURES": 12648,
          "MONTHS": "NOVEMBER  ",
          "PERCENTAGE": 26.16
         },
         {
          "COUNTRIES": "IVORIANS",
          "DEPARTURES": 1677,
          "MONTHS": "OCTOBER ",
          "PERCENTAGE": 3.62
         },
         {
          "COUNTRIES": "BURKINESE",
          "DEPARTURES": 1416,
          "MONTHS": "OCTOBER ",
          "PERCENTAGE": 3.05
         },
         {
          "COUNTRIES": "NIGERIANS",
          "DEPARTURES": 7583,
          "MONTHS": "OCTOBER ",
          "PERCENTAGE": 16.36
         },
         {
          "COUNTRIES": "LIBERRIANS",
          "DEPARTURES": 1230,
          "MONTHS": "OCTOBER ",
          "PERCENTAGE": 2.65
         },
         {
          "COUNTRIES": "SOUTH AFRICANS",
          "DEPARTURES": 2104,
          "MONTHS": "OCTOBER ",
          "PERCENTAGE": 4.54
         },
         {
          "COUNTRIES": "TOGOLESE",
          "DEPARTURES": 1045,
          "MONTHS": "OCTOBER ",
          "PERCENTAGE": 2.25
         },
         {
          "COUNTRIES": "FRENCH",
          "DEPARTURES": 1187,
          "MONTHS": "OCTOBER ",
          "PERCENTAGE": 2.56
         },
         {
          "COUNTRIES": "GERMANS",
          "DEPARTURES": 1763,
          "MONTHS": "OCTOBER ",
          "PERCENTAGE": 3.8
         },
         {
          "COUNTRIES": "DUTCH",
          "DEPARTURES": 1213,
          "MONTHS": "OCTOBER ",
          "PERCENTAGE": 2.62
         },
         {
          "COUNTRIES": "BRITISH",
          "DEPARTURES": 4226,
          "MONTHS": "OCTOBER ",
          "PERCENTAGE": 9.12
         },
         {
          "COUNTRIES": "AMERICANS",
          "DEPARTURES": 5590,
          "MONTHS": "OCTOBER ",
          "PERCENTAGE": 12.06
         },
         {
          "COUNTRIES": "CANADIANS",
          "DEPARTURES": 918,
          "MONTHS": "OCTOBER ",
          "PERCENTAGE": 1.98
         },
         {
          "COUNTRIES": "CHINESE",
          "DEPARTURES": 1232,
          "MONTHS": "OCTOBER ",
          "PERCENTAGE": 2.66
         },
         {
          "COUNTRIES": "INDIANS",
          "DEPARTURES": 1874,
          "MONTHS": "OCTOBER ",
          "PERCENTAGE": 4.04
         },
         {
          "COUNTRIES": "LEBANESE",
          "DEPARTURES": 603,
          "MONTHS": "OCTOBER ",
          "PERCENTAGE": 1.3
         },
         {
          "COUNTRIES": "AUSTRIALIANS",
          "DEPARTURES": 475,
          "MONTHS": "OCTOBER ",
          "PERCENTAGE": 1.02
         },
         {
          "COUNTRIES": "OTHER NATIONALS",
          "DEPARTURES": 12216,
          "MONTHS": "OCTOBER ",
          "PERCENTAGE": 26.35
         },
         {
          "COUNTRIES": "IVORIANS",
          "DEPARTURES": 2201,
          "MONTHS": "SEPTEMBER ",
          "PERCENTAGE": 4.36
         },
         {
          "COUNTRIES": "BURKINESE",
          "DEPARTURES": 1714,
          "MONTHS": "SEPTEMBER ",
          "PERCENTAGE": 3.39
         },
         {
          "COUNTRIES": "NIGERIANS",
          "DEPARTURES": 8533,
          "MONTHS": "SEPTEMBER ",
          "PERCENTAGE": 16.89
         },
         {
          "COUNTRIES": "LIBERRIANS",
          "DEPARTURES": 1402,
          "MONTHS": "SEPTEMBER ",
          "PERCENTAGE": 2.77
         },
         {
          "COUNTRIES": "SOUTH AFRICANS",
          "DEPARTURES": 1877,
          "MONTHS": "SEPTEMBER ",
          "PERCENTAGE": 3.71
         },
         {
          "COUNTRIES": "TOGOLESE",
          "DEPARTURES": 1285,
          "MONTHS": "SEPTEMBER ",
          "PERCENTAGE": 2.54
         },
         {
          "COUNTRIES": "FRENCH",
          "DEPARTURES": 1074,
          "MONTHS": "SEPTEMBER ",
          "PERCENTAGE": 2.13
         },
         {
          "COUNTRIES": "GERMANS",
          "DEPARTURES": 1968,
          "MONTHS": "SEPTEMBER ",
          "PERCENTAGE": 3.89
         },
         {
          "COUNTRIES": "DUTCH",
          "DEPARTURES": 1056,
          "MONTHS": "SEPTEMBER ",
          "PERCENTAGE": 2.09
         },
         {
          "COUNTRIES": "BRITISH",
          "DEPARTURES": 4887,
          "MONTHS": "SEPTEMBER ",
          "PERCENTAGE": 9.67
         },
         {
          "COUNTRIES": "AMERICANS",
          "DEPARTURES": 6314,
          "MONTHS": "SEPTEMBER ",
          "PERCENTAGE": 12.5
         },
         {
          "COUNTRIES": "CANADIANS",
          "DEPARTURES": 907,
          "MONTHS": "SEPTEMBER ",
          "PERCENTAGE": 1.79
         },
         {
          "COUNTRIES": "CHINESE",
          "DEPARTURES": 1620,
          "MONTHS": "SEPTEMBER ",
          "PERCENTAGE": 3.21
         },
         {
          "COUNTRIES": "INDIANS",
          "DEPARTURES": 1739,
          "MONTHS": "SEPTEMBER ",
          "PERCENTAGE": 3.44
         },
         {
          "COUNTRIES": "LEBANESE",
          "DEPARTURES": 681,
          "MONTHS": "SEPTEMBER ",
          "PERCENTAGE": 1.35
         },
         {
          "COUNTRIES": "AUSTRIALIANS",
          "DEPARTURES": 419,
          "MONTHS": "SEPTEMBER ",
          "PERCENTAGE": 0.83
         },
         {
          "COUNTRIES": "OTHER NATIONALS",
          "DEPARTURES": 12855,
          "MONTHS": "SEPTEMBER ",
          "PERCENTAGE": 25.44
         }
        ]
       },
       "encoding": {
        "color": {
         "field": "COUNTRIES",
         "legend": {
          "orient": "left",
          "type": "symbol"
         },
         "type": "nominal"
        },
        "opacity": {
         "value": 0.9
        },
        "tooltip": [
         {
          "field": "COUNTRIES",
          "type": "nominal"
         },
         {
          "field": "DEPARTURES",
          "type": "quantitative"
         },
         {
          "field": "PERCENTAGE",
          "type": "quantitative"
         }
        ],
        "x": {
         "axis": {
          "labelAngle": 360
         },
         "field": "MONTHS",
         "sort": {
          "field": "Letters",
          "op": "count",
          "order": "ascending"
         },
         "title": "",
         "type": "ordinal"
        },
        "y": {
         "aggregate": "sum",
         "field": "DEPARTURES",
         "title": null,
         "type": "quantitative"
        }
       },
       "height": 650,
       "mark": {
        "cornerRadius": 1.9,
        "filled": true,
        "font": "Helvetica Neue",
        "size": 70,
        "type": "bar"
       },
       "padding": 50,
       "title": {
        "text": "MONTHLY DEPARTURES"
       },
       "width": 800
      },
      "image/png": "[encoded data removed]",
      "text/plain": [
       "<VegaLite 3 object>\n",
       "\n",
       "If you see this message, it means the renderer has not been properly enabled\n",
       "for the frontend that you are using. For more information, see\n",
       "https://altair-viz.github.io/user_guide/troubleshooting.html\n"
      ]
     },
     "execution_count": 11,
     "metadata": {},
     "output_type": "execute_result"
    }
   ],
   "source": [
    "chart2= alt.Chart(trans).mark_bar(size=70,cornerRadius=1.9,font=\"Helvetica Neue\",filled=True).encode(\n",
    "    x=alt.X('MONTHS:O', \n",
    "            title='',\n",
    "            sort=alt.EncodingSortField(field=\"Letters\", op=\"count\", order='ascending'),\n",
    "            axis=alt.AxisConfig(labelAngle=360)),\n",
    "    y=alt.Y('sum(DEPARTURES)', title=None, ),\n",
    "    color=alt.Color('COUNTRIES', legend=alt.Legend(orient=\"left\",type = 'symbol')),\n",
    "    opacity=alt.OpacityValue(0.9),\n",
    "    #size=alt.Size('MONTHS:N',scale=alt.Scale(range=[0,600])),\n",
    "    tooltip=alt.Tooltip(['COUNTRIES','DEPARTURES','PERCENTAGE'])\n",
    ").properties(\n",
    "    width=800,\n",
    "    padding=50,\n",
    "    height=650,\n",
    "    background='white',\n",
    "    title=alt.TitleParams(text='MONTHLY DEPARTURES')\n",
    "    ).configure_legend(\n",
    "    strokeColor='gray',\n",
    "    fillColor='#EEEEEE',\n",
    "    padding=10,\n",
    "    cornerRadius=10,\n",
    "    orient='top-left')\n",
    "chart2.configure_title(\n",
    "    fontSize=40,\n",
    "    font='Courier',\n",
    "    anchor='start',\n",
    "    align='right',\n",
    "    color='black',\n",
    "    ).configure_view(\n",
    "    stroke='transparent'\n",
    ")"
   ]
  },
  {
   "cell_type": "code",
   "execution_count": 12,
   "metadata": {},
   "outputs": [
    {
     "data": {
      "text/html": [
       "<div>\n",
       "<style scoped>\n",
       "    .dataframe tbody tr th:only-of-type {\n",
       "        vertical-align: middle;\n",
       "    }\n",
       "\n",
       "    .dataframe tbody tr th {\n",
       "        vertical-align: top;\n",
       "    }\n",
       "\n",
       "    .dataframe thead th {\n",
       "        text-align: right;\n",
       "    }\n",
       "</style>\n",
       "<table border=\"1\" class=\"dataframe\">\n",
       "  <thead>\n",
       "    <tr style=\"text-align: right;\">\n",
       "      <th></th>\n",
       "      <th>MONTHS</th>\n",
       "      <th>DEPARTURES</th>\n",
       "      <th>COUNTRIES</th>\n",
       "      <th>PERCENTAGE</th>\n",
       "    </tr>\n",
       "  </thead>\n",
       "  <tbody>\n",
       "    <tr>\n",
       "      <td>0</td>\n",
       "      <td>JANUARY</td>\n",
       "      <td>1634</td>\n",
       "      <td>IVORIANS</td>\n",
       "      <td>3.78</td>\n",
       "    </tr>\n",
       "    <tr>\n",
       "      <td>1</td>\n",
       "      <td>JANUARY</td>\n",
       "      <td>1780</td>\n",
       "      <td>BURKINESE</td>\n",
       "      <td>4.11</td>\n",
       "    </tr>\n",
       "    <tr>\n",
       "      <td>2</td>\n",
       "      <td>JANUARY</td>\n",
       "      <td>7910</td>\n",
       "      <td>NIGERIANS</td>\n",
       "      <td>18.29</td>\n",
       "    </tr>\n",
       "    <tr>\n",
       "      <td>3</td>\n",
       "      <td>JANUARY</td>\n",
       "      <td>757</td>\n",
       "      <td>LIBERRIANS</td>\n",
       "      <td>1.75</td>\n",
       "    </tr>\n",
       "    <tr>\n",
       "      <td>4</td>\n",
       "      <td>JANUARY</td>\n",
       "      <td>1415</td>\n",
       "      <td>SOUTH AFRICANS</td>\n",
       "      <td>3.27</td>\n",
       "    </tr>\n",
       "    <tr>\n",
       "      <td>...</td>\n",
       "      <td>...</td>\n",
       "      <td>...</td>\n",
       "      <td>...</td>\n",
       "      <td>...</td>\n",
       "    </tr>\n",
       "    <tr>\n",
       "      <td>182</td>\n",
       "      <td>SEPTEMBER</td>\n",
       "      <td>1620</td>\n",
       "      <td>CHINESE</td>\n",
       "      <td>3.21</td>\n",
       "    </tr>\n",
       "    <tr>\n",
       "      <td>183</td>\n",
       "      <td>SEPTEMBER</td>\n",
       "      <td>1739</td>\n",
       "      <td>INDIANS</td>\n",
       "      <td>3.44</td>\n",
       "    </tr>\n",
       "    <tr>\n",
       "      <td>184</td>\n",
       "      <td>SEPTEMBER</td>\n",
       "      <td>681</td>\n",
       "      <td>LEBANESE</td>\n",
       "      <td>1.35</td>\n",
       "    </tr>\n",
       "    <tr>\n",
       "      <td>185</td>\n",
       "      <td>SEPTEMBER</td>\n",
       "      <td>419</td>\n",
       "      <td>AUSTRIALIANS</td>\n",
       "      <td>0.83</td>\n",
       "    </tr>\n",
       "    <tr>\n",
       "      <td>186</td>\n",
       "      <td>SEPTEMBER</td>\n",
       "      <td>12855</td>\n",
       "      <td>OTHER NATIONALS</td>\n",
       "      <td>25.44</td>\n",
       "    </tr>\n",
       "  </tbody>\n",
       "</table>\n",
       "<p>187 rows × 4 columns</p>\n",
       "</div>"
      ],
      "text/plain": [
       "         MONTHS  DEPARTURES        COUNTRIES  PERCENTAGE\n",
       "0       JANUARY        1634         IVORIANS        3.78\n",
       "1       JANUARY        1780        BURKINESE        4.11\n",
       "2       JANUARY        7910        NIGERIANS       18.29\n",
       "3       JANUARY         757       LIBERRIANS        1.75\n",
       "4       JANUARY        1415   SOUTH AFRICANS        3.27\n",
       "..          ...         ...              ...         ...\n",
       "182  SEPTEMBER         1620          CHINESE        3.21\n",
       "183  SEPTEMBER         1739          INDIANS        3.44\n",
       "184  SEPTEMBER          681         LEBANESE        1.35\n",
       "185  SEPTEMBER          419     AUSTRIALIANS        0.83\n",
       "186  SEPTEMBER        12855  OTHER NATIONALS       25.44\n",
       "\n",
       "[187 rows x 4 columns]"
      ]
     },
     "execution_count": 12,
     "metadata": {},
     "output_type": "execute_result"
    }
   ],
   "source": [
    "trans"
   ]
  },
  {
   "cell_type": "code",
   "execution_count": 13,
   "metadata": {},
   "outputs": [
    {
     "data": {
      "application/vnd.vegalite.v3+json": {
       "$schema": "https://vega.github.io/schema/vega-lite/v3.4.0.json",
       "config": {
        "mark": {
         "tooltip": null
        },
        "view": {
         "height": 300,
         "width": 400
        }
       },
       "data": {
        "name": "data-563364fef5ae5fb87a3c7902ddebb742"
       },
       "datasets": {
        "data-563364fef5ae5fb87a3c7902ddebb742": [
         {
          "COUNTRIES": "IVORIANS",
          "DEPARTURES": 1634,
          "MONTHS": "JANUARY",
          "PERCENTAGE": 3.78
         },
         {
          "COUNTRIES": "BURKINESE",
          "DEPARTURES": 1780,
          "MONTHS": "JANUARY",
          "PERCENTAGE": 4.11
         },
         {
          "COUNTRIES": "NIGERIANS",
          "DEPARTURES": 7910,
          "MONTHS": "JANUARY",
          "PERCENTAGE": 18.29
         },
         {
          "COUNTRIES": "LIBERRIANS",
          "DEPARTURES": 757,
          "MONTHS": "JANUARY",
          "PERCENTAGE": 1.75
         },
         {
          "COUNTRIES": "SOUTH AFRICANS",
          "DEPARTURES": 1415,
          "MONTHS": "JANUARY",
          "PERCENTAGE": 3.27
         },
         {
          "COUNTRIES": "TOGOLESE",
          "DEPARTURES": 873,
          "MONTHS": "JANUARY",
          "PERCENTAGE": 2.02
         },
         {
          "COUNTRIES": "FRENCH",
          "DEPARTURES": 905,
          "MONTHS": "JANUARY",
          "PERCENTAGE": 2.09
         },
         {
          "COUNTRIES": "GERMANS",
          "DEPARTURES": 1548,
          "MONTHS": "JANUARY",
          "PERCENTAGE": 3.58
         },
         {
          "COUNTRIES": "DUTCH",
          "DEPARTURES": 1250,
          "MONTHS": "JANUARY",
          "PERCENTAGE": 2.89
         },
         {
          "COUNTRIES": "BRITISH",
          "DEPARTURES": 4798,
          "MONTHS": "JANUARY",
          "PERCENTAGE": 11.09
         },
         {
          "COUNTRIES": "AMERICANS",
          "DEPARTURES": 4987,
          "MONTHS": "JANUARY",
          "PERCENTAGE": 11.53
         },
         {
          "COUNTRIES": "CANADIANS",
          "DEPARTURES": 1074,
          "MONTHS": "JANUARY",
          "PERCENTAGE": 2.48
         },
         {
          "COUNTRIES": "CHINESE",
          "DEPARTURES": 1539,
          "MONTHS": "JANUARY",
          "PERCENTAGE": 3.56
         },
         {
          "COUNTRIES": "INDIANS",
          "DEPARTURES": 1465,
          "MONTHS": "JANUARY",
          "PERCENTAGE": 3.39
         },
         {
          "COUNTRIES": "LEBANESE",
          "DEPARTURES": 531,
          "MONTHS": "JANUARY",
          "PERCENTAGE": 1.23
         },
         {
          "COUNTRIES": "AUSTRIALIANS",
          "DEPARTURES": 428,
          "MONTHS": "JANUARY",
          "PERCENTAGE": 0.99
         },
         {
          "COUNTRIES": "OTHER NATIONALS",
          "DEPARTURES": 10364,
          "MONTHS": "JANUARY",
          "PERCENTAGE": 23.96
         },
         {
          "COUNTRIES": "IVORIANS",
          "DEPARTURES": 1662,
          "MONTHS": "FEBRUARY",
          "PERCENTAGE": 4.3
         },
         {
          "COUNTRIES": "BURKINESE",
          "DEPARTURES": 1693,
          "MONTHS": "FEBRUARY",
          "PERCENTAGE": 4.38
         },
         {
          "COUNTRIES": "NIGERIANS",
          "DEPARTURES": 6490,
          "MONTHS": "FEBRUARY",
          "PERCENTAGE": 16.79
         },
         {
          "COUNTRIES": "LIBERRIANS",
          "DEPARTURES": 734,
          "MONTHS": "FEBRUARY",
          "PERCENTAGE": 1.9
         },
         {
          "COUNTRIES": "SOUTH AFRICANS",
          "DEPARTURES": 1563,
          "MONTHS": "FEBRUARY",
          "PERCENTAGE": 4.04
         },
         {
          "COUNTRIES": "TOGOLESE",
          "DEPARTURES": 702,
          "MONTHS": "FEBRUARY",
          "PERCENTAGE": 1.82
         },
         {
          "COUNTRIES": "FRENCH",
          "DEPARTURES": 1117,
          "MONTHS": "FEBRUARY",
          "PERCENTAGE": 2.89
         },
         {
          "COUNTRIES": "GERMANS",
          "DEPARTURES": 1298,
          "MONTHS": "FEBRUARY",
          "PERCENTAGE": 3.36
         },
         {
          "COUNTRIES": "DUTCH",
          "DEPARTURES": 903,
          "MONTHS": "FEBRUARY",
          "PERCENTAGE": 2.34
         },
         {
          "COUNTRIES": "BRITISH",
          "DEPARTURES": 3257,
          "MONTHS": "FEBRUARY",
          "PERCENTAGE": 8.43
         },
         {
          "COUNTRIES": "AMERICANS",
          "DEPARTURES": 3848,
          "MONTHS": "FEBRUARY",
          "PERCENTAGE": 9.96
         },
         {
          "COUNTRIES": "CANADIANS",
          "DEPARTURES": 937,
          "MONTHS": "FEBRUARY",
          "PERCENTAGE": 2.42
         },
         {
          "COUNTRIES": "CHINESE",
          "DEPARTURES": 1987,
          "MONTHS": "FEBRUARY",
          "PERCENTAGE": 5.14
         },
         {
          "COUNTRIES": "INDIANS",
          "DEPARTURES": 1525,
          "MONTHS": "FEBRUARY",
          "PERCENTAGE": 3.95
         },
         {
          "COUNTRIES": "LEBANESE",
          "DEPARTURES": 562,
          "MONTHS": "FEBRUARY",
          "PERCENTAGE": 1.45
         },
         {
          "COUNTRIES": "AUSTRIALIANS",
          "DEPARTURES": 449,
          "MONTHS": "FEBRUARY",
          "PERCENTAGE": 1.16
         },
         {
          "COUNTRIES": "OTHER NATIONALS",
          "DEPARTURES": 9920,
          "MONTHS": "FEBRUARY",
          "PERCENTAGE": 25.67
         },
         {
          "COUNTRIES": "IVORIANS",
          "DEPARTURES": 3559,
          "MONTHS": "MARCH",
          "PERCENTAGE": 8.26
         },
         {
          "COUNTRIES": "BURKINESE",
          "DEPARTURES": 3482,
          "MONTHS": "MARCH",
          "PERCENTAGE": 8.08
         },
         {
          "COUNTRIES": "NIGERIANS",
          "DEPARTURES": 13558,
          "MONTHS": "MARCH",
          "PERCENTAGE": 31.47
         },
         {
          "COUNTRIES": "LIBERRIANS",
          "DEPARTURES": 1498,
          "MONTHS": "MARCH",
          "PERCENTAGE": 3.48
         },
         {
          "COUNTRIES": "SOUTH AFRICANS",
          "DEPARTURES": 1767,
          "MONTHS": "MARCH",
          "PERCENTAGE": 4.1
         },
         {
          "COUNTRIES": "TOGOLESE",
          "DEPARTURES": 1581,
          "MONTHS": "MARCH",
          "PERCENTAGE": 3.67
         },
         {
          "COUNTRIES": "FRENCH",
          "DEPARTURES": 1126,
          "MONTHS": "MARCH",
          "PERCENTAGE": 2.61
         },
         {
          "COUNTRIES": "GERMANS",
          "DEPARTURES": 1555,
          "MONTHS": "MARCH",
          "PERCENTAGE": 3.61
         },
         {
          "COUNTRIES": "DUTCH",
          "DEPARTURES": 1049,
          "MONTHS": "MARCH",
          "PERCENTAGE": 2.44
         },
         {
          "COUNTRIES": "BRITISH",
          "DEPARTURES": 3888,
          "MONTHS": "MARCH",
          "PERCENTAGE": 9.03
         },
         {
          "COUNTRIES": "AMERICANS",
          "DEPARTURES": 4956,
          "MONTHS": "MARCH",
          "PERCENTAGE": 11.51
         },
         {
          "COUNTRIES": "CANADIANS",
          "DEPARTURES": 1048,
          "MONTHS": "MARCH",
          "PERCENTAGE": 2.43
         },
         {
          "COUNTRIES": "CHINESE",
          "DEPARTURES": 1057,
          "MONTHS": "MARCH",
          "PERCENTAGE": 2.45
         },
         {
          "COUNTRIES": "INDIANS",
          "DEPARTURES": 1710,
          "MONTHS": "MARCH",
          "PERCENTAGE": 3.97
         },
         {
          "COUNTRIES": "LEBANESE",
          "DEPARTURES": 622,
          "MONTHS": "MARCH",
          "PERCENTAGE": 1.44
         },
         {
          "COUNTRIES": "AUSTRIALIANS",
          "DEPARTURES": 435,
          "MONTHS": "MARCH",
          "PERCENTAGE": 1.01
         },
         {
          "COUNTRIES": "OTHER NATIONALS",
          "DEPARTURES": 185,
          "MONTHS": "MARCH",
          "PERCENTAGE": 0.43
         },
         {
          "COUNTRIES": "IVORIANS",
          "DEPARTURES": 1517,
          "MONTHS": "APRIL",
          "PERCENTAGE": 3.17
         },
         {
          "COUNTRIES": "BURKINESE",
          "DEPARTURES": 1394,
          "MONTHS": "APRIL",
          "PERCENTAGE": 2.91
         },
         {
          "COUNTRIES": "NIGERIANS",
          "DEPARTURES": 9320,
          "MONTHS": "APRIL",
          "PERCENTAGE": 19.49
         },
         {
          "COUNTRIES": "LIBERRIANS",
          "DEPARTURES": 1215,
          "MONTHS": "APRIL",
          "PERCENTAGE": 2.54
         },
         {
          "COUNTRIES": "SOUTH AFRICANS",
          "DEPARTURES": 1622,
          "MONTHS": "APRIL",
          "PERCENTAGE": 3.39
         },
         {
          "COUNTRIES": "TOGOLESE",
          "DEPARTURES": 906,
          "MONTHS": "APRIL",
          "PERCENTAGE": 1.89
         },
         {
          "COUNTRIES": "FRENCH",
          "DEPARTURES": 1350,
          "MONTHS": "APRIL",
          "PERCENTAGE": 2.82
         },
         {
          "COUNTRIES": "GERMANS",
          "DEPARTURES": 1704,
          "MONTHS": "APRIL",
          "PERCENTAGE": 3.56
         },
         {
          "COUNTRIES": "DUTCH",
          "DEPARTURES": 1079,
          "MONTHS": "APRIL",
          "PERCENTAGE": 2.26
         },
         {
          "COUNTRIES": "BRITISH",
          "DEPARTURES": 1854,
          "MONTHS": "APRIL",
          "PERCENTAGE": 3.88
         },
         {
          "COUNTRIES": "AMERICANS",
          "DEPARTURES": 2118,
          "MONTHS": "APRIL",
          "PERCENTAGE": 4.43
         },
         {
          "COUNTRIES": "CANADIANS",
          "DEPARTURES": 408,
          "MONTHS": "APRIL",
          "PERCENTAGE": 0.85
         },
         {
          "COUNTRIES": "CHINESE",
          "DEPARTURES": 1388,
          "MONTHS": "APRIL",
          "PERCENTAGE": 2.9
         },
         {
          "COUNTRIES": "INDIANS",
          "DEPARTURES": 1839,
          "MONTHS": "APRIL",
          "PERCENTAGE": 3.85
         },
         {
          "COUNTRIES": "LEBANESE",
          "DEPARTURES": 766,
          "MONTHS": "APRIL",
          "PERCENTAGE": 1.6
         },
         {
          "COUNTRIES": "AUSTRIALIANS",
          "DEPARTURES": 139,
          "MONTHS": "APRIL",
          "PERCENTAGE": 0.29
         },
         {
          "COUNTRIES": "OTHER NATIONALS",
          "DEPARTURES": 19203,
          "MONTHS": "APRIL",
          "PERCENTAGE": 40.16
         },
         {
          "COUNTRIES": "IVORIANS",
          "DEPARTURES": 1673,
          "MONTHS": "MAY",
          "PERCENTAGE": 3.52
         },
         {
          "COUNTRIES": "BURKINESE",
          "DEPARTURES": 1653,
          "MONTHS": "MAY",
          "PERCENTAGE": 3.48
         },
         {
          "COUNTRIES": "NIGERIANS",
          "DEPARTURES": 9421,
          "MONTHS": "MAY",
          "PERCENTAGE": 19.81
         },
         {
          "COUNTRIES": "LIBERRIANS",
          "DEPARTURES": 1414,
          "MONTHS": "MAY",
          "PERCENTAGE": 2.97
         },
         {
          "COUNTRIES": "SOUTH AFRICANS",
          "DEPARTURES": 1760,
          "MONTHS": "MAY",
          "PERCENTAGE": 3.7
         },
         {
          "COUNTRIES": "TOGOLESE",
          "DEPARTURES": 856,
          "MONTHS": "MAY",
          "PERCENTAGE": 1.8
         },
         {
          "COUNTRIES": "FRENCH",
          "DEPARTURES": 1064,
          "MONTHS": "MAY",
          "PERCENTAGE": 2.24
         },
         {
          "COUNTRIES": "GERMANS",
          "DEPARTURES": 1253,
          "MONTHS": "MAY",
          "PERCENTAGE": 2.63
         },
         {
          "COUNTRIES": "DUTCH",
          "DEPARTURES": 1083,
          "MONTHS": "MAY",
          "PERCENTAGE": 2.28
         },
         {
          "COUNTRIES": "BRITISH",
          "DEPARTURES": 3452,
          "MONTHS": "MAY",
          "PERCENTAGE": 7.26
         },
         {
          "COUNTRIES": "AMERICANS",
          "DEPARTURES": 6113,
          "MONTHS": "MAY",
          "PERCENTAGE": 12.86
         },
         {
          "COUNTRIES": "CANADIANS",
          "DEPARTURES": 1255,
          "MONTHS": "MAY",
          "PERCENTAGE": 2.64
         },
         {
          "COUNTRIES": "CHINESE",
          "DEPARTURES": 1397,
          "MONTHS": "MAY",
          "PERCENTAGE": 2.94
         },
         {
          "COUNTRIES": "INDIANS",
          "DEPARTURES": 1883,
          "MONTHS": "MAY",
          "PERCENTAGE": 3.96
         },
         {
          "COUNTRIES": "LEBANESE",
          "DEPARTURES": 614,
          "MONTHS": "MAY",
          "PERCENTAGE": 1.29
         },
         {
          "COUNTRIES": "AUSTRIALIANS",
          "DEPARTURES": 430,
          "MONTHS": "MAY",
          "PERCENTAGE": 0.9
         },
         {
          "COUNTRIES": "OTHER NATIONALS",
          "DEPARTURES": 12232,
          "MONTHS": "MAY",
          "PERCENTAGE": 25.72
         },
         {
          "COUNTRIES": "IVORIANS",
          "DEPARTURES": 2351,
          "MONTHS": "AUGUST ",
          "PERCENTAGE": 3.95
         },
         {
          "COUNTRIES": "BURKINESE",
          "DEPARTURES": 2750,
          "MONTHS": "AUGUST ",
          "PERCENTAGE": 4.62
         },
         {
          "COUNTRIES": "NIGERIANS",
          "DEPARTURES": 9554,
          "MONTHS": "AUGUST ",
          "PERCENTAGE": 16.04
         },
         {
          "COUNTRIES": "LIBERRIANS",
          "DEPARTURES": 1368,
          "MONTHS": "AUGUST ",
          "PERCENTAGE": 2.3
         },
         {
          "COUNTRIES": "SOUTH AFRICANS",
          "DEPARTURES": 1898,
          "MONTHS": "AUGUST ",
          "PERCENTAGE": 3.19
         },
         {
          "COUNTRIES": "TOGOLESE",
          "DEPARTURES": 1230,
          "MONTHS": "AUGUST ",
          "PERCENTAGE": 2.06
         },
         {
          "COUNTRIES": "FRENCH",
          "DEPARTURES": 1246,
          "MONTHS": "AUGUST ",
          "PERCENTAGE": 2.09
         },
         {
          "COUNTRIES": "GERMANS",
          "DEPARTURES": 2454,
          "MONTHS": "AUGUST ",
          "PERCENTAGE": 4.12
         },
         {
          "COUNTRIES": "DUTCH",
          "DEPARTURES": 2028,
          "MONTHS": "AUGUST ",
          "PERCENTAGE": 3.4
         },
         {
          "COUNTRIES": "BRITISH",
          "DEPARTURES": 6556,
          "MONTHS": "AUGUST ",
          "PERCENTAGE": 11.01
         },
         {
          "COUNTRIES": "AMERICANS",
          "DEPARTURES": 8826,
          "MONTHS": "AUGUST ",
          "PERCENTAGE": 14.82
         },
         {
          "COUNTRIES": "CANADIANS",
          "DEPARTURES": 997,
          "MONTHS": "AUGUST ",
          "PERCENTAGE": 1.67
         },
         {
          "COUNTRIES": "CHINESE",
          "DEPARTURES": 1540,
          "MONTHS": "AUGUST ",
          "PERCENTAGE": 2.59
         },
         {
          "COUNTRIES": "INDIANS",
          "DEPARTURES": 1764,
          "MONTHS": "AUGUST ",
          "PERCENTAGE": 2.96
         },
         {
          "COUNTRIES": "LEBANESE",
          "DEPARTURES": 749,
          "MONTHS": "AUGUST ",
          "PERCENTAGE": 1.26
         },
         {
          "COUNTRIES": "AUSTRIALIANS",
          "DEPARTURES": 380,
          "MONTHS": "AUGUST ",
          "PERCENTAGE": 0.64
         },
         {
          "COUNTRIES": "OTHER NATIONALS",
          "DEPARTURES": 13876,
          "MONTHS": "AUGUST ",
          "PERCENTAGE": 23.29
         },
         {
          "COUNTRIES": "IVORIANS",
          "DEPARTURES": 1954,
          "MONTHS": "JULY ",
          "PERCENTAGE": 3.69
         },
         {
          "COUNTRIES": "BURKINESE",
          "DEPARTURES": 1482,
          "MONTHS": "JULY ",
          "PERCENTAGE": 2.8
         },
         {
          "COUNTRIES": "NIGERIANS",
          "DEPARTURES": 8969,
          "MONTHS": "JULY ",
          "PERCENTAGE": 16.95
         },
         {
          "COUNTRIES": "LIBERRIANS",
          "DEPARTURES": 1520,
          "MONTHS": "JULY ",
          "PERCENTAGE": 2.87
         },
         {
          "COUNTRIES": "SOUTH AFRICANS",
          "DEPARTURES": 1984,
          "MONTHS": "JULY ",
          "PERCENTAGE": 3.75
         },
         {
          "COUNTRIES": "TOGOLESE",
          "DEPARTURES": 1081,
          "MONTHS": "JULY ",
          "PERCENTAGE": 2.04
         },
         {
          "COUNTRIES": "FRENCH",
          "DEPARTURES": 1177,
          "MONTHS": "JULY ",
          "PERCENTAGE": 2.22
         },
         {
          "COUNTRIES": "GERMANS",
          "DEPARTURES": 1614,
          "MONTHS": "JULY ",
          "PERCENTAGE": 3.05
         },
         {
          "COUNTRIES": "DUTCH",
          "DEPARTURES": 1440,
          "MONTHS": "JULY ",
          "PERCENTAGE": 2.72
         },
         {
          "COUNTRIES": "BRITISH",
          "DEPARTURES": 4463,
          "MONTHS": "JULY ",
          "PERCENTAGE": 8.43
         },
         {
          "COUNTRIES": "AMERICANS",
          "DEPARTURES": 7590,
          "MONTHS": "JULY ",
          "PERCENTAGE": 14.34
         },
         {
          "COUNTRIES": "CANADIANS",
          "DEPARTURES": 1085,
          "MONTHS": "JULY ",
          "PERCENTAGE": 2.05
         },
         {
          "COUNTRIES": "CHINESE",
          "DEPARTURES": 1666,
          "MONTHS": "JULY ",
          "PERCENTAGE": 3.15
         },
         {
          "COUNTRIES": "INDIANS",
          "DEPARTURES": 2204,
          "MONTHS": "JULY ",
          "PERCENTAGE": 4.16
         },
         {
          "COUNTRIES": "LEBANESE",
          "DEPARTURES": 1137,
          "MONTHS": "JULY ",
          "PERCENTAGE": 2.15
         },
         {
          "COUNTRIES": "AUSTRIALIANS",
          "DEPARTURES": 456,
          "MONTHS": "JULY ",
          "PERCENTAGE": 0.86
         },
         {
          "COUNTRIES": "OTHER NATIONALS",
          "DEPARTURES": 13097,
          "MONTHS": "JULY ",
          "PERCENTAGE": 24.75
         },
         {
          "COUNTRIES": "IVORIANS",
          "DEPARTURES": 1727,
          "MONTHS": "JUNE ",
          "PERCENTAGE": 3.55
         },
         {
          "COUNTRIES": "BURKINESE",
          "DEPARTURES": 1494,
          "MONTHS": "JUNE ",
          "PERCENTAGE": 3.07
         },
         {
          "COUNTRIES": "NIGERIANS",
          "DEPARTURES": 8867,
          "MONTHS": "JUNE ",
          "PERCENTAGE": 18.21
         },
         {
          "COUNTRIES": "LIBERRIANS",
          "DEPARTURES": 1459,
          "MONTHS": "JUNE ",
          "PERCENTAGE": 3
         },
         {
          "COUNTRIES": "SOUTH AFRICANS",
          "DEPARTURES": 1996,
          "MONTHS": "JUNE ",
          "PERCENTAGE": 4.1
         },
         {
          "COUNTRIES": "TOGOLESE",
          "DEPARTURES": 888,
          "MONTHS": "JUNE ",
          "PERCENTAGE": 1.82
         },
         {
          "COUNTRIES": "FRENCH",
          "DEPARTURES": 1145,
          "MONTHS": "JUNE ",
          "PERCENTAGE": 2.35
         },
         {
          "COUNTRIES": "GERMANS",
          "DEPARTURES": 1184,
          "MONTHS": "JUNE ",
          "PERCENTAGE": 2.43
         },
         {
          "COUNTRIES": "DUTCH",
          "DEPARTURES": 1062,
          "MONTHS": "JUNE ",
          "PERCENTAGE": 2.18
         },
         {
          "COUNTRIES": "BRITISH",
          "DEPARTURES": 3649,
          "MONTHS": "JUNE ",
          "PERCENTAGE": 7.49
         },
         {
          "COUNTRIES": "AMERICANS",
          "DEPARTURES": 6614,
          "MONTHS": "JUNE ",
          "PERCENTAGE": 13.58
         },
         {
          "COUNTRIES": "CANADIANS",
          "DEPARTURES": 1068,
          "MONTHS": "JUNE ",
          "PERCENTAGE": 2.19
         },
         {
          "COUNTRIES": "CHINESE",
          "DEPARTURES": 1479,
          "MONTHS": "JUNE ",
          "PERCENTAGE": 3.04
         },
         {
          "COUNTRIES": "INDIANS",
          "DEPARTURES": 2044,
          "MONTHS": "JUNE ",
          "PERCENTAGE": 4.2
         },
         {
          "COUNTRIES": "LEBANESE",
          "DEPARTURES": 956,
          "MONTHS": "JUNE ",
          "PERCENTAGE": 1.96
         },
         {
          "COUNTRIES": "AUSTRIALIANS",
          "DEPARTURES": 444,
          "MONTHS": "JUNE ",
          "PERCENTAGE": 0.91
         },
         {
          "COUNTRIES": "OTHER NATIONALS",
          "DEPARTURES": 12628,
          "MONTHS": "JUNE ",
          "PERCENTAGE": 25.93
         },
         {
          "COUNTRIES": "IVORIANS",
          "DEPARTURES": 2172,
          "MONTHS": "NOVEMBER  ",
          "PERCENTAGE": 4.49
         },
         {
          "COUNTRIES": "BURKINESE",
          "DEPARTURES": 1404,
          "MONTHS": "NOVEMBER  ",
          "PERCENTAGE": 2.9
         },
         {
          "COUNTRIES": "NIGERIANS",
          "DEPARTURES": 8051,
          "MONTHS": "NOVEMBER  ",
          "PERCENTAGE": 16.65
         },
         {
          "COUNTRIES": "LIBERRIANS",
          "DEPARTURES": 1604,
          "MONTHS": "NOVEMBER  ",
          "PERCENTAGE": 3.32
         },
         {
          "COUNTRIES": "SOUTH AFRICANS",
          "DEPARTURES": 1993,
          "MONTHS": "NOVEMBER  ",
          "PERCENTAGE": 4.12
         },
         {
          "COUNTRIES": "TOGOLESE",
          "DEPARTURES": 1074,
          "MONTHS": "NOVEMBER  ",
          "PERCENTAGE": 2.22
         },
         {
          "COUNTRIES": "FRENCH",
          "DEPARTURES": 1201,
          "MONTHS": "NOVEMBER  ",
          "PERCENTAGE": 2.48
         },
         {
          "COUNTRIES": "GERMANS",
          "DEPARTURES": 1476,
          "MONTHS": "NOVEMBER  ",
          "PERCENTAGE": 3.05
         },
         {
          "COUNTRIES": "DUTCH",
          "DEPARTURES": 1217,
          "MONTHS": "NOVEMBER  ",
          "PERCENTAGE": 2.52
         },
         {
          "COUNTRIES": "BRITISH",
          "DEPARTURES": 4407,
          "MONTHS": "NOVEMBER  ",
          "PERCENTAGE": 9.12
         },
         {
          "COUNTRIES": "AMERICANS",
          "DEPARTURES": 5946,
          "MONTHS": "NOVEMBER  ",
          "PERCENTAGE": 12.3
         },
         {
          "COUNTRIES": "CANADIANS",
          "DEPARTURES": 1033,
          "MONTHS": "NOVEMBER  ",
          "PERCENTAGE": 2.14
         },
         {
          "COUNTRIES": "CHINESE",
          "DEPARTURES": 1263,
          "MONTHS": "NOVEMBER  ",
          "PERCENTAGE": 2.61
         },
         {
          "COUNTRIES": "INDIANS",
          "DEPARTURES": 1865,
          "MONTHS": "NOVEMBER  ",
          "PERCENTAGE": 3.86
         },
         {
          "COUNTRIES": "LEBANESE",
          "DEPARTURES": 548,
          "MONTHS": "NOVEMBER  ",
          "PERCENTAGE": 1.13
         },
         {
          "COUNTRIES": "AUSTRIALIANS",
          "DEPARTURES": 445,
          "MONTHS": "NOVEMBER  ",
          "PERCENTAGE": 0.92
         },
         {
          "COUNTRIES": "OTHER NATIONALS",
          "DEPARTURES": 12648,
          "MONTHS": "NOVEMBER  ",
          "PERCENTAGE": 26.16
         },
         {
          "COUNTRIES": "IVORIANS",
          "DEPARTURES": 1677,
          "MONTHS": "OCTOBER ",
          "PERCENTAGE": 3.62
         },
         {
          "COUNTRIES": "BURKINESE",
          "DEPARTURES": 1416,
          "MONTHS": "OCTOBER ",
          "PERCENTAGE": 3.05
         },
         {
          "COUNTRIES": "NIGERIANS",
          "DEPARTURES": 7583,
          "MONTHS": "OCTOBER ",
          "PERCENTAGE": 16.36
         },
         {
          "COUNTRIES": "LIBERRIANS",
          "DEPARTURES": 1230,
          "MONTHS": "OCTOBER ",
          "PERCENTAGE": 2.65
         },
         {
          "COUNTRIES": "SOUTH AFRICANS",
          "DEPARTURES": 2104,
          "MONTHS": "OCTOBER ",
          "PERCENTAGE": 4.54
         },
         {
          "COUNTRIES": "TOGOLESE",
          "DEPARTURES": 1045,
          "MONTHS": "OCTOBER ",
          "PERCENTAGE": 2.25
         },
         {
          "COUNTRIES": "FRENCH",
          "DEPARTURES": 1187,
          "MONTHS": "OCTOBER ",
          "PERCENTAGE": 2.56
         },
         {
          "COUNTRIES": "GERMANS",
          "DEPARTURES": 1763,
          "MONTHS": "OCTOBER ",
          "PERCENTAGE": 3.8
         },
         {
          "COUNTRIES": "DUTCH",
          "DEPARTURES": 1213,
          "MONTHS": "OCTOBER ",
          "PERCENTAGE": 2.62
         },
         {
          "COUNTRIES": "BRITISH",
          "DEPARTURES": 4226,
          "MONTHS": "OCTOBER ",
          "PERCENTAGE": 9.12
         },
         {
          "COUNTRIES": "AMERICANS",
          "DEPARTURES": 5590,
          "MONTHS": "OCTOBER ",
          "PERCENTAGE": 12.06
         },
         {
          "COUNTRIES": "CANADIANS",
          "DEPARTURES": 918,
          "MONTHS": "OCTOBER ",
          "PERCENTAGE": 1.98
         },
         {
          "COUNTRIES": "CHINESE",
          "DEPARTURES": 1232,
          "MONTHS": "OCTOBER ",
          "PERCENTAGE": 2.66
         },
         {
          "COUNTRIES": "INDIANS",
          "DEPARTURES": 1874,
          "MONTHS": "OCTOBER ",
          "PERCENTAGE": 4.04
         },
         {
          "COUNTRIES": "LEBANESE",
          "DEPARTURES": 603,
          "MONTHS": "OCTOBER ",
          "PERCENTAGE": 1.3
         },
         {
          "COUNTRIES": "AUSTRIALIANS",
          "DEPARTURES": 475,
          "MONTHS": "OCTOBER ",
          "PERCENTAGE": 1.02
         },
         {
          "COUNTRIES": "OTHER NATIONALS",
          "DEPARTURES": 12216,
          "MONTHS": "OCTOBER ",
          "PERCENTAGE": 26.35
         },
         {
          "COUNTRIES": "IVORIANS",
          "DEPARTURES": 2201,
          "MONTHS": "SEPTEMBER ",
          "PERCENTAGE": 4.36
         },
         {
          "COUNTRIES": "BURKINESE",
          "DEPARTURES": 1714,
          "MONTHS": "SEPTEMBER ",
          "PERCENTAGE": 3.39
         },
         {
          "COUNTRIES": "NIGERIANS",
          "DEPARTURES": 8533,
          "MONTHS": "SEPTEMBER ",
          "PERCENTAGE": 16.89
         },
         {
          "COUNTRIES": "LIBERRIANS",
          "DEPARTURES": 1402,
          "MONTHS": "SEPTEMBER ",
          "PERCENTAGE": 2.77
         },
         {
          "COUNTRIES": "SOUTH AFRICANS",
          "DEPARTURES": 1877,
          "MONTHS": "SEPTEMBER ",
          "PERCENTAGE": 3.71
         },
         {
          "COUNTRIES": "TOGOLESE",
          "DEPARTURES": 1285,
          "MONTHS": "SEPTEMBER ",
          "PERCENTAGE": 2.54
         },
         {
          "COUNTRIES": "FRENCH",
          "DEPARTURES": 1074,
          "MONTHS": "SEPTEMBER ",
          "PERCENTAGE": 2.13
         },
         {
          "COUNTRIES": "GERMANS",
          "DEPARTURES": 1968,
          "MONTHS": "SEPTEMBER ",
          "PERCENTAGE": 3.89
         },
         {
          "COUNTRIES": "DUTCH",
          "DEPARTURES": 1056,
          "MONTHS": "SEPTEMBER ",
          "PERCENTAGE": 2.09
         },
         {
          "COUNTRIES": "BRITISH",
          "DEPARTURES": 4887,
          "MONTHS": "SEPTEMBER ",
          "PERCENTAGE": 9.67
         },
         {
          "COUNTRIES": "AMERICANS",
          "DEPARTURES": 6314,
          "MONTHS": "SEPTEMBER ",
          "PERCENTAGE": 12.5
         },
         {
          "COUNTRIES": "CANADIANS",
          "DEPARTURES": 907,
          "MONTHS": "SEPTEMBER ",
          "PERCENTAGE": 1.79
         },
         {
          "COUNTRIES": "CHINESE",
          "DEPARTURES": 1620,
          "MONTHS": "SEPTEMBER ",
          "PERCENTAGE": 3.21
         },
         {
          "COUNTRIES": "INDIANS",
          "DEPARTURES": 1739,
          "MONTHS": "SEPTEMBER ",
          "PERCENTAGE": 3.44
         },
         {
          "COUNTRIES": "LEBANESE",
          "DEPARTURES": 681,
          "MONTHS": "SEPTEMBER ",
          "PERCENTAGE": 1.35
         },
         {
          "COUNTRIES": "AUSTRIALIANS",
          "DEPARTURES": 419,
          "MONTHS": "SEPTEMBER ",
          "PERCENTAGE": 0.83
         },
         {
          "COUNTRIES": "OTHER NATIONALS",
          "DEPARTURES": 12855,
          "MONTHS": "SEPTEMBER ",
          "PERCENTAGE": 25.44
         }
        ]
       },
       "encoding": {
        "color": {
         "field": "COUNTRIES",
         "type": "nominal"
        },
        "column": {
         "field": "MONTHS",
         "type": "nominal"
        },
        "x": {
         "field": "DEPARTURES",
         "type": "quantitative"
        },
        "y": {
         "field": "COUNTRIES",
         "type": "nominal"
        }
       },
       "mark": "bar",
       "width": 220
      },
      "image/png": "[encoded data removed]",
      "text/plain": [
       "<VegaLite 3 object>\n",
       "\n",
       "If you see this message, it means the renderer has not been properly enabled\n",
       "for the frontend that you are using. For more information, see\n",
       "https://altair-viz.github.io/user_guide/troubleshooting.html\n"
      ]
     },
     "execution_count": 13,
     "metadata": {},
     "output_type": "execute_result"
    }
   ],
   "source": [
    "alt.Chart(trans).mark_bar().encode(\n",
    "    column='MONTHS',\n",
    "    x='DEPARTURES',\n",
    "    y='COUNTRIES',\n",
    "    color='COUNTRIES'\n",
    ").properties(width=220)"
   ]
  },
  {
   "cell_type": "code",
   "execution_count": 14,
   "metadata": {},
   "outputs": [
    {
     "name": "stdout",
     "output_type": "stream",
     "text": [
      "        date  precipitation  temp_max  temp_min  wind  weather\n",
      "0 2012-01-01            0.0      12.8       5.0   4.7  drizzle\n",
      "1 2012-01-02           10.9      10.6       2.8   4.5     rain\n",
      "2 2012-01-03            0.8      11.7       7.2   2.3     rain\n",
      "\n",
      "\n",
      "         MONTHS  DEPARTURES        COUNTRIES  PERCENTAGE\n",
      "0       JANUARY        1634         IVORIANS        3.78\n",
      "1       JANUARY        1780        BURKINESE        4.11\n",
      "2       JANUARY        7910        NIGERIANS       18.29\n",
      "3       JANUARY         757       LIBERRIANS        1.75\n",
      "4       JANUARY        1415   SOUTH AFRICANS        3.27\n",
      "..          ...         ...              ...         ...\n",
      "182  SEPTEMBER         1620          CHINESE        3.21\n",
      "183  SEPTEMBER         1739          INDIANS        3.44\n",
      "184  SEPTEMBER          681         LEBANESE        1.35\n",
      "185  SEPTEMBER          419     AUSTRIALIANS        0.83\n",
      "186  SEPTEMBER        12855  OTHER NATIONALS       25.44\n",
      "\n",
      "[187 rows x 4 columns]\n"
     ]
    }
   ],
   "source": [
    "print(source.head(3))\n",
    "print('\\n')\n",
    "print(trans)"
   ]
  },
  {
   "cell_type": "code",
   "execution_count": 15,
   "metadata": {},
   "outputs": [
    {
     "data": {
      "text/html": [
       "<div>\n",
       "<style scoped>\n",
       "    .dataframe tbody tr th:only-of-type {\n",
       "        vertical-align: middle;\n",
       "    }\n",
       "\n",
       "    .dataframe tbody tr th {\n",
       "        vertical-align: top;\n",
       "    }\n",
       "\n",
       "    .dataframe thead th {\n",
       "        text-align: right;\n",
       "    }\n",
       "</style>\n",
       "<table border=\"1\" class=\"dataframe\">\n",
       "  <thead>\n",
       "    <tr style=\"text-align: right;\">\n",
       "      <th></th>\n",
       "      <th>MONTHS</th>\n",
       "      <th>IVORIANS</th>\n",
       "      <th>BURKINESE</th>\n",
       "      <th>NIGERIANS</th>\n",
       "      <th>LIBERRIANS</th>\n",
       "      <th>SOUTH AFRICANS</th>\n",
       "      <th>TOGOLESE</th>\n",
       "      <th>FRENCH</th>\n",
       "      <th>GERMANS</th>\n",
       "      <th>DUTCH</th>\n",
       "      <th>BRITISH</th>\n",
       "      <th>AMERICANS</th>\n",
       "      <th>CANADIANS</th>\n",
       "      <th>CHINESE</th>\n",
       "      <th>INDIANS</th>\n",
       "      <th>LEBANESE</th>\n",
       "      <th>AUSTRIALIANS</th>\n",
       "      <th>OTHER NATIONALS</th>\n",
       "    </tr>\n",
       "  </thead>\n",
       "  <tbody>\n",
       "    <tr>\n",
       "      <td>0</td>\n",
       "      <td>JANUARY DEPARTURE</td>\n",
       "      <td>1634</td>\n",
       "      <td>1780</td>\n",
       "      <td>7910</td>\n",
       "      <td>757</td>\n",
       "      <td>1415</td>\n",
       "      <td>873</td>\n",
       "      <td>905</td>\n",
       "      <td>1548</td>\n",
       "      <td>1250</td>\n",
       "      <td>4798</td>\n",
       "      <td>4987</td>\n",
       "      <td>1074</td>\n",
       "      <td>1539</td>\n",
       "      <td>1465</td>\n",
       "      <td>531</td>\n",
       "      <td>428</td>\n",
       "      <td>10364</td>\n",
       "    </tr>\n",
       "    <tr>\n",
       "      <td>1</td>\n",
       "      <td>FEBRUARY DEPARTURE</td>\n",
       "      <td>1662</td>\n",
       "      <td>1693</td>\n",
       "      <td>6490</td>\n",
       "      <td>734</td>\n",
       "      <td>1563</td>\n",
       "      <td>702</td>\n",
       "      <td>1117</td>\n",
       "      <td>1298</td>\n",
       "      <td>903</td>\n",
       "      <td>3257</td>\n",
       "      <td>3848</td>\n",
       "      <td>937</td>\n",
       "      <td>1987</td>\n",
       "      <td>1525</td>\n",
       "      <td>562</td>\n",
       "      <td>449</td>\n",
       "      <td>9920</td>\n",
       "    </tr>\n",
       "    <tr>\n",
       "      <td>2</td>\n",
       "      <td>MARCH DEPARTURE</td>\n",
       "      <td>3559</td>\n",
       "      <td>3482</td>\n",
       "      <td>13558</td>\n",
       "      <td>1498</td>\n",
       "      <td>1767</td>\n",
       "      <td>1581</td>\n",
       "      <td>1126</td>\n",
       "      <td>1555</td>\n",
       "      <td>1049</td>\n",
       "      <td>3888</td>\n",
       "      <td>4956</td>\n",
       "      <td>1048</td>\n",
       "      <td>1057</td>\n",
       "      <td>1710</td>\n",
       "      <td>622</td>\n",
       "      <td>435</td>\n",
       "      <td>185</td>\n",
       "    </tr>\n",
       "    <tr>\n",
       "      <td>3</td>\n",
       "      <td>APRIL DEPARTURE</td>\n",
       "      <td>1517</td>\n",
       "      <td>1394</td>\n",
       "      <td>9320</td>\n",
       "      <td>1215</td>\n",
       "      <td>1622</td>\n",
       "      <td>906</td>\n",
       "      <td>1350</td>\n",
       "      <td>1704</td>\n",
       "      <td>1079</td>\n",
       "      <td>1854</td>\n",
       "      <td>2118</td>\n",
       "      <td>408</td>\n",
       "      <td>1388</td>\n",
       "      <td>1839</td>\n",
       "      <td>766</td>\n",
       "      <td>139</td>\n",
       "      <td>19203</td>\n",
       "    </tr>\n",
       "    <tr>\n",
       "      <td>4</td>\n",
       "      <td>MAY DEPARTURE</td>\n",
       "      <td>1673</td>\n",
       "      <td>1653</td>\n",
       "      <td>9421</td>\n",
       "      <td>1414</td>\n",
       "      <td>1760</td>\n",
       "      <td>856</td>\n",
       "      <td>1064</td>\n",
       "      <td>1253</td>\n",
       "      <td>1083</td>\n",
       "      <td>3452</td>\n",
       "      <td>6113</td>\n",
       "      <td>1255</td>\n",
       "      <td>1397</td>\n",
       "      <td>1883</td>\n",
       "      <td>614</td>\n",
       "      <td>430</td>\n",
       "      <td>12232</td>\n",
       "    </tr>\n",
       "    <tr>\n",
       "      <td>5</td>\n",
       "      <td>JUNE DEPARTURE</td>\n",
       "      <td>1727</td>\n",
       "      <td>1494</td>\n",
       "      <td>8867</td>\n",
       "      <td>1459</td>\n",
       "      <td>1996</td>\n",
       "      <td>888</td>\n",
       "      <td>1145</td>\n",
       "      <td>1184</td>\n",
       "      <td>1062</td>\n",
       "      <td>3649</td>\n",
       "      <td>6614</td>\n",
       "      <td>1068</td>\n",
       "      <td>1479</td>\n",
       "      <td>2044</td>\n",
       "      <td>956</td>\n",
       "      <td>444</td>\n",
       "      <td>12628</td>\n",
       "    </tr>\n",
       "    <tr>\n",
       "      <td>6</td>\n",
       "      <td>JULY DEPARTURE</td>\n",
       "      <td>1954</td>\n",
       "      <td>1482</td>\n",
       "      <td>8969</td>\n",
       "      <td>1520</td>\n",
       "      <td>1984</td>\n",
       "      <td>1081</td>\n",
       "      <td>1177</td>\n",
       "      <td>1614</td>\n",
       "      <td>1440</td>\n",
       "      <td>4463</td>\n",
       "      <td>7590</td>\n",
       "      <td>1085</td>\n",
       "      <td>1666</td>\n",
       "      <td>2204</td>\n",
       "      <td>1137</td>\n",
       "      <td>456</td>\n",
       "      <td>13097</td>\n",
       "    </tr>\n",
       "    <tr>\n",
       "      <td>7</td>\n",
       "      <td>AUGUST DEPARTURE</td>\n",
       "      <td>2351</td>\n",
       "      <td>2750</td>\n",
       "      <td>9554</td>\n",
       "      <td>1368</td>\n",
       "      <td>1898</td>\n",
       "      <td>1230</td>\n",
       "      <td>1246</td>\n",
       "      <td>2454</td>\n",
       "      <td>2028</td>\n",
       "      <td>6556</td>\n",
       "      <td>8826</td>\n",
       "      <td>997</td>\n",
       "      <td>1540</td>\n",
       "      <td>1764</td>\n",
       "      <td>749</td>\n",
       "      <td>380</td>\n",
       "      <td>13876</td>\n",
       "    </tr>\n",
       "    <tr>\n",
       "      <td>8</td>\n",
       "      <td>SEPTEMBER DEPARTURE</td>\n",
       "      <td>2201</td>\n",
       "      <td>1714</td>\n",
       "      <td>8533</td>\n",
       "      <td>1402</td>\n",
       "      <td>1877</td>\n",
       "      <td>1285</td>\n",
       "      <td>1074</td>\n",
       "      <td>1968</td>\n",
       "      <td>1056</td>\n",
       "      <td>4887</td>\n",
       "      <td>6314</td>\n",
       "      <td>907</td>\n",
       "      <td>1620</td>\n",
       "      <td>1739</td>\n",
       "      <td>681</td>\n",
       "      <td>419</td>\n",
       "      <td>12855</td>\n",
       "    </tr>\n",
       "    <tr>\n",
       "      <td>9</td>\n",
       "      <td>OCTOBER DEPARTURE</td>\n",
       "      <td>1677</td>\n",
       "      <td>1416</td>\n",
       "      <td>7583</td>\n",
       "      <td>1230</td>\n",
       "      <td>2104</td>\n",
       "      <td>1045</td>\n",
       "      <td>1187</td>\n",
       "      <td>1763</td>\n",
       "      <td>1213</td>\n",
       "      <td>4226</td>\n",
       "      <td>5590</td>\n",
       "      <td>918</td>\n",
       "      <td>1232</td>\n",
       "      <td>1874</td>\n",
       "      <td>603</td>\n",
       "      <td>475</td>\n",
       "      <td>12216</td>\n",
       "    </tr>\n",
       "    <tr>\n",
       "      <td>10</td>\n",
       "      <td>NOVEMBER DEPARTURE</td>\n",
       "      <td>2172</td>\n",
       "      <td>1404</td>\n",
       "      <td>8051</td>\n",
       "      <td>1604</td>\n",
       "      <td>1993</td>\n",
       "      <td>1074</td>\n",
       "      <td>1201</td>\n",
       "      <td>1476</td>\n",
       "      <td>1217</td>\n",
       "      <td>4407</td>\n",
       "      <td>5946</td>\n",
       "      <td>1033</td>\n",
       "      <td>1263</td>\n",
       "      <td>1865</td>\n",
       "      <td>548</td>\n",
       "      <td>445</td>\n",
       "      <td>12648</td>\n",
       "    </tr>\n",
       "  </tbody>\n",
       "</table>\n",
       "</div>"
      ],
      "text/plain": [
       "                 MONTHS  IVORIANS  BURKINESE  NIGERIANS  LIBERRIANS  \\\n",
       "0     JANUARY DEPARTURE      1634       1780       7910         757   \n",
       "1    FEBRUARY DEPARTURE      1662       1693       6490         734   \n",
       "2       MARCH DEPARTURE      3559       3482      13558        1498   \n",
       "3       APRIL DEPARTURE      1517       1394       9320        1215   \n",
       "4         MAY DEPARTURE      1673       1653       9421        1414   \n",
       "5        JUNE DEPARTURE      1727       1494       8867        1459   \n",
       "6        JULY DEPARTURE      1954       1482       8969        1520   \n",
       "7      AUGUST DEPARTURE      2351       2750       9554        1368   \n",
       "8   SEPTEMBER DEPARTURE      2201       1714       8533        1402   \n",
       "9     OCTOBER DEPARTURE      1677       1416       7583        1230   \n",
       "10   NOVEMBER DEPARTURE      2172       1404       8051        1604   \n",
       "\n",
       "    SOUTH AFRICANS  TOGOLESE  FRENCH  GERMANS  DUTCH  BRITISH  AMERICANS  \\\n",
       "0             1415       873     905     1548   1250     4798       4987   \n",
       "1             1563       702    1117     1298    903     3257       3848   \n",
       "2             1767      1581    1126     1555   1049     3888       4956   \n",
       "3             1622       906    1350     1704   1079     1854       2118   \n",
       "4             1760       856    1064     1253   1083     3452       6113   \n",
       "5             1996       888    1145     1184   1062     3649       6614   \n",
       "6             1984      1081    1177     1614   1440     4463       7590   \n",
       "7             1898      1230    1246     2454   2028     6556       8826   \n",
       "8             1877      1285    1074     1968   1056     4887       6314   \n",
       "9             2104      1045    1187     1763   1213     4226       5590   \n",
       "10            1993      1074    1201     1476   1217     4407       5946   \n",
       "\n",
       "    CANADIANS  CHINESE  INDIANS  LEBANESE  AUSTRIALIANS  OTHER NATIONALS  \n",
       "0        1074     1539     1465       531           428            10364  \n",
       "1         937     1987     1525       562           449             9920  \n",
       "2        1048     1057     1710       622           435              185  \n",
       "3         408     1388     1839       766           139            19203  \n",
       "4        1255     1397     1883       614           430            12232  \n",
       "5        1068     1479     2044       956           444            12628  \n",
       "6        1085     1666     2204      1137           456            13097  \n",
       "7         997     1540     1764       749           380            13876  \n",
       "8         907     1620     1739       681           419            12855  \n",
       "9         918     1232     1874       603           475            12216  \n",
       "10       1033     1263     1865       548           445            12648  "
      ]
     },
     "execution_count": 15,
     "metadata": {},
     "output_type": "execute_result"
    }
   ],
   "source": [
    "df1"
   ]
  },
  {
   "cell_type": "code",
   "execution_count": null,
   "metadata": {},
   "outputs": [],
   "source": []
  },
  {
   "cell_type": "code",
   "execution_count": null,
   "metadata": {},
   "outputs": [],
   "source": []
  },
  {
   "cell_type": "code",
   "execution_count": 27,
   "metadata": {},
   "outputs": [
    {
     "data": {
      "application/vnd.vegalite.v3+json": {
       "$schema": "https://vega.github.io/schema/vega-lite/v3.4.0.json",
       "background": "white",
       "config": {
        "legend": {
         "cornerRadius": 20,
         "fillColor": "#EEEEEE",
         "orient": "top-left",
         "padding": 10,
         "strokeColor": "gray"
        },
        "mark": {
         "tooltip": null
        },
        "title": {
         "align": "right",
         "anchor": "start",
         "color": "black",
         "font": "Courier",
         "fontSize": 40
        },
        "view": {
         "height": 300,
         "stroke": "transparent",
         "width": 400
        }
       },
       "data": {
        "name": "data-563364fef5ae5fb87a3c7902ddebb742"
       },
       "datasets": {
        "data-563364fef5ae5fb87a3c7902ddebb742": [
         {
          "COUNTRIES": "IVORIANS",
          "DEPARTURES": 1634,
          "MONTHS": "JANUARY",
          "PERCENTAGE": 3.78
         },
         {
          "COUNTRIES": "BURKINESE",
          "DEPARTURES": 1780,
          "MONTHS": "JANUARY",
          "PERCENTAGE": 4.11
         },
         {
          "COUNTRIES": "NIGERIANS",
          "DEPARTURES": 7910,
          "MONTHS": "JANUARY",
          "PERCENTAGE": 18.29
         },
         {
          "COUNTRIES": "LIBERRIANS",
          "DEPARTURES": 757,
          "MONTHS": "JANUARY",
          "PERCENTAGE": 1.75
         },
         {
          "COUNTRIES": "SOUTH AFRICANS",
          "DEPARTURES": 1415,
          "MONTHS": "JANUARY",
          "PERCENTAGE": 3.27
         },
         {
          "COUNTRIES": "TOGOLESE",
          "DEPARTURES": 873,
          "MONTHS": "JANUARY",
          "PERCENTAGE": 2.02
         },
         {
          "COUNTRIES": "FRENCH",
          "DEPARTURES": 905,
          "MONTHS": "JANUARY",
          "PERCENTAGE": 2.09
         },
         {
          "COUNTRIES": "GERMANS",
          "DEPARTURES": 1548,
          "MONTHS": "JANUARY",
          "PERCENTAGE": 3.58
         },
         {
          "COUNTRIES": "DUTCH",
          "DEPARTURES": 1250,
          "MONTHS": "JANUARY",
          "PERCENTAGE": 2.89
         },
         {
          "COUNTRIES": "BRITISH",
          "DEPARTURES": 4798,
          "MONTHS": "JANUARY",
          "PERCENTAGE": 11.09
         },
         {
          "COUNTRIES": "AMERICANS",
          "DEPARTURES": 4987,
          "MONTHS": "JANUARY",
          "PERCENTAGE": 11.53
         },
         {
          "COUNTRIES": "CANADIANS",
          "DEPARTURES": 1074,
          "MONTHS": "JANUARY",
          "PERCENTAGE": 2.48
         },
         {
          "COUNTRIES": "CHINESE",
          "DEPARTURES": 1539,
          "MONTHS": "JANUARY",
          "PERCENTAGE": 3.56
         },
         {
          "COUNTRIES": "INDIANS",
          "DEPARTURES": 1465,
          "MONTHS": "JANUARY",
          "PERCENTAGE": 3.39
         },
         {
          "COUNTRIES": "LEBANESE",
          "DEPARTURES": 531,
          "MONTHS": "JANUARY",
          "PERCENTAGE": 1.23
         },
         {
          "COUNTRIES": "AUSTRIALIANS",
          "DEPARTURES": 428,
          "MONTHS": "JANUARY",
          "PERCENTAGE": 0.99
         },
         {
          "COUNTRIES": "OTHER NATIONALS",
          "DEPARTURES": 10364,
          "MONTHS": "JANUARY",
          "PERCENTAGE": 23.96
         },
         {
          "COUNTRIES": "IVORIANS",
          "DEPARTURES": 1662,
          "MONTHS": "FEBRUARY",
          "PERCENTAGE": 4.3
         },
         {
          "COUNTRIES": "BURKINESE",
          "DEPARTURES": 1693,
          "MONTHS": "FEBRUARY",
          "PERCENTAGE": 4.38
         },
         {
          "COUNTRIES": "NIGERIANS",
          "DEPARTURES": 6490,
          "MONTHS": "FEBRUARY",
          "PERCENTAGE": 16.79
         },
         {
          "COUNTRIES": "LIBERRIANS",
          "DEPARTURES": 734,
          "MONTHS": "FEBRUARY",
          "PERCENTAGE": 1.9
         },
         {
          "COUNTRIES": "SOUTH AFRICANS",
          "DEPARTURES": 1563,
          "MONTHS": "FEBRUARY",
          "PERCENTAGE": 4.04
         },
         {
          "COUNTRIES": "TOGOLESE",
          "DEPARTURES": 702,
          "MONTHS": "FEBRUARY",
          "PERCENTAGE": 1.82
         },
         {
          "COUNTRIES": "FRENCH",
          "DEPARTURES": 1117,
          "MONTHS": "FEBRUARY",
          "PERCENTAGE": 2.89
         },
         {
          "COUNTRIES": "GERMANS",
          "DEPARTURES": 1298,
          "MONTHS": "FEBRUARY",
          "PERCENTAGE": 3.36
         },
         {
          "COUNTRIES": "DUTCH",
          "DEPARTURES": 903,
          "MONTHS": "FEBRUARY",
          "PERCENTAGE": 2.34
         },
         {
          "COUNTRIES": "BRITISH",
          "DEPARTURES": 3257,
          "MONTHS": "FEBRUARY",
          "PERCENTAGE": 8.43
         },
         {
          "COUNTRIES": "AMERICANS",
          "DEPARTURES": 3848,
          "MONTHS": "FEBRUARY",
          "PERCENTAGE": 9.96
         },
         {
          "COUNTRIES": "CANADIANS",
          "DEPARTURES": 937,
          "MONTHS": "FEBRUARY",
          "PERCENTAGE": 2.42
         },
         {
          "COUNTRIES": "CHINESE",
          "DEPARTURES": 1987,
          "MONTHS": "FEBRUARY",
          "PERCENTAGE": 5.14
         },
         {
          "COUNTRIES": "INDIANS",
          "DEPARTURES": 1525,
          "MONTHS": "FEBRUARY",
          "PERCENTAGE": 3.95
         },
         {
          "COUNTRIES": "LEBANESE",
          "DEPARTURES": 562,
          "MONTHS": "FEBRUARY",
          "PERCENTAGE": 1.45
         },
         {
          "COUNTRIES": "AUSTRIALIANS",
          "DEPARTURES": 449,
          "MONTHS": "FEBRUARY",
          "PERCENTAGE": 1.16
         },
         {
          "COUNTRIES": "OTHER NATIONALS",
          "DEPARTURES": 9920,
          "MONTHS": "FEBRUARY",
          "PERCENTAGE": 25.67
         },
         {
          "COUNTRIES": "IVORIANS",
          "DEPARTURES": 3559,
          "MONTHS": "MARCH",
          "PERCENTAGE": 8.26
         },
         {
          "COUNTRIES": "BURKINESE",
          "DEPARTURES": 3482,
          "MONTHS": "MARCH",
          "PERCENTAGE": 8.08
         },
         {
          "COUNTRIES": "NIGERIANS",
          "DEPARTURES": 13558,
          "MONTHS": "MARCH",
          "PERCENTAGE": 31.47
         },
         {
          "COUNTRIES": "LIBERRIANS",
          "DEPARTURES": 1498,
          "MONTHS": "MARCH",
          "PERCENTAGE": 3.48
         },
         {
          "COUNTRIES": "SOUTH AFRICANS",
          "DEPARTURES": 1767,
          "MONTHS": "MARCH",
          "PERCENTAGE": 4.1
         },
         {
          "COUNTRIES": "TOGOLESE",
          "DEPARTURES": 1581,
          "MONTHS": "MARCH",
          "PERCENTAGE": 3.67
         },
         {
          "COUNTRIES": "FRENCH",
          "DEPARTURES": 1126,
          "MONTHS": "MARCH",
          "PERCENTAGE": 2.61
         },
         {
          "COUNTRIES": "GERMANS",
          "DEPARTURES": 1555,
          "MONTHS": "MARCH",
          "PERCENTAGE": 3.61
         },
         {
          "COUNTRIES": "DUTCH",
          "DEPARTURES": 1049,
          "MONTHS": "MARCH",
          "PERCENTAGE": 2.44
         },
         {
          "COUNTRIES": "BRITISH",
          "DEPARTURES": 3888,
          "MONTHS": "MARCH",
          "PERCENTAGE": 9.03
         },
         {
          "COUNTRIES": "AMERICANS",
          "DEPARTURES": 4956,
          "MONTHS": "MARCH",
          "PERCENTAGE": 11.51
         },
         {
          "COUNTRIES": "CANADIANS",
          "DEPARTURES": 1048,
          "MONTHS": "MARCH",
          "PERCENTAGE": 2.43
         },
         {
          "COUNTRIES": "CHINESE",
          "DEPARTURES": 1057,
          "MONTHS": "MARCH",
          "PERCENTAGE": 2.45
         },
         {
          "COUNTRIES": "INDIANS",
          "DEPARTURES": 1710,
          "MONTHS": "MARCH",
          "PERCENTAGE": 3.97
         },
         {
          "COUNTRIES": "LEBANESE",
          "DEPARTURES": 622,
          "MONTHS": "MARCH",
          "PERCENTAGE": 1.44
         },
         {
          "COUNTRIES": "AUSTRIALIANS",
          "DEPARTURES": 435,
          "MONTHS": "MARCH",
          "PERCENTAGE": 1.01
         },
         {
          "COUNTRIES": "OTHER NATIONALS",
          "DEPARTURES": 185,
          "MONTHS": "MARCH",
          "PERCENTAGE": 0.43
         },
         {
          "COUNTRIES": "IVORIANS",
          "DEPARTURES": 1517,
          "MONTHS": "APRIL",
          "PERCENTAGE": 3.17
         },
         {
          "COUNTRIES": "BURKINESE",
          "DEPARTURES": 1394,
          "MONTHS": "APRIL",
          "PERCENTAGE": 2.91
         },
         {
          "COUNTRIES": "NIGERIANS",
          "DEPARTURES": 9320,
          "MONTHS": "APRIL",
          "PERCENTAGE": 19.49
         },
         {
          "COUNTRIES": "LIBERRIANS",
          "DEPARTURES": 1215,
          "MONTHS": "APRIL",
          "PERCENTAGE": 2.54
         },
         {
          "COUNTRIES": "SOUTH AFRICANS",
          "DEPARTURES": 1622,
          "MONTHS": "APRIL",
          "PERCENTAGE": 3.39
         },
         {
          "COUNTRIES": "TOGOLESE",
          "DEPARTURES": 906,
          "MONTHS": "APRIL",
          "PERCENTAGE": 1.89
         },
         {
          "COUNTRIES": "FRENCH",
          "DEPARTURES": 1350,
          "MONTHS": "APRIL",
          "PERCENTAGE": 2.82
         },
         {
          "COUNTRIES": "GERMANS",
          "DEPARTURES": 1704,
          "MONTHS": "APRIL",
          "PERCENTAGE": 3.56
         },
         {
          "COUNTRIES": "DUTCH",
          "DEPARTURES": 1079,
          "MONTHS": "APRIL",
          "PERCENTAGE": 2.26
         },
         {
          "COUNTRIES": "BRITISH",
          "DEPARTURES": 1854,
          "MONTHS": "APRIL",
          "PERCENTAGE": 3.88
         },
         {
          "COUNTRIES": "AMERICANS",
          "DEPARTURES": 2118,
          "MONTHS": "APRIL",
          "PERCENTAGE": 4.43
         },
         {
          "COUNTRIES": "CANADIANS",
          "DEPARTURES": 408,
          "MONTHS": "APRIL",
          "PERCENTAGE": 0.85
         },
         {
          "COUNTRIES": "CHINESE",
          "DEPARTURES": 1388,
          "MONTHS": "APRIL",
          "PERCENTAGE": 2.9
         },
         {
          "COUNTRIES": "INDIANS",
          "DEPARTURES": 1839,
          "MONTHS": "APRIL",
          "PERCENTAGE": 3.85
         },
         {
          "COUNTRIES": "LEBANESE",
          "DEPARTURES": 766,
          "MONTHS": "APRIL",
          "PERCENTAGE": 1.6
         },
         {
          "COUNTRIES": "AUSTRIALIANS",
          "DEPARTURES": 139,
          "MONTHS": "APRIL",
          "PERCENTAGE": 0.29
         },
         {
          "COUNTRIES": "OTHER NATIONALS",
          "DEPARTURES": 19203,
          "MONTHS": "APRIL",
          "PERCENTAGE": 40.16
         },
         {
          "COUNTRIES": "IVORIANS",
          "DEPARTURES": 1673,
          "MONTHS": "MAY",
          "PERCENTAGE": 3.52
         },
         {
          "COUNTRIES": "BURKINESE",
          "DEPARTURES": 1653,
          "MONTHS": "MAY",
          "PERCENTAGE": 3.48
         },
         {
          "COUNTRIES": "NIGERIANS",
          "DEPARTURES": 9421,
          "MONTHS": "MAY",
          "PERCENTAGE": 19.81
         },
         {
          "COUNTRIES": "LIBERRIANS",
          "DEPARTURES": 1414,
          "MONTHS": "MAY",
          "PERCENTAGE": 2.97
         },
         {
          "COUNTRIES": "SOUTH AFRICANS",
          "DEPARTURES": 1760,
          "MONTHS": "MAY",
          "PERCENTAGE": 3.7
         },
         {
          "COUNTRIES": "TOGOLESE",
          "DEPARTURES": 856,
          "MONTHS": "MAY",
          "PERCENTAGE": 1.8
         },
         {
          "COUNTRIES": "FRENCH",
          "DEPARTURES": 1064,
          "MONTHS": "MAY",
          "PERCENTAGE": 2.24
         },
         {
          "COUNTRIES": "GERMANS",
          "DEPARTURES": 1253,
          "MONTHS": "MAY",
          "PERCENTAGE": 2.63
         },
         {
          "COUNTRIES": "DUTCH",
          "DEPARTURES": 1083,
          "MONTHS": "MAY",
          "PERCENTAGE": 2.28
         },
         {
          "COUNTRIES": "BRITISH",
          "DEPARTURES": 3452,
          "MONTHS": "MAY",
          "PERCENTAGE": 7.26
         },
         {
          "COUNTRIES": "AMERICANS",
          "DEPARTURES": 6113,
          "MONTHS": "MAY",
          "PERCENTAGE": 12.86
         },
         {
          "COUNTRIES": "CANADIANS",
          "DEPARTURES": 1255,
          "MONTHS": "MAY",
          "PERCENTAGE": 2.64
         },
         {
          "COUNTRIES": "CHINESE",
          "DEPARTURES": 1397,
          "MONTHS": "MAY",
          "PERCENTAGE": 2.94
         },
         {
          "COUNTRIES": "INDIANS",
          "DEPARTURES": 1883,
          "MONTHS": "MAY",
          "PERCENTAGE": 3.96
         },
         {
          "COUNTRIES": "LEBANESE",
          "DEPARTURES": 614,
          "MONTHS": "MAY",
          "PERCENTAGE": 1.29
         },
         {
          "COUNTRIES": "AUSTRIALIANS",
          "DEPARTURES": 430,
          "MONTHS": "MAY",
          "PERCENTAGE": 0.9
         },
         {
          "COUNTRIES": "OTHER NATIONALS",
          "DEPARTURES": 12232,
          "MONTHS": "MAY",
          "PERCENTAGE": 25.72
         },
         {
          "COUNTRIES": "IVORIANS",
          "DEPARTURES": 2351,
          "MONTHS": "AUGUST ",
          "PERCENTAGE": 3.95
         },
         {
          "COUNTRIES": "BURKINESE",
          "DEPARTURES": 2750,
          "MONTHS": "AUGUST ",
          "PERCENTAGE": 4.62
         },
         {
          "COUNTRIES": "NIGERIANS",
          "DEPARTURES": 9554,
          "MONTHS": "AUGUST ",
          "PERCENTAGE": 16.04
         },
         {
          "COUNTRIES": "LIBERRIANS",
          "DEPARTURES": 1368,
          "MONTHS": "AUGUST ",
          "PERCENTAGE": 2.3
         },
         {
          "COUNTRIES": "SOUTH AFRICANS",
          "DEPARTURES": 1898,
          "MONTHS": "AUGUST ",
          "PERCENTAGE": 3.19
         },
         {
          "COUNTRIES": "TOGOLESE",
          "DEPARTURES": 1230,
          "MONTHS": "AUGUST ",
          "PERCENTAGE": 2.06
         },
         {
          "COUNTRIES": "FRENCH",
          "DEPARTURES": 1246,
          "MONTHS": "AUGUST ",
          "PERCENTAGE": 2.09
         },
         {
          "COUNTRIES": "GERMANS",
          "DEPARTURES": 2454,
          "MONTHS": "AUGUST ",
          "PERCENTAGE": 4.12
         },
         {
          "COUNTRIES": "DUTCH",
          "DEPARTURES": 2028,
          "MONTHS": "AUGUST ",
          "PERCENTAGE": 3.4
         },
         {
          "COUNTRIES": "BRITISH",
          "DEPARTURES": 6556,
          "MONTHS": "AUGUST ",
          "PERCENTAGE": 11.01
         },
         {
          "COUNTRIES": "AMERICANS",
          "DEPARTURES": 8826,
          "MONTHS": "AUGUST ",
          "PERCENTAGE": 14.82
         },
         {
          "COUNTRIES": "CANADIANS",
          "DEPARTURES": 997,
          "MONTHS": "AUGUST ",
          "PERCENTAGE": 1.67
         },
         {
          "COUNTRIES": "CHINESE",
          "DEPARTURES": 1540,
          "MONTHS": "AUGUST ",
          "PERCENTAGE": 2.59
         },
         {
          "COUNTRIES": "INDIANS",
          "DEPARTURES": 1764,
          "MONTHS": "AUGUST ",
          "PERCENTAGE": 2.96
         },
         {
          "COUNTRIES": "LEBANESE",
          "DEPARTURES": 749,
          "MONTHS": "AUGUST ",
          "PERCENTAGE": 1.26
         },
         {
          "COUNTRIES": "AUSTRIALIANS",
          "DEPARTURES": 380,
          "MONTHS": "AUGUST ",
          "PERCENTAGE": 0.64
         },
         {
          "COUNTRIES": "OTHER NATIONALS",
          "DEPARTURES": 13876,
          "MONTHS": "AUGUST ",
          "PERCENTAGE": 23.29
         },
         {
          "COUNTRIES": "IVORIANS",
          "DEPARTURES": 1954,
          "MONTHS": "JULY ",
          "PERCENTAGE": 3.69
         },
         {
          "COUNTRIES": "BURKINESE",
          "DEPARTURES": 1482,
          "MONTHS": "JULY ",
          "PERCENTAGE": 2.8
         },
         {
          "COUNTRIES": "NIGERIANS",
          "DEPARTURES": 8969,
          "MONTHS": "JULY ",
          "PERCENTAGE": 16.95
         },
         {
          "COUNTRIES": "LIBERRIANS",
          "DEPARTURES": 1520,
          "MONTHS": "JULY ",
          "PERCENTAGE": 2.87
         },
         {
          "COUNTRIES": "SOUTH AFRICANS",
          "DEPARTURES": 1984,
          "MONTHS": "JULY ",
          "PERCENTAGE": 3.75
         },
         {
          "COUNTRIES": "TOGOLESE",
          "DEPARTURES": 1081,
          "MONTHS": "JULY ",
          "PERCENTAGE": 2.04
         },
         {
          "COUNTRIES": "FRENCH",
          "DEPARTURES": 1177,
          "MONTHS": "JULY ",
          "PERCENTAGE": 2.22
         },
         {
          "COUNTRIES": "GERMANS",
          "DEPARTURES": 1614,
          "MONTHS": "JULY ",
          "PERCENTAGE": 3.05
         },
         {
          "COUNTRIES": "DUTCH",
          "DEPARTURES": 1440,
          "MONTHS": "JULY ",
          "PERCENTAGE": 2.72
         },
         {
          "COUNTRIES": "BRITISH",
          "DEPARTURES": 4463,
          "MONTHS": "JULY ",
          "PERCENTAGE": 8.43
         },
         {
          "COUNTRIES": "AMERICANS",
          "DEPARTURES": 7590,
          "MONTHS": "JULY ",
          "PERCENTAGE": 14.34
         },
         {
          "COUNTRIES": "CANADIANS",
          "DEPARTURES": 1085,
          "MONTHS": "JULY ",
          "PERCENTAGE": 2.05
         },
         {
          "COUNTRIES": "CHINESE",
          "DEPARTURES": 1666,
          "MONTHS": "JULY ",
          "PERCENTAGE": 3.15
         },
         {
          "COUNTRIES": "INDIANS",
          "DEPARTURES": 2204,
          "MONTHS": "JULY ",
          "PERCENTAGE": 4.16
         },
         {
          "COUNTRIES": "LEBANESE",
          "DEPARTURES": 1137,
          "MONTHS": "JULY ",
          "PERCENTAGE": 2.15
         },
         {
          "COUNTRIES": "AUSTRIALIANS",
          "DEPARTURES": 456,
          "MONTHS": "JULY ",
          "PERCENTAGE": 0.86
         },
         {
          "COUNTRIES": "OTHER NATIONALS",
          "DEPARTURES": 13097,
          "MONTHS": "JULY ",
          "PERCENTAGE": 24.75
         },
         {
          "COUNTRIES": "IVORIANS",
          "DEPARTURES": 1727,
          "MONTHS": "JUNE ",
          "PERCENTAGE": 3.55
         },
         {
          "COUNTRIES": "BURKINESE",
          "DEPARTURES": 1494,
          "MONTHS": "JUNE ",
          "PERCENTAGE": 3.07
         },
         {
          "COUNTRIES": "NIGERIANS",
          "DEPARTURES": 8867,
          "MONTHS": "JUNE ",
          "PERCENTAGE": 18.21
         },
         {
          "COUNTRIES": "LIBERRIANS",
          "DEPARTURES": 1459,
          "MONTHS": "JUNE ",
          "PERCENTAGE": 3
         },
         {
          "COUNTRIES": "SOUTH AFRICANS",
          "DEPARTURES": 1996,
          "MONTHS": "JUNE ",
          "PERCENTAGE": 4.1
         },
         {
          "COUNTRIES": "TOGOLESE",
          "DEPARTURES": 888,
          "MONTHS": "JUNE ",
          "PERCENTAGE": 1.82
         },
         {
          "COUNTRIES": "FRENCH",
          "DEPARTURES": 1145,
          "MONTHS": "JUNE ",
          "PERCENTAGE": 2.35
         },
         {
          "COUNTRIES": "GERMANS",
          "DEPARTURES": 1184,
          "MONTHS": "JUNE ",
          "PERCENTAGE": 2.43
         },
         {
          "COUNTRIES": "DUTCH",
          "DEPARTURES": 1062,
          "MONTHS": "JUNE ",
          "PERCENTAGE": 2.18
         },
         {
          "COUNTRIES": "BRITISH",
          "DEPARTURES": 3649,
          "MONTHS": "JUNE ",
          "PERCENTAGE": 7.49
         },
         {
          "COUNTRIES": "AMERICANS",
          "DEPARTURES": 6614,
          "MONTHS": "JUNE ",
          "PERCENTAGE": 13.58
         },
         {
          "COUNTRIES": "CANADIANS",
          "DEPARTURES": 1068,
          "MONTHS": "JUNE ",
          "PERCENTAGE": 2.19
         },
         {
          "COUNTRIES": "CHINESE",
          "DEPARTURES": 1479,
          "MONTHS": "JUNE ",
          "PERCENTAGE": 3.04
         },
         {
          "COUNTRIES": "INDIANS",
          "DEPARTURES": 2044,
          "MONTHS": "JUNE ",
          "PERCENTAGE": 4.2
         },
         {
          "COUNTRIES": "LEBANESE",
          "DEPARTURES": 956,
          "MONTHS": "JUNE ",
          "PERCENTAGE": 1.96
         },
         {
          "COUNTRIES": "AUSTRIALIANS",
          "DEPARTURES": 444,
          "MONTHS": "JUNE ",
          "PERCENTAGE": 0.91
         },
         {
          "COUNTRIES": "OTHER NATIONALS",
          "DEPARTURES": 12628,
          "MONTHS": "JUNE ",
          "PERCENTAGE": 25.93
         },
         {
          "COUNTRIES": "IVORIANS",
          "DEPARTURES": 2172,
          "MONTHS": "NOVEMBER  ",
          "PERCENTAGE": 4.49
         },
         {
          "COUNTRIES": "BURKINESE",
          "DEPARTURES": 1404,
          "MONTHS": "NOVEMBER  ",
          "PERCENTAGE": 2.9
         },
         {
          "COUNTRIES": "NIGERIANS",
          "DEPARTURES": 8051,
          "MONTHS": "NOVEMBER  ",
          "PERCENTAGE": 16.65
         },
         {
          "COUNTRIES": "LIBERRIANS",
          "DEPARTURES": 1604,
          "MONTHS": "NOVEMBER  ",
          "PERCENTAGE": 3.32
         },
         {
          "COUNTRIES": "SOUTH AFRICANS",
          "DEPARTURES": 1993,
          "MONTHS": "NOVEMBER  ",
          "PERCENTAGE": 4.12
         },
         {
          "COUNTRIES": "TOGOLESE",
          "DEPARTURES": 1074,
          "MONTHS": "NOVEMBER  ",
          "PERCENTAGE": 2.22
         },
         {
          "COUNTRIES": "FRENCH",
          "DEPARTURES": 1201,
          "MONTHS": "NOVEMBER  ",
          "PERCENTAGE": 2.48
         },
         {
          "COUNTRIES": "GERMANS",
          "DEPARTURES": 1476,
          "MONTHS": "NOVEMBER  ",
          "PERCENTAGE": 3.05
         },
         {
          "COUNTRIES": "DUTCH",
          "DEPARTURES": 1217,
          "MONTHS": "NOVEMBER  ",
          "PERCENTAGE": 2.52
         },
         {
          "COUNTRIES": "BRITISH",
          "DEPARTURES": 4407,
          "MONTHS": "NOVEMBER  ",
          "PERCENTAGE": 9.12
         },
         {
          "COUNTRIES": "AMERICANS",
          "DEPARTURES": 5946,
          "MONTHS": "NOVEMBER  ",
          "PERCENTAGE": 12.3
         },
         {
          "COUNTRIES": "CANADIANS",
          "DEPARTURES": 1033,
          "MONTHS": "NOVEMBER  ",
          "PERCENTAGE": 2.14
         },
         {
          "COUNTRIES": "CHINESE",
          "DEPARTURES": 1263,
          "MONTHS": "NOVEMBER  ",
          "PERCENTAGE": 2.61
         },
         {
          "COUNTRIES": "INDIANS",
          "DEPARTURES": 1865,
          "MONTHS": "NOVEMBER  ",
          "PERCENTAGE": 3.86
         },
         {
          "COUNTRIES": "LEBANESE",
          "DEPARTURES": 548,
          "MONTHS": "NOVEMBER  ",
          "PERCENTAGE": 1.13
         },
         {
          "COUNTRIES": "AUSTRIALIANS",
          "DEPARTURES": 445,
          "MONTHS": "NOVEMBER  ",
          "PERCENTAGE": 0.92
         },
         {
          "COUNTRIES": "OTHER NATIONALS",
          "DEPARTURES": 12648,
          "MONTHS": "NOVEMBER  ",
          "PERCENTAGE": 26.16
         },
         {
          "COUNTRIES": "IVORIANS",
          "DEPARTURES": 1677,
          "MONTHS": "OCTOBER ",
          "PERCENTAGE": 3.62
         },
         {
          "COUNTRIES": "BURKINESE",
          "DEPARTURES": 1416,
          "MONTHS": "OCTOBER ",
          "PERCENTAGE": 3.05
         },
         {
          "COUNTRIES": "NIGERIANS",
          "DEPARTURES": 7583,
          "MONTHS": "OCTOBER ",
          "PERCENTAGE": 16.36
         },
         {
          "COUNTRIES": "LIBERRIANS",
          "DEPARTURES": 1230,
          "MONTHS": "OCTOBER ",
          "PERCENTAGE": 2.65
         },
         {
          "COUNTRIES": "SOUTH AFRICANS",
          "DEPARTURES": 2104,
          "MONTHS": "OCTOBER ",
          "PERCENTAGE": 4.54
         },
         {
          "COUNTRIES": "TOGOLESE",
          "DEPARTURES": 1045,
          "MONTHS": "OCTOBER ",
          "PERCENTAGE": 2.25
         },
         {
          "COUNTRIES": "FRENCH",
          "DEPARTURES": 1187,
          "MONTHS": "OCTOBER ",
          "PERCENTAGE": 2.56
         },
         {
          "COUNTRIES": "GERMANS",
          "DEPARTURES": 1763,
          "MONTHS": "OCTOBER ",
          "PERCENTAGE": 3.8
         },
         {
          "COUNTRIES": "DUTCH",
          "DEPARTURES": 1213,
          "MONTHS": "OCTOBER ",
          "PERCENTAGE": 2.62
         },
         {
          "COUNTRIES": "BRITISH",
          "DEPARTURES": 4226,
          "MONTHS": "OCTOBER ",
          "PERCENTAGE": 9.12
         },
         {
          "COUNTRIES": "AMERICANS",
          "DEPARTURES": 5590,
          "MONTHS": "OCTOBER ",
          "PERCENTAGE": 12.06
         },
         {
          "COUNTRIES": "CANADIANS",
          "DEPARTURES": 918,
          "MONTHS": "OCTOBER ",
          "PERCENTAGE": 1.98
         },
         {
          "COUNTRIES": "CHINESE",
          "DEPARTURES": 1232,
          "MONTHS": "OCTOBER ",
          "PERCENTAGE": 2.66
         },
         {
          "COUNTRIES": "INDIANS",
          "DEPARTURES": 1874,
          "MONTHS": "OCTOBER ",
          "PERCENTAGE": 4.04
         },
         {
          "COUNTRIES": "LEBANESE",
          "DEPARTURES": 603,
          "MONTHS": "OCTOBER ",
          "PERCENTAGE": 1.3
         },
         {
          "COUNTRIES": "AUSTRIALIANS",
          "DEPARTURES": 475,
          "MONTHS": "OCTOBER ",
          "PERCENTAGE": 1.02
         },
         {
          "COUNTRIES": "OTHER NATIONALS",
          "DEPARTURES": 12216,
          "MONTHS": "OCTOBER ",
          "PERCENTAGE": 26.35
         },
         {
          "COUNTRIES": "IVORIANS",
          "DEPARTURES": 2201,
          "MONTHS": "SEPTEMBER ",
          "PERCENTAGE": 4.36
         },
         {
          "COUNTRIES": "BURKINESE",
          "DEPARTURES": 1714,
          "MONTHS": "SEPTEMBER ",
          "PERCENTAGE": 3.39
         },
         {
          "COUNTRIES": "NIGERIANS",
          "DEPARTURES": 8533,
          "MONTHS": "SEPTEMBER ",
          "PERCENTAGE": 16.89
         },
         {
          "COUNTRIES": "LIBERRIANS",
          "DEPARTURES": 1402,
          "MONTHS": "SEPTEMBER ",
          "PERCENTAGE": 2.77
         },
         {
          "COUNTRIES": "SOUTH AFRICANS",
          "DEPARTURES": 1877,
          "MONTHS": "SEPTEMBER ",
          "PERCENTAGE": 3.71
         },
         {
          "COUNTRIES": "TOGOLESE",
          "DEPARTURES": 1285,
          "MONTHS": "SEPTEMBER ",
          "PERCENTAGE": 2.54
         },
         {
          "COUNTRIES": "FRENCH",
          "DEPARTURES": 1074,
          "MONTHS": "SEPTEMBER ",
          "PERCENTAGE": 2.13
         },
         {
          "COUNTRIES": "GERMANS",
          "DEPARTURES": 1968,
          "MONTHS": "SEPTEMBER ",
          "PERCENTAGE": 3.89
         },
         {
          "COUNTRIES": "DUTCH",
          "DEPARTURES": 1056,
          "MONTHS": "SEPTEMBER ",
          "PERCENTAGE": 2.09
         },
         {
          "COUNTRIES": "BRITISH",
          "DEPARTURES": 4887,
          "MONTHS": "SEPTEMBER ",
          "PERCENTAGE": 9.67
         },
         {
          "COUNTRIES": "AMERICANS",
          "DEPARTURES": 6314,
          "MONTHS": "SEPTEMBER ",
          "PERCENTAGE": 12.5
         },
         {
          "COUNTRIES": "CANADIANS",
          "DEPARTURES": 907,
          "MONTHS": "SEPTEMBER ",
          "PERCENTAGE": 1.79
         },
         {
          "COUNTRIES": "CHINESE",
          "DEPARTURES": 1620,
          "MONTHS": "SEPTEMBER ",
          "PERCENTAGE": 3.21
         },
         {
          "COUNTRIES": "INDIANS",
          "DEPARTURES": 1739,
          "MONTHS": "SEPTEMBER ",
          "PERCENTAGE": 3.44
         },
         {
          "COUNTRIES": "LEBANESE",
          "DEPARTURES": 681,
          "MONTHS": "SEPTEMBER ",
          "PERCENTAGE": 1.35
         },
         {
          "COUNTRIES": "AUSTRIALIANS",
          "DEPARTURES": 419,
          "MONTHS": "SEPTEMBER ",
          "PERCENTAGE": 0.83
         },
         {
          "COUNTRIES": "OTHER NATIONALS",
          "DEPARTURES": 12855,
          "MONTHS": "SEPTEMBER ",
          "PERCENTAGE": 25.44
         }
        ]
       },
       "encoding": {
        "color": {
         "field": "COUNTRIES",
         "legend": {
          "orient": "left",
          "type": "symbol"
         },
         "scale": {
          "domain": [
           "TOGOLESE",
           "SOUTH AFRICANS",
           "OTHER NATIONALS",
           "NIGERIANS",
           "LIBERRIANS",
           "LEBANESE",
           "IVORIANS",
           "INDIANS",
           "GERMANS",
           "FRENCH",
           "DUTCH",
           "CHINESE",
           "CANADIANS",
           "BURKINESE",
           "BRITISH",
           "AUSTRIALIANS",
           "AMERICANS"
          ],
          "range": [
           "#f44336",
           "#d81b60",
           "#e91e63",
           "#ffcc00",
           "#05dfd7",
           "#ec7373",
           "#d8b5b5",
           "#ffe196",
           "#75b79e",
           "#333333",
           "#b0eacd",
           "#6e5773",
           "#d45d79",
           "#ea9085",
           "#ee8572",
           "#35495e",
           "#192965"
          ]
         },
         "type": "nominal"
        },
        "opacity": {
         "value": 0.9
        },
        "tooltip": [
         {
          "field": "COUNTRIES",
          "type": "nominal"
         },
         {
          "field": "DEPARTURES",
          "type": "quantitative"
         },
         {
          "field": "PERCENTAGE",
          "type": "quantitative"
         }
        ],
        "x": {
         "axis": {
          "labelAngle": 360
         },
         "field": "MONTHS",
         "sort": {
          "field": "Letters",
          "op": "count",
          "order": "ascending"
         },
         "title": "",
         "type": "ordinal"
        },
        "y": {
         "aggregate": "sum",
         "field": "DEPARTURES",
         "title": null,
         "type": "quantitative"
        }
       },
       "height": 650,
       "mark": {
        "cornerRadius": 1.9,
        "filled": true,
        "font": "Helvetica Neue",
        "size": 60,
        "type": "bar"
       },
       "padding": 50,
       "title": {
        "text": "MONTHLY DEPARTURES"
       },
       "width": 750
      },
      "image/png": "[encoded data removed]",
      "text/plain": [
       "<VegaLite 3 object>\n",
       "\n",
       "If you see this message, it means the renderer has not been properly enabled\n",
       "for the frontend that you are using. For more information, see\n",
       "https://altair-viz.github.io/user_guide/troubleshooting.html\n"
      ]
     },
     "execution_count": 27,
     "metadata": {},
     "output_type": "execute_result"
    }
   ],
   "source": [
    "chart2= alt.Chart(trans).mark_bar(size=60,cornerRadius=1.9,font=\"Helvetica Neue\",filled=True).encode(\n",
    "    x=alt.X('MONTHS:O', \n",
    "            title='',\n",
    "            sort=alt.EncodingSortField(field=\"Letters\", op=\"count\", order='ascending'),\n",
    "            axis=alt.AxisConfig(labelAngle=360)),\n",
    "    y=alt.Y('sum(DEPARTURES)', title=None, ),\n",
    "    color=alt.Color('COUNTRIES',\n",
    "                scale=alt.Scale(\n",
    "        domain=['TOGOLESE','SOUTH AFRICANS','OTHER NATIONALS','NIGERIANS','LIBERRIANS','LEBANESE','IVORIANS','INDIANS','GERMANS','FRENCH','DUTCH','CHINESE','CANADIANS','BURKINESE','BRITISH','AUSTRIALIANS','AMERICANS'],\n",
    "        range=['#f44336', '#d81b60', '#e91e63', '#ffcc00','#05dfd7', '#ec7373', '#d8b5b5', '#ffe196', '#75b79e','#333333', '#b0eacd', '#6e5773', '#d45d79', '#ea9085','#ee8572', '#35495e', '#192965']),\n",
    "                    legend=alt.Legend(orient=\"left\",type = 'symbol')),\n",
    "    opacity=alt.OpacityValue(0.9),\n",
    "    #size=alt.Size('MONTHS:N',scale=alt.Scale(range=[0,600])),\n",
    "    tooltip=alt.Tooltip(['COUNTRIES','DEPARTURES','PERCENTAGE'])\n",
    ").properties(\n",
    "    width=750,\n",
    "    padding=50,\n",
    "    height=650,\n",
    "    background='white',\n",
    "    title=alt.TitleParams(text='MONTHLY DEPARTURES')\n",
    "    ).configure_legend(\n",
    "    strokeColor='gray',\n",
    "    fillColor='#EEEEEE',\n",
    "    padding=10,\n",
    "    cornerRadius=20,\n",
    "    orient='top-left')\n",
    "chart2.configure_title(\n",
    "    fontSize=40,\n",
    "    font='Courier',\n",
    "    anchor='start',\n",
    "    align='right',\n",
    "    color='black',\n",
    "    ).configure_view(\n",
    "    stroke='transparent'\n",
    ")"
   ]
  },
  {
   "cell_type": "markdown",
   "metadata": {},
   "source": [
    "## Chart Three"
   ]
  },
  {
   "cell_type": "code",
   "execution_count": 48,
   "metadata": {},
   "outputs": [
    {
     "data": {
      "application/vnd.vegalite.v3+json": {
       "$schema": "https://vega.github.io/schema/vega-lite/v3.4.0.json",
       "background": "white",
       "config": {
        "legend": {
         "cornerRadius": 20,
         "fillColor": "#EEEEEE",
         "orient": "top-left",
         "padding": 10,
         "strokeColor": "gray"
        },
        "mark": {
         "tooltip": null
        },
        "title": {
         "align": "right",
         "anchor": "start",
         "color": "black",
         "font": "Courier",
         "fontSize": 40
        },
        "view": {
         "height": 300,
         "stroke": "transparent",
         "width": 400
        }
       },
       "data": {
        "name": "data-07cacdff36bd573b23c66150b5f2ebfe"
       },
       "datasets": {
        "data-07cacdff36bd573b23c66150b5f2ebfe": [
         {
          "COUNTRIES": "IVORIANS",
          "DEPARTURES": 1634,
          "MONTHS": "JANUARY",
          "PERCENTAGE": 3.78,
          "PROPORTION": 8.211823979
         },
         {
          "COUNTRIES": "BURKINESE",
          "DEPARTURES": 1780,
          "MONTHS": "JANUARY",
          "PERCENTAGE": 4.11,
          "PROPORTION": null
         },
         {
          "COUNTRIES": "NIGERIANS",
          "DEPARTURES": 7910,
          "MONTHS": "JANUARY",
          "PERCENTAGE": 18.29,
          "PROPORTION": null
         },
         {
          "COUNTRIES": "LIBERRIANS",
          "DEPARTURES": 757,
          "MONTHS": "JANUARY",
          "PERCENTAGE": 1.75,
          "PROPORTION": null
         },
         {
          "COUNTRIES": "SOUTH AFRICANS",
          "DEPARTURES": 1415,
          "MONTHS": "JANUARY",
          "PERCENTAGE": 3.27,
          "PROPORTION": null
         },
         {
          "COUNTRIES": "TOGOLESE",
          "DEPARTURES": 873,
          "MONTHS": "JANUARY",
          "PERCENTAGE": 2.02,
          "PROPORTION": null
         },
         {
          "COUNTRIES": "FRENCH",
          "DEPARTURES": 905,
          "MONTHS": "JANUARY",
          "PERCENTAGE": 2.09,
          "PROPORTION": null
         },
         {
          "COUNTRIES": "GERMANS",
          "DEPARTURES": 1548,
          "MONTHS": "JANUARY",
          "PERCENTAGE": 3.58,
          "PROPORTION": null
         },
         {
          "COUNTRIES": "DUTCH",
          "DEPARTURES": 1250,
          "MONTHS": "JANUARY",
          "PERCENTAGE": 2.89,
          "PROPORTION": null
         },
         {
          "COUNTRIES": "BRITISH",
          "DEPARTURES": 4798,
          "MONTHS": "JANUARY",
          "PERCENTAGE": 11.09,
          "PROPORTION": null
         },
         {
          "COUNTRIES": "AMERICANS",
          "DEPARTURES": 4987,
          "MONTHS": "JANUARY",
          "PERCENTAGE": 11.53,
          "PROPORTION": null
         },
         {
          "COUNTRIES": "CANADIANS",
          "DEPARTURES": 1074,
          "MONTHS": "JANUARY",
          "PERCENTAGE": 2.48,
          "PROPORTION": null
         },
         {
          "COUNTRIES": "CHINESE",
          "DEPARTURES": 1539,
          "MONTHS": "JANUARY",
          "PERCENTAGE": 3.56,
          "PROPORTION": null
         },
         {
          "COUNTRIES": "INDIANS",
          "DEPARTURES": 1465,
          "MONTHS": "JANUARY",
          "PERCENTAGE": 3.39,
          "PROPORTION": null
         },
         {
          "COUNTRIES": "LEBANESE",
          "DEPARTURES": 531,
          "MONTHS": "JANUARY",
          "PERCENTAGE": 1.23,
          "PROPORTION": null
         },
         {
          "COUNTRIES": "AUSTRIALIANS",
          "DEPARTURES": 428,
          "MONTHS": "JANUARY",
          "PERCENTAGE": 0.99,
          "PROPORTION": null
         },
         {
          "COUNTRIES": "OTHER NATIONALS",
          "DEPARTURES": 10364,
          "MONTHS": "JANUARY",
          "PERCENTAGE": 23.96,
          "PROPORTION": null
         },
         {
          "COUNTRIES": "IVORIANS",
          "DEPARTURES": 1662,
          "MONTHS": "FEBRUARY",
          "PERCENTAGE": 4.3,
          "PROPORTION": 7.3365010239999995
         },
         {
          "COUNTRIES": "BURKINESE",
          "DEPARTURES": 1693,
          "MONTHS": "FEBRUARY",
          "PERCENTAGE": 4.38,
          "PROPORTION": null
         },
         {
          "COUNTRIES": "NIGERIANS",
          "DEPARTURES": 6490,
          "MONTHS": "FEBRUARY",
          "PERCENTAGE": 16.79,
          "PROPORTION": null
         },
         {
          "COUNTRIES": "LIBERRIANS",
          "DEPARTURES": 734,
          "MONTHS": "FEBRUARY",
          "PERCENTAGE": 1.9,
          "PROPORTION": null
         },
         {
          "COUNTRIES": "SOUTH AFRICANS",
          "DEPARTURES": 1563,
          "MONTHS": "FEBRUARY",
          "PERCENTAGE": 4.04,
          "PROPORTION": null
         },
         {
          "COUNTRIES": "TOGOLESE",
          "DEPARTURES": 702,
          "MONTHS": "FEBRUARY",
          "PERCENTAGE": 1.82,
          "PROPORTION": null
         },
         {
          "COUNTRIES": "FRENCH",
          "DEPARTURES": 1117,
          "MONTHS": "FEBRUARY",
          "PERCENTAGE": 2.89,
          "PROPORTION": null
         },
         {
          "COUNTRIES": "GERMANS",
          "DEPARTURES": 1298,
          "MONTHS": "FEBRUARY",
          "PERCENTAGE": 3.36,
          "PROPORTION": null
         },
         {
          "COUNTRIES": "DUTCH",
          "DEPARTURES": 903,
          "MONTHS": "FEBRUARY",
          "PERCENTAGE": 2.34,
          "PROPORTION": null
         },
         {
          "COUNTRIES": "BRITISH",
          "DEPARTURES": 3257,
          "MONTHS": "FEBRUARY",
          "PERCENTAGE": 8.43,
          "PROPORTION": null
         },
         {
          "COUNTRIES": "AMERICANS",
          "DEPARTURES": 3848,
          "MONTHS": "FEBRUARY",
          "PERCENTAGE": 9.96,
          "PROPORTION": null
         },
         {
          "COUNTRIES": "CANADIANS",
          "DEPARTURES": 937,
          "MONTHS": "FEBRUARY",
          "PERCENTAGE": 2.42,
          "PROPORTION": null
         },
         {
          "COUNTRIES": "CHINESE",
          "DEPARTURES": 1987,
          "MONTHS": "FEBRUARY",
          "PERCENTAGE": 5.14,
          "PROPORTION": null
         },
         {
          "COUNTRIES": "INDIANS",
          "DEPARTURES": 1525,
          "MONTHS": "FEBRUARY",
          "PERCENTAGE": 3.95,
          "PROPORTION": null
         },
         {
          "COUNTRIES": "LEBANESE",
          "DEPARTURES": 562,
          "MONTHS": "FEBRUARY",
          "PERCENTAGE": 1.45,
          "PROPORTION": null
         },
         {
          "COUNTRIES": "AUSTRIALIANS",
          "DEPARTURES": 449,
          "MONTHS": "FEBRUARY",
          "PERCENTAGE": 1.16,
          "PROPORTION": null
         },
         {
          "COUNTRIES": "OTHER NATIONALS",
          "DEPARTURES": 9920,
          "MONTHS": "FEBRUARY",
          "PERCENTAGE": 25.67,
          "PROPORTION": null
         },
         {
          "COUNTRIES": "IVORIANS",
          "DEPARTURES": 3559,
          "MONTHS": "MARCH",
          "PERCENTAGE": 8.26,
          "PROPORTION": 8.177274255
         },
         {
          "COUNTRIES": "BURKINESE",
          "DEPARTURES": 3482,
          "MONTHS": "MARCH",
          "PERCENTAGE": 8.08,
          "PROPORTION": null
         },
         {
          "COUNTRIES": "NIGERIANS",
          "DEPARTURES": 13558,
          "MONTHS": "MARCH",
          "PERCENTAGE": 31.47,
          "PROPORTION": null
         },
         {
          "COUNTRIES": "LIBERRIANS",
          "DEPARTURES": 1498,
          "MONTHS": "MARCH",
          "PERCENTAGE": 3.48,
          "PROPORTION": null
         },
         {
          "COUNTRIES": "SOUTH AFRICANS",
          "DEPARTURES": 1767,
          "MONTHS": "MARCH",
          "PERCENTAGE": 4.1,
          "PROPORTION": null
         },
         {
          "COUNTRIES": "TOGOLESE",
          "DEPARTURES": 1581,
          "MONTHS": "MARCH",
          "PERCENTAGE": 3.67,
          "PROPORTION": null
         },
         {
          "COUNTRIES": "FRENCH",
          "DEPARTURES": 1126,
          "MONTHS": "MARCH",
          "PERCENTAGE": 2.61,
          "PROPORTION": null
         },
         {
          "COUNTRIES": "GERMANS",
          "DEPARTURES": 1555,
          "MONTHS": "MARCH",
          "PERCENTAGE": 3.61,
          "PROPORTION": null
         },
         {
          "COUNTRIES": "DUTCH",
          "DEPARTURES": 1049,
          "MONTHS": "MARCH",
          "PERCENTAGE": 2.44,
          "PROPORTION": null
         },
         {
          "COUNTRIES": "BRITISH",
          "DEPARTURES": 3888,
          "MONTHS": "MARCH",
          "PERCENTAGE": 9.03,
          "PROPORTION": null
         },
         {
          "COUNTRIES": "AMERICANS",
          "DEPARTURES": 4956,
          "MONTHS": "MARCH",
          "PERCENTAGE": 11.51,
          "PROPORTION": null
         },
         {
          "COUNTRIES": "CANADIANS",
          "DEPARTURES": 1048,
          "MONTHS": "MARCH",
          "PERCENTAGE": 2.43,
          "PROPORTION": null
         },
         {
          "COUNTRIES": "CHINESE",
          "DEPARTURES": 1057,
          "MONTHS": "MARCH",
          "PERCENTAGE": 2.45,
          "PROPORTION": null
         },
         {
          "COUNTRIES": "INDIANS",
          "DEPARTURES": 1710,
          "MONTHS": "MARCH",
          "PERCENTAGE": 3.97,
          "PROPORTION": null
         },
         {
          "COUNTRIES": "LEBANESE",
          "DEPARTURES": 622,
          "MONTHS": "MARCH",
          "PERCENTAGE": 1.44,
          "PROPORTION": null
         },
         {
          "COUNTRIES": "AUSTRIALIANS",
          "DEPARTURES": 435,
          "MONTHS": "MARCH",
          "PERCENTAGE": 1.01,
          "PROPORTION": null
         },
         {
          "COUNTRIES": "OTHER NATIONALS",
          "DEPARTURES": 185,
          "MONTHS": "MARCH",
          "PERCENTAGE": 0.43,
          "PROPORTION": null
         },
         {
          "COUNTRIES": "IVORIANS",
          "DEPARTURES": 1517,
          "MONTHS": "APRIL",
          "PERCENTAGE": 3.17,
          "PROPORTION": 9.078224752
         },
         {
          "COUNTRIES": "BURKINESE",
          "DEPARTURES": 1394,
          "MONTHS": "APRIL",
          "PERCENTAGE": 2.91,
          "PROPORTION": null
         },
         {
          "COUNTRIES": "NIGERIANS",
          "DEPARTURES": 9320,
          "MONTHS": "APRIL",
          "PERCENTAGE": 19.49,
          "PROPORTION": null
         },
         {
          "COUNTRIES": "LIBERRIANS",
          "DEPARTURES": 1215,
          "MONTHS": "APRIL",
          "PERCENTAGE": 2.54,
          "PROPORTION": null
         },
         {
          "COUNTRIES": "SOUTH AFRICANS",
          "DEPARTURES": 1622,
          "MONTHS": "APRIL",
          "PERCENTAGE": 3.39,
          "PROPORTION": null
         },
         {
          "COUNTRIES": "TOGOLESE",
          "DEPARTURES": 906,
          "MONTHS": "APRIL",
          "PERCENTAGE": 1.89,
          "PROPORTION": null
         },
         {
          "COUNTRIES": "FRENCH",
          "DEPARTURES": 1350,
          "MONTHS": "APRIL",
          "PERCENTAGE": 2.82,
          "PROPORTION": null
         },
         {
          "COUNTRIES": "GERMANS",
          "DEPARTURES": 1704,
          "MONTHS": "APRIL",
          "PERCENTAGE": 3.56,
          "PROPORTION": null
         },
         {
          "COUNTRIES": "DUTCH",
          "DEPARTURES": 1079,
          "MONTHS": "APRIL",
          "PERCENTAGE": 2.26,
          "PROPORTION": null
         },
         {
          "COUNTRIES": "BRITISH",
          "DEPARTURES": 1854,
          "MONTHS": "APRIL",
          "PERCENTAGE": 3.88,
          "PROPORTION": null
         },
         {
          "COUNTRIES": "AMERICANS",
          "DEPARTURES": 2118,
          "MONTHS": "APRIL",
          "PERCENTAGE": 4.43,
          "PROPORTION": null
         },
         {
          "COUNTRIES": "CANADIANS",
          "DEPARTURES": 408,
          "MONTHS": "APRIL",
          "PERCENTAGE": 0.85,
          "PROPORTION": null
         },
         {
          "COUNTRIES": "CHINESE",
          "DEPARTURES": 1388,
          "MONTHS": "APRIL",
          "PERCENTAGE": 2.9,
          "PROPORTION": null
         },
         {
          "COUNTRIES": "INDIANS",
          "DEPARTURES": 1839,
          "MONTHS": "APRIL",
          "PERCENTAGE": 3.85,
          "PROPORTION": null
         },
         {
          "COUNTRIES": "LEBANESE",
          "DEPARTURES": 766,
          "MONTHS": "APRIL",
          "PERCENTAGE": 1.6,
          "PROPORTION": null
         },
         {
          "COUNTRIES": "AUSTRIALIANS",
          "DEPARTURES": 139,
          "MONTHS": "APRIL",
          "PERCENTAGE": 0.29,
          "PROPORTION": null
         },
         {
          "COUNTRIES": "OTHER NATIONALS",
          "DEPARTURES": 19203,
          "MONTHS": "APRIL",
          "PERCENTAGE": 40.16,
          "PROPORTION": null
         },
         {
          "COUNTRIES": "IVORIANS",
          "DEPARTURES": 1673,
          "MONTHS": "MAY",
          "PERCENTAGE": 3.52,
          "PROPORTION": 9.0271595
         },
         {
          "COUNTRIES": "BURKINESE",
          "DEPARTURES": 1653,
          "MONTHS": "MAY",
          "PERCENTAGE": 3.48,
          "PROPORTION": null
         },
         {
          "COUNTRIES": "NIGERIANS",
          "DEPARTURES": 9421,
          "MONTHS": "MAY",
          "PERCENTAGE": 19.81,
          "PROPORTION": null
         },
         {
          "COUNTRIES": "LIBERRIANS",
          "DEPARTURES": 1414,
          "MONTHS": "MAY",
          "PERCENTAGE": 2.97,
          "PROPORTION": null
         },
         {
          "COUNTRIES": "SOUTH AFRICANS",
          "DEPARTURES": 1760,
          "MONTHS": "MAY",
          "PERCENTAGE": 3.7,
          "PROPORTION": null
         },
         {
          "COUNTRIES": "TOGOLESE",
          "DEPARTURES": 856,
          "MONTHS": "MAY",
          "PERCENTAGE": 1.8,
          "PROPORTION": null
         },
         {
          "COUNTRIES": "FRENCH",
          "DEPARTURES": 1064,
          "MONTHS": "MAY",
          "PERCENTAGE": 2.24,
          "PROPORTION": null
         },
         {
          "COUNTRIES": "GERMANS",
          "DEPARTURES": 1253,
          "MONTHS": "MAY",
          "PERCENTAGE": 2.63,
          "PROPORTION": null
         },
         {
          "COUNTRIES": "DUTCH",
          "DEPARTURES": 1083,
          "MONTHS": "MAY",
          "PERCENTAGE": 2.28,
          "PROPORTION": null
         },
         {
          "COUNTRIES": "BRITISH",
          "DEPARTURES": 3452,
          "MONTHS": "MAY",
          "PERCENTAGE": 7.26,
          "PROPORTION": null
         },
         {
          "COUNTRIES": "AMERICANS",
          "DEPARTURES": 6113,
          "MONTHS": "MAY",
          "PERCENTAGE": 12.86,
          "PROPORTION": null
         },
         {
          "COUNTRIES": "CANADIANS",
          "DEPARTURES": 1255,
          "MONTHS": "MAY",
          "PERCENTAGE": 2.64,
          "PROPORTION": null
         },
         {
          "COUNTRIES": "CHINESE",
          "DEPARTURES": 1397,
          "MONTHS": "MAY",
          "PERCENTAGE": 2.94,
          "PROPORTION": null
         },
         {
          "COUNTRIES": "INDIANS",
          "DEPARTURES": 1883,
          "MONTHS": "MAY",
          "PERCENTAGE": 3.96,
          "PROPORTION": null
         },
         {
          "COUNTRIES": "LEBANESE",
          "DEPARTURES": 614,
          "MONTHS": "MAY",
          "PERCENTAGE": 1.29,
          "PROPORTION": null
         },
         {
          "COUNTRIES": "AUSTRIALIANS",
          "DEPARTURES": 430,
          "MONTHS": "MAY",
          "PERCENTAGE": 0.9,
          "PROPORTION": null
         },
         {
          "COUNTRIES": "OTHER NATIONALS",
          "DEPARTURES": 12232,
          "MONTHS": "MAY",
          "PERCENTAGE": 25.72,
          "PROPORTION": null
         },
         {
          "COUNTRIES": "IVORIANS",
          "DEPARTURES": 2351,
          "MONTHS": "AUGUST ",
          "PERCENTAGE": 3.95,
          "PROPORTION": 11.30782096
         },
         {
          "COUNTRIES": "BURKINESE",
          "DEPARTURES": 2750,
          "MONTHS": "AUGUST ",
          "PERCENTAGE": 4.62,
          "PROPORTION": null
         },
         {
          "COUNTRIES": "NIGERIANS",
          "DEPARTURES": 9554,
          "MONTHS": "AUGUST ",
          "PERCENTAGE": 16.04,
          "PROPORTION": null
         },
         {
          "COUNTRIES": "LIBERRIANS",
          "DEPARTURES": 1368,
          "MONTHS": "AUGUST ",
          "PERCENTAGE": 2.3,
          "PROPORTION": null
         },
         {
          "COUNTRIES": "SOUTH AFRICANS",
          "DEPARTURES": 1898,
          "MONTHS": "AUGUST ",
          "PERCENTAGE": 3.19,
          "PROPORTION": null
         },
         {
          "COUNTRIES": "TOGOLESE",
          "DEPARTURES": 1230,
          "MONTHS": "AUGUST ",
          "PERCENTAGE": 2.06,
          "PROPORTION": null
         },
         {
          "COUNTRIES": "FRENCH",
          "DEPARTURES": 1246,
          "MONTHS": "AUGUST ",
          "PERCENTAGE": 2.09,
          "PROPORTION": null
         },
         {
          "COUNTRIES": "GERMANS",
          "DEPARTURES": 2454,
          "MONTHS": "AUGUST ",
          "PERCENTAGE": 4.12,
          "PROPORTION": null
         },
         {
          "COUNTRIES": "DUTCH",
          "DEPARTURES": 2028,
          "MONTHS": "AUGUST ",
          "PERCENTAGE": 3.4,
          "PROPORTION": null
         },
         {
          "COUNTRIES": "BRITISH",
          "DEPARTURES": 6556,
          "MONTHS": "AUGUST ",
          "PERCENTAGE": 11.01,
          "PROPORTION": null
         },
         {
          "COUNTRIES": "AMERICANS",
          "DEPARTURES": 8826,
          "MONTHS": "AUGUST ",
          "PERCENTAGE": 14.82,
          "PROPORTION": null
         },
         {
          "COUNTRIES": "CANADIANS",
          "DEPARTURES": 997,
          "MONTHS": "AUGUST ",
          "PERCENTAGE": 1.67,
          "PROPORTION": null
         },
         {
          "COUNTRIES": "CHINESE",
          "DEPARTURES": 1540,
          "MONTHS": "AUGUST ",
          "PERCENTAGE": 2.59,
          "PROPORTION": null
         },
         {
          "COUNTRIES": "INDIANS",
          "DEPARTURES": 1764,
          "MONTHS": "AUGUST ",
          "PERCENTAGE": 2.96,
          "PROPORTION": null
         },
         {
          "COUNTRIES": "LEBANESE",
          "DEPARTURES": 749,
          "MONTHS": "AUGUST ",
          "PERCENTAGE": 1.26,
          "PROPORTION": null
         },
         {
          "COUNTRIES": "AUSTRIALIANS",
          "DEPARTURES": 380,
          "MONTHS": "AUGUST ",
          "PERCENTAGE": 0.64,
          "PROPORTION": null
         },
         {
          "COUNTRIES": "OTHER NATIONALS",
          "DEPARTURES": 13876,
          "MONTHS": "AUGUST ",
          "PERCENTAGE": 23.29,
          "PROPORTION": null
         },
         {
          "COUNTRIES": "IVORIANS",
          "DEPARTURES": 1954,
          "MONTHS": "JULY ",
          "PERCENTAGE": 3.69,
          "PROPORTION": 19.29146489
         },
         {
          "COUNTRIES": "BURKINESE",
          "DEPARTURES": 1482,
          "MONTHS": "JULY ",
          "PERCENTAGE": 2.8,
          "PROPORTION": null
         },
         {
          "COUNTRIES": "NIGERIANS",
          "DEPARTURES": 8969,
          "MONTHS": "JULY ",
          "PERCENTAGE": 16.95,
          "PROPORTION": null
         },
         {
          "COUNTRIES": "LIBERRIANS",
          "DEPARTURES": 1520,
          "MONTHS": "JULY ",
          "PERCENTAGE": 2.87,
          "PROPORTION": null
         },
         {
          "COUNTRIES": "SOUTH AFRICANS",
          "DEPARTURES": 1984,
          "MONTHS": "JULY ",
          "PERCENTAGE": 3.75,
          "PROPORTION": null
         },
         {
          "COUNTRIES": "TOGOLESE",
          "DEPARTURES": 1081,
          "MONTHS": "JULY ",
          "PERCENTAGE": 2.04,
          "PROPORTION": null
         },
         {
          "COUNTRIES": "FRENCH",
          "DEPARTURES": 1177,
          "MONTHS": "JULY ",
          "PERCENTAGE": 2.22,
          "PROPORTION": null
         },
         {
          "COUNTRIES": "GERMANS",
          "DEPARTURES": 1614,
          "MONTHS": "JULY ",
          "PERCENTAGE": 3.05,
          "PROPORTION": null
         },
         {
          "COUNTRIES": "DUTCH",
          "DEPARTURES": 1440,
          "MONTHS": "JULY ",
          "PERCENTAGE": 2.72,
          "PROPORTION": null
         },
         {
          "COUNTRIES": "BRITISH",
          "DEPARTURES": 4463,
          "MONTHS": "JULY ",
          "PERCENTAGE": 8.43,
          "PROPORTION": null
         },
         {
          "COUNTRIES": "AMERICANS",
          "DEPARTURES": 7590,
          "MONTHS": "JULY ",
          "PERCENTAGE": 14.34,
          "PROPORTION": null
         },
         {
          "COUNTRIES": "CANADIANS",
          "DEPARTURES": 1085,
          "MONTHS": "JULY ",
          "PERCENTAGE": 2.05,
          "PROPORTION": null
         },
         {
          "COUNTRIES": "CHINESE",
          "DEPARTURES": 1666,
          "MONTHS": "JULY ",
          "PERCENTAGE": 3.15,
          "PROPORTION": null
         },
         {
          "COUNTRIES": "INDIANS",
          "DEPARTURES": 2204,
          "MONTHS": "JULY ",
          "PERCENTAGE": 4.16,
          "PROPORTION": null
         },
         {
          "COUNTRIES": "LEBANESE",
          "DEPARTURES": 1137,
          "MONTHS": "JULY ",
          "PERCENTAGE": 2.15,
          "PROPORTION": null
         },
         {
          "COUNTRIES": "AUSTRIALIANS",
          "DEPARTURES": 456,
          "MONTHS": "JULY ",
          "PERCENTAGE": 0.86,
          "PROPORTION": null
         },
         {
          "COUNTRIES": "OTHER NATIONALS",
          "DEPARTURES": 13097,
          "MONTHS": "JULY ",
          "PERCENTAGE": 24.75,
          "PROPORTION": null
         },
         {
          "COUNTRIES": "IVORIANS",
          "DEPARTURES": 1727,
          "MONTHS": "JUNE ",
          "PERCENTAGE": 3.55,
          "PROPORTION": 9.24565803
         },
         {
          "COUNTRIES": "BURKINESE",
          "DEPARTURES": 1494,
          "MONTHS": "JUNE ",
          "PERCENTAGE": 3.07,
          "PROPORTION": null
         },
         {
          "COUNTRIES": "NIGERIANS",
          "DEPARTURES": 8867,
          "MONTHS": "JUNE ",
          "PERCENTAGE": 18.21,
          "PROPORTION": null
         },
         {
          "COUNTRIES": "LIBERRIANS",
          "DEPARTURES": 1459,
          "MONTHS": "JUNE ",
          "PERCENTAGE": 3,
          "PROPORTION": null
         },
         {
          "COUNTRIES": "SOUTH AFRICANS",
          "DEPARTURES": 1996,
          "MONTHS": "JUNE ",
          "PERCENTAGE": 4.1,
          "PROPORTION": null
         },
         {
          "COUNTRIES": "TOGOLESE",
          "DEPARTURES": 888,
          "MONTHS": "JUNE ",
          "PERCENTAGE": 1.82,
          "PROPORTION": null
         },
         {
          "COUNTRIES": "FRENCH",
          "DEPARTURES": 1145,
          "MONTHS": "JUNE ",
          "PERCENTAGE": 2.35,
          "PROPORTION": null
         },
         {
          "COUNTRIES": "GERMANS",
          "DEPARTURES": 1184,
          "MONTHS": "JUNE ",
          "PERCENTAGE": 2.43,
          "PROPORTION": null
         },
         {
          "COUNTRIES": "DUTCH",
          "DEPARTURES": 1062,
          "MONTHS": "JUNE ",
          "PERCENTAGE": 2.18,
          "PROPORTION": null
         },
         {
          "COUNTRIES": "BRITISH",
          "DEPARTURES": 3649,
          "MONTHS": "JUNE ",
          "PERCENTAGE": 7.49,
          "PROPORTION": null
         },
         {
          "COUNTRIES": "AMERICANS",
          "DEPARTURES": 6614,
          "MONTHS": "JUNE ",
          "PERCENTAGE": 13.58,
          "PROPORTION": null
         },
         {
          "COUNTRIES": "CANADIANS",
          "DEPARTURES": 1068,
          "MONTHS": "JUNE ",
          "PERCENTAGE": 2.19,
          "PROPORTION": null
         },
         {
          "COUNTRIES": "CHINESE",
          "DEPARTURES": 1479,
          "MONTHS": "JUNE ",
          "PERCENTAGE": 3.04,
          "PROPORTION": null
         },
         {
          "COUNTRIES": "INDIANS",
          "DEPARTURES": 2044,
          "MONTHS": "JUNE ",
          "PERCENTAGE": 4.2,
          "PROPORTION": null
         },
         {
          "COUNTRIES": "LEBANESE",
          "DEPARTURES": 956,
          "MONTHS": "JUNE ",
          "PERCENTAGE": 1.96,
          "PROPORTION": null
         },
         {
          "COUNTRIES": "AUSTRIALIANS",
          "DEPARTURES": 444,
          "MONTHS": "JUNE ",
          "PERCENTAGE": 0.91,
          "PROPORTION": null
         },
         {
          "COUNTRIES": "OTHER NATIONALS",
          "DEPARTURES": 12628,
          "MONTHS": "JUNE ",
          "PERCENTAGE": 25.93,
          "PROPORTION": null
         },
         {
          "COUNTRIES": "IVORIANS",
          "DEPARTURES": 2172,
          "MONTHS": "NOVEMBER  ",
          "PERCENTAGE": 4.49,
          "PROPORTION": 9.177887417
         },
         {
          "COUNTRIES": "BURKINESE",
          "DEPARTURES": 1404,
          "MONTHS": "NOVEMBER  ",
          "PERCENTAGE": 2.9,
          "PROPORTION": null
         },
         {
          "COUNTRIES": "NIGERIANS",
          "DEPARTURES": 8051,
          "MONTHS": "NOVEMBER  ",
          "PERCENTAGE": 16.65,
          "PROPORTION": null
         },
         {
          "COUNTRIES": "LIBERRIANS",
          "DEPARTURES": 1604,
          "MONTHS": "NOVEMBER  ",
          "PERCENTAGE": 3.32,
          "PROPORTION": null
         },
         {
          "COUNTRIES": "SOUTH AFRICANS",
          "DEPARTURES": 1993,
          "MONTHS": "NOVEMBER  ",
          "PERCENTAGE": 4.12,
          "PROPORTION": null
         },
         {
          "COUNTRIES": "TOGOLESE",
          "DEPARTURES": 1074,
          "MONTHS": "NOVEMBER  ",
          "PERCENTAGE": 2.22,
          "PROPORTION": null
         },
         {
          "COUNTRIES": "FRENCH",
          "DEPARTURES": 1201,
          "MONTHS": "NOVEMBER  ",
          "PERCENTAGE": 2.48,
          "PROPORTION": null
         },
         {
          "COUNTRIES": "GERMANS",
          "DEPARTURES": 1476,
          "MONTHS": "NOVEMBER  ",
          "PERCENTAGE": 3.05,
          "PROPORTION": null
         },
         {
          "COUNTRIES": "DUTCH",
          "DEPARTURES": 1217,
          "MONTHS": "NOVEMBER  ",
          "PERCENTAGE": 2.52,
          "PROPORTION": null
         },
         {
          "COUNTRIES": "BRITISH",
          "DEPARTURES": 4407,
          "MONTHS": "NOVEMBER  ",
          "PERCENTAGE": 9.12,
          "PROPORTION": null
         },
         {
          "COUNTRIES": "AMERICANS",
          "DEPARTURES": 5946,
          "MONTHS": "NOVEMBER  ",
          "PERCENTAGE": 12.3,
          "PROPORTION": null
         },
         {
          "COUNTRIES": "CANADIANS",
          "DEPARTURES": 1033,
          "MONTHS": "NOVEMBER  ",
          "PERCENTAGE": 2.14,
          "PROPORTION": null
         },
         {
          "COUNTRIES": "CHINESE",
          "DEPARTURES": 1263,
          "MONTHS": "NOVEMBER  ",
          "PERCENTAGE": 2.61,
          "PROPORTION": null
         },
         {
          "COUNTRIES": "INDIANS",
          "DEPARTURES": 1865,
          "MONTHS": "NOVEMBER  ",
          "PERCENTAGE": 3.86,
          "PROPORTION": null
         },
         {
          "COUNTRIES": "LEBANESE",
          "DEPARTURES": 548,
          "MONTHS": "NOVEMBER  ",
          "PERCENTAGE": 1.13,
          "PROPORTION": null
         },
         {
          "COUNTRIES": "AUSTRIALIANS",
          "DEPARTURES": 445,
          "MONTHS": "NOVEMBER  ",
          "PERCENTAGE": 0.92,
          "PROPORTION": null
         },
         {
          "COUNTRIES": "OTHER NATIONALS",
          "DEPARTURES": 12648,
          "MONTHS": "NOVEMBER  ",
          "PERCENTAGE": 26.16,
          "PROPORTION": null
         },
         {
          "COUNTRIES": "IVORIANS",
          "DEPARTURES": 1677,
          "MONTHS": "OCTOBER ",
          "PERCENTAGE": 3.62,
          "PROPORTION": 8.799169288
         },
         {
          "COUNTRIES": "BURKINESE",
          "DEPARTURES": 1416,
          "MONTHS": "OCTOBER ",
          "PERCENTAGE": 3.05,
          "PROPORTION": null
         },
         {
          "COUNTRIES": "NIGERIANS",
          "DEPARTURES": 7583,
          "MONTHS": "OCTOBER ",
          "PERCENTAGE": 16.36,
          "PROPORTION": null
         },
         {
          "COUNTRIES": "LIBERRIANS",
          "DEPARTURES": 1230,
          "MONTHS": "OCTOBER ",
          "PERCENTAGE": 2.65,
          "PROPORTION": null
         },
         {
          "COUNTRIES": "SOUTH AFRICANS",
          "DEPARTURES": 2104,
          "MONTHS": "OCTOBER ",
          "PERCENTAGE": 4.54,
          "PROPORTION": null
         },
         {
          "COUNTRIES": "TOGOLESE",
          "DEPARTURES": 1045,
          "MONTHS": "OCTOBER ",
          "PERCENTAGE": 2.25,
          "PROPORTION": null
         },
         {
          "COUNTRIES": "FRENCH",
          "DEPARTURES": 1187,
          "MONTHS": "OCTOBER ",
          "PERCENTAGE": 2.56,
          "PROPORTION": null
         },
         {
          "COUNTRIES": "GERMANS",
          "DEPARTURES": 1763,
          "MONTHS": "OCTOBER ",
          "PERCENTAGE": 3.8,
          "PROPORTION": null
         },
         {
          "COUNTRIES": "DUTCH",
          "DEPARTURES": 1213,
          "MONTHS": "OCTOBER ",
          "PERCENTAGE": 2.62,
          "PROPORTION": null
         },
         {
          "COUNTRIES": "BRITISH",
          "DEPARTURES": 4226,
          "MONTHS": "OCTOBER ",
          "PERCENTAGE": 9.12,
          "PROPORTION": null
         },
         {
          "COUNTRIES": "AMERICANS",
          "DEPARTURES": 5590,
          "MONTHS": "OCTOBER ",
          "PERCENTAGE": 12.06,
          "PROPORTION": null
         },
         {
          "COUNTRIES": "CANADIANS",
          "DEPARTURES": 918,
          "MONTHS": "OCTOBER ",
          "PERCENTAGE": 1.98,
          "PROPORTION": null
         },
         {
          "COUNTRIES": "CHINESE",
          "DEPARTURES": 1232,
          "MONTHS": "OCTOBER ",
          "PERCENTAGE": 2.66,
          "PROPORTION": null
         },
         {
          "COUNTRIES": "INDIANS",
          "DEPARTURES": 1874,
          "MONTHS": "OCTOBER ",
          "PERCENTAGE": 4.04,
          "PROPORTION": null
         },
         {
          "COUNTRIES": "LEBANESE",
          "DEPARTURES": 603,
          "MONTHS": "OCTOBER ",
          "PERCENTAGE": 1.3,
          "PROPORTION": null
         },
         {
          "COUNTRIES": "AUSTRIALIANS",
          "DEPARTURES": 475,
          "MONTHS": "OCTOBER ",
          "PERCENTAGE": 1.02,
          "PROPORTION": null
         },
         {
          "COUNTRIES": "OTHER NATIONALS",
          "DEPARTURES": 12216,
          "MONTHS": "OCTOBER ",
          "PERCENTAGE": 26.35,
          "PROPORTION": null
         },
         {
          "COUNTRIES": "IVORIANS",
          "DEPARTURES": 2201,
          "MONTHS": "SEPTEMBER ",
          "PERCENTAGE": 4.36,
          "PROPORTION": 9.59267394
         },
         {
          "COUNTRIES": "BURKINESE",
          "DEPARTURES": 1714,
          "MONTHS": "SEPTEMBER ",
          "PERCENTAGE": 3.39,
          "PROPORTION": null
         },
         {
          "COUNTRIES": "NIGERIANS",
          "DEPARTURES": 8533,
          "MONTHS": "SEPTEMBER ",
          "PERCENTAGE": 16.89,
          "PROPORTION": null
         },
         {
          "COUNTRIES": "LIBERRIANS",
          "DEPARTURES": 1402,
          "MONTHS": "SEPTEMBER ",
          "PERCENTAGE": 2.77,
          "PROPORTION": null
         },
         {
          "COUNTRIES": "SOUTH AFRICANS",
          "DEPARTURES": 1877,
          "MONTHS": "SEPTEMBER ",
          "PERCENTAGE": 3.71,
          "PROPORTION": null
         },
         {
          "COUNTRIES": "TOGOLESE",
          "DEPARTURES": 1285,
          "MONTHS": "SEPTEMBER ",
          "PERCENTAGE": 2.54,
          "PROPORTION": null
         },
         {
          "COUNTRIES": "FRENCH",
          "DEPARTURES": 1074,
          "MONTHS": "SEPTEMBER ",
          "PERCENTAGE": 2.13,
          "PROPORTION": null
         },
         {
          "COUNTRIES": "GERMANS",
          "DEPARTURES": 1968,
          "MONTHS": "SEPTEMBER ",
          "PERCENTAGE": 3.89,
          "PROPORTION": null
         },
         {
          "COUNTRIES": "DUTCH",
          "DEPARTURES": 1056,
          "MONTHS": "SEPTEMBER ",
          "PERCENTAGE": 2.09,
          "PROPORTION": null
         },
         {
          "COUNTRIES": "BRITISH",
          "DEPARTURES": 4887,
          "MONTHS": "SEPTEMBER ",
          "PERCENTAGE": 9.67,
          "PROPORTION": null
         },
         {
          "COUNTRIES": "AMERICANS",
          "DEPARTURES": 6314,
          "MONTHS": "SEPTEMBER ",
          "PERCENTAGE": 12.5,
          "PROPORTION": null
         },
         {
          "COUNTRIES": "CANADIANS",
          "DEPARTURES": 907,
          "MONTHS": "SEPTEMBER ",
          "PERCENTAGE": 1.79,
          "PROPORTION": null
         },
         {
          "COUNTRIES": "CHINESE",
          "DEPARTURES": 1620,
          "MONTHS": "SEPTEMBER ",
          "PERCENTAGE": 3.21,
          "PROPORTION": null
         },
         {
          "COUNTRIES": "INDIANS",
          "DEPARTURES": 1739,
          "MONTHS": "SEPTEMBER ",
          "PERCENTAGE": 3.44,
          "PROPORTION": null
         },
         {
          "COUNTRIES": "LEBANESE",
          "DEPARTURES": 681,
          "MONTHS": "SEPTEMBER ",
          "PERCENTAGE": 1.35,
          "PROPORTION": null
         },
         {
          "COUNTRIES": "AUSTRIALIANS",
          "DEPARTURES": 419,
          "MONTHS": "SEPTEMBER ",
          "PERCENTAGE": 0.83,
          "PROPORTION": null
         },
         {
          "COUNTRIES": "OTHER NATIONALS",
          "DEPARTURES": 12855,
          "MONTHS": "SEPTEMBER ",
          "PERCENTAGE": 25.44,
          "PROPORTION": null
         }
        ]
       },
       "encoding": {
        "color": {
         "field": "COUNTRIES",
         "legend": {
          "orient": "left",
          "type": "symbol"
         },
         "scale": {
          "domain": [
           "TOGOLESE",
           "SOUTH AFRICANS",
           "OTHER NATIONALS",
           "NIGERIANS",
           "LIBERRIANS",
           "LEBANESE",
           "IVORIANS",
           "INDIANS",
           "GERMANS",
           "FRENCH",
           "DUTCH",
           "CHINESE",
           "CANADIANS",
           "BURKINESE",
           "BRITISH",
           "AUSTRIALIANS",
           "AMERICANS"
          ],
          "range": [
           "#d50000",
           "#fd5e53",
           "#fa163f",
           "#ffcc00",
           "#05dfd7",
           "#ec7373",
           "#d8b5b5",
           "#ffe196",
           "#75b79e",
           "#333333",
           "#b0eacd",
           "#6e5773",
           "#d45d79",
           "#347474",
           "#ee8572",
           "#deff8b",
           "#192965"
          ]
         },
         "type": "nominal"
        },
        "opacity": {
         "value": 1
        },
        "tooltip": [
         {
          "field": "COUNTRIES",
          "type": "nominal"
         },
         {
          "field": "DEPARTURES",
          "type": "quantitative"
         },
         {
          "field": "PERCENTAGE",
          "type": "quantitative"
         },
         {
          "field": "PROPORTION",
          "type": "quantitative"
         }
        ],
        "x": {
         "axis": {
          "labelAngle": 360
         },
         "field": "MONTHS",
         "sort": {
          "field": "DEPARTURES",
          "op": "sum",
          "order": "ascending"
         },
         "title": "",
         "type": "ordinal"
        },
        "y": {
         "aggregate": "sum",
         "field": "DEPARTURES",
         "title": null,
         "type": "quantitative"
        }
       },
       "height": 650,
       "mark": {
        "cornerRadius": 1.9,
        "filled": true,
        "font": "Helvetica Neue",
        "size": 60,
        "type": "bar"
       },
       "padding": 50,
       "title": {
        "text": "MONTHLY DEPARTURES"
       },
       "width": 750
      },
      "image/png": "[encoded data removed]",
      "text/plain": [
       "<VegaLite 3 object>\n",
       "\n",
       "If you see this message, it means the renderer has not been properly enabled\n",
       "for the frontend that you are using. For more information, see\n",
       "https://altair-viz.github.io/user_guide/troubleshooting.html\n"
      ]
     },
     "execution_count": 48,
     "metadata": {},
     "output_type": "execute_result"
    }
   ],
   "source": [
    "chart2= alt.Chart(trans).mark_bar(size=60,cornerRadius=1.9,font=\"Helvetica Neue\",filled=True).encode(\n",
    "    x=alt.X('MONTHS:O', \n",
    "            title='',\n",
    "            sort=alt.EncodingSortField(field=\"DEPARTURES\", op=\"sum\", order='ascending'),\n",
    "            axis=alt.AxisConfig(labelAngle=360)),\n",
    "    y=alt.Y('sum(DEPARTURES)', title=None, ),\n",
    "    color=alt.Color('COUNTRIES',\n",
    "                scale=alt.Scale(\n",
    "        domain=['TOGOLESE','SOUTH AFRICANS','OTHER NATIONALS','NIGERIANS','LIBERRIANS','LEBANESE','IVORIANS','INDIANS','GERMANS','FRENCH','DUTCH','CHINESE','CANADIANS','BURKINESE','BRITISH','AUSTRIALIANS','AMERICANS'],\n",
    "        range= ['#d50000', '#fd5e53', '#fa163f', '#ffcc00','#05dfd7', '#ec7373', '#d8b5b5', '#ffe196', '#75b79e','#333333', '#b0eacd', '#6e5773', '#d45d79', '#347474','#ee8572', '#deff8b', '#192965']),\n",
    "                    legend=alt.Legend(orient=\"left\",type = 'symbol')),\n",
    "    opacity=alt.OpacityValue(1),\n",
    "    #size=alt.Size('MONTHS:N',scale=alt.Scale(range=[0,600])),\n",
    "    tooltip=alt.Tooltip(['COUNTRIES','DEPARTURES','PERCENTAGE','PROPORTION'])\n",
    ").properties(\n",
    "    width=750,\n",
    "    padding=50,\n",
    "    height=650,\n",
    "    background='white',\n",
    "    title=alt.TitleParams(text='MONTHLY DEPARTURES')\n",
    "    ).configure_legend(\n",
    "    strokeColor='gray',\n",
    "    fillColor='#EEEEEE',\n",
    "    padding=10,\n",
    "    cornerRadius=20,\n",
    "    orient='top-left')\n",
    "chart2.configure_title(\n",
    "    fontSize=40,\n",
    "    font='Courier',\n",
    "    anchor='start',\n",
    "    align='right',\n",
    "    color='black',\n",
    "    ).configure_view(\n",
    "    stroke='transparent'\n",
    ")"
   ]
  },
  {
   "cell_type": "code",
   "execution_count": null,
   "metadata": {},
   "outputs": [],
   "source": []
  },
  {
   "cell_type": "markdown",
   "metadata": {},
   "source": [
    "QUESTIONS.\n",
    "\n",
    "1. In which month do foreigners frequently depart the country through the approved boarders.\n",
    "\n",
    "2. Which nationals depart the country the most in the year 2015 and in which month did they depart in their large numbers.\n",
    "\n",
    "3. What is the proportion of the departures who do not need visa to enter the country through the approved boarders.\n",
    "\n",
    "4. What is the proportion of other nationals that depart the country and in which month did they depart in their large numbers.\n",
    "\n",
    "5. Plot the distribution of the data in descending order of frequency. \n",
    "\n",
    "The data is composed of different proportions and in this case I am going to use stacked bar chart to visualize the various components since the monthly departures consist of different nationals.\n",
    "Sorting the the month departure in descending order of magnitude will allow us to see at a glance which month foreigners and nationals depart the country, However the proportion of other nationals which includes the citizens   departed is 23.29% which is 13876. Although other nationals constitute larger proportion of the departure in August, that is not the month in which the citizens like to depart from the country. It is in the month of April that the citizens depart the country in their large numbers through Ghana approved boarders: the proportion of other nationals that departed the country is 40.16%.\n",
    "\n",
    "\n",
    "\n",
    "From the above chart is is easy to note that it is in the month of August that most of the departure occurs and majority of the people that departed are outside the selected Nationalities.\n",
    "The data entails the information about foreigners and citizens departure through Ghana approved boarders , especially Kotoka International Airport on monthly bases for the year 2015. The data collection and the information is based on a selected Nationality.\n"
   ]
  }
 ],
 "metadata": {
  "kernelspec": {
   "display_name": "Python 3",
   "language": "python",
   "name": "python3"
  },
  "language_info": {
   "codemirror_mode": {
    "name": "ipython",
    "version": 3
   },
   "file_extension": ".py",
   "mimetype": "text/x-python",
   "name": "python",
   "nbconvert_exporter": "python",
   "pygments_lexer": "ipython3",
   "version": "3.7.4"
  }
 },
 "nbformat": 4,
 "nbformat_minor": 4
}
